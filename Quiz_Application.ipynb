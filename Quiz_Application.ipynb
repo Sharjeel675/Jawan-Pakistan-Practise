{
 "cells": [
  {
   "cell_type": "code",
   "execution_count": null,
   "id": "932b9325",
   "metadata": {},
   "outputs": [
    {
     "name": "stdout",
     "output_type": "stream",
     "text": [
      "What is the capital of France?\n",
      "A. Berlin\n",
      "B. Madrid\n",
      "C. Paris\n",
      "D. Rome\n"
     ]
    }
   ],
   "source": [
    "# List of questions, options, and answers\n",
    "quiz = [\n",
    "    (\"What is the capital of France?\", \"C\", [\"A. Berlin\", \"B. Madrid\", \"C. Paris\", \"D. Rome\"]),\n",
    "    (\"What is the largest planet?\", \"C\", [\"A. Earth\", \"B. Mars\", \"C. Jupiter\", \"D. Saturn\"])\n",
    "]\n",
    "\n",
    "# Initialize score\n",
    "score = 0\n",
    "\n",
    "# Loop through the quiz questions\n",
    "for question, correct_answer, options in quiz:\n",
    "    print(question)\n",
    "    for option in options:\n",
    "        print(option)\n",
    "    answer = input(\"Enter your answer (A, B, C, or D): \").upper()\n",
    "    \n",
    "    if answer == correct_answer:\n",
    "        print(\"Correct!\")\n",
    "        score += 1\n",
    "    else:\n",
    "        print(f\"Wrong! The correct answer was {correct_answer}.\")\n",
    "\n",
    "# Display the final score\n",
    "print(f\"Your score: {score}/{len(quiz)}\")\n"
   ]
  },
  {
   "cell_type": "code",
   "execution_count": null,
   "id": "10498d4e",
   "metadata": {},
   "outputs": [],
   "source": [
    "quiz = [\n",
    "    ('What is the capital of france:?','C',[\"A. Berlin\",\"B. Islamabad\",\"C. Karachi\",\"D. Lahore\"]),\n",
    "    ('What is the best Programming Language','B',[\"A. Java\",\"B. Python\",\"C. C++\",\"D. .Net\"])\n",
    "]\n",
    "\n",
    "score = 0\n",
    "\n",
    "for question,correct_answer,options in quiz:\n",
    "    print(question)\n",
    "    for option in options:\n",
    "        print(option)\n",
    "    answer = input(\"Enter your Answer(A,B,C, or D):\").upper()\n",
    "    \n",
    "    if answer == correct_answer:\n",
    "        print(\"Correct!\")\n",
    "        score +=1\n",
    "    else:\n",
    "        print(f\"Wrong Answer! The Correct Answer Was {correct_answer}\")\n",
    "print(f\"Your score: {score}/{len(quiz)}\")\n"
   ]
  },
  {
   "cell_type": "code",
   "execution_count": 1,
   "id": "c0c15353",
   "metadata": {},
   "outputs": [
    {
     "name": "stdout",
     "output_type": "stream",
     "text": [
      "What is the capital of France?\n",
      "A. Berlin\n",
      "B. Islamabad\n",
      "C. Paris\n",
      "D. Lahore\n",
      "Enter your answer (A, B, C, or D): C\n",
      "Correct!\n",
      "What is the best programming language?\n",
      "A. Java\n",
      "B. Python\n",
      "C. C++\n",
      "D. .Net\n",
      "Enter your answer (A, B, C, or D): b\n",
      "Correct!\n",
      "Your score: 2/2\n"
     ]
    }
   ],
   "source": [
    "quiz = [\n",
    "    ('What is the capital of France?', 'C', [\"A. Berlin\", \"B. Islamabad\", \"C. Paris\", \"D. Lahore\"]),\n",
    "    ('What is the best programming language?', 'B', [\"A. Java\", \"B. Python\", \"C. C++\", \"D. .Net\"])\n",
    "]\n",
    "\n",
    "score = 0\n",
    "\n",
    "for question, correct_answer, options in quiz:\n",
    "    print(question)\n",
    "    for option in options:\n",
    "        print(option)\n",
    "    answer = input(\"Enter your answer (A, B, C, or D): \").upper()\n",
    "    \n",
    "    if answer == correct_answer:\n",
    "        print(\"Correct!\")\n",
    "        score += 1\n",
    "    else:\n",
    "        print(f\"Wrong Answer! The correct answer was {correct_answer}.\")\n",
    "\n",
    "print(f\"Your score: {score}/{len(quiz)}\")\n"
   ]
  },
  {
   "cell_type": "code",
   "execution_count": null,
   "id": "125d63de",
   "metadata": {},
   "outputs": [],
   "source": []
  },
  {
   "cell_type": "code",
   "execution_count": null,
   "id": "9749621d",
   "metadata": {},
   "outputs": [],
   "source": []
  }
 ],
 "metadata": {
  "kernelspec": {
   "display_name": "Python 3 (ipykernel)",
   "language": "python",
   "name": "python3"
  },
  "language_info": {
   "codemirror_mode": {
    "name": "ipython",
    "version": 3
   },
   "file_extension": ".py",
   "mimetype": "text/x-python",
   "name": "python",
   "nbconvert_exporter": "python",
   "pygments_lexer": "ipython3",
   "version": "3.11.5"
  }
 },
 "nbformat": 4,
 "nbformat_minor": 5
}
