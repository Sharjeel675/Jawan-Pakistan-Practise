{
 "cells": [
  {
   "cell_type": "code",
   "execution_count": 8,
   "id": "5778dab6",
   "metadata": {},
   "outputs": [
    {
     "name": "stdout",
     "output_type": "stream",
     "text": [
      "Data successfully uploaded to the 'person' table in PostgreSQL.\n"
     ]
    }
   ],
   "source": [
    "import requests\n",
    "import pandas as pd\n",
    "from io import StringIO\n",
    "from sqlalchemy import create_engine\n",
    "import re\n",
    "\n",
    "df_column = [\"type (actionDetails 0)\",\n",
    "    \"url (actionDetails 0)\",\n",
    "    \"pageTitle (actionDetails 0)\", \n",
    "    \"pageIdAction (actionDetails 0)\" \n",
    "        \n",
    "    ]\n",
    "\n",
    "def copy_from_stringio(conn, df, person):\n",
    "    buffer = StringIO()\n",
    "    df.to_csv(buffer, index_label='id', header=False)\n",
    "    buffer.seek(0)\n",
    "\n",
    "    cursor = conn.cursor()\n",
    "    try:\n",
    "        cursor.copy_from(buffer, table, sep=\",\")\n",
    "        conn.commit()\n",
    "    except (Exception, psycopg2.DatabaseError) as error:\n",
    "        print(\"Error: %s\" % error)\n",
    "        conn.rollback()\n",
    "        cursor.close()\n",
    "        return 1\n",
    "    \n",
    "\n",
    "# URL to fetch the data\n",
    "url = \"https://demo.matomo.cloud/?module=API&method=Live.getLastVisitsDetails&idSite=1&period=day&date=yesterday&format=Tsv&token_auth=anonymous&translateColumnNames=1\"\n",
    "response = requests.get(url)\n",
    "\n",
    "# Check if the request was successful\n",
    "if response.status_code == 200:\n",
    "    pattern = re.compile(r'\\(actionDetails \\d+\\)')\n",
    "    filtered_columns = [column for column in df.columns if pattern.search(column)]\n",
    "\n",
    "   \n",
    "    if len(filtered_columns) > 1600:\n",
    "        filtered_columns = filtered_columns[:1600]\n",
    "\n",
    "    \n",
    "    df_filtered = df[filtered_columns]\n",
    "    \n",
    "  \n",
    "\n",
    "    # Optional: Print the list of found columns\n",
    "    # print(f\"Filtered columns: {filtered_columns}\")\n",
    "\n",
    "    # Database connection settings\n",
    "    username = 'postgres'\n",
    "    password = 'Sharjeel'\n",
    "    host = 'localhost'\n",
    "    port = '5432'\n",
    "    database = 'Pharma'\n",
    "\n",
    "    # Create the database connection engine\n",
    "    engine = create_engine(f'postgresql+psycopg2://{username}:{password}@{host}:{port}/{database}')\n",
    "    \n",
    "    # Specify the table name\n",
    "    table_name = 'person'\n",
    "    \n",
    "    # Upload the DataFrame to PostgreSQL\n",
    "    df_filtered.to_sql(table_name, engine, if_exists='replace', index=False)\n",
    "\n",
    "    print(f\"Data successfully uploaded to the '{table_name}' table in PostgreSQL.\")\n",
    "else:\n",
    "    print(f\"Failed to retrieve data. Status code: {response.status_code}\")"
   ]
  },
  {
   "cell_type": "code",
   "execution_count": 9,
   "id": "de1940bc",
   "metadata": {},
   "outputs": [
    {
     "data": {
      "text/plain": [
       "<Response [200]>"
      ]
     },
     "execution_count": 9,
     "metadata": {},
     "output_type": "execute_result"
    }
   ],
   "source": [
    "import requests\n",
    "import pandas as pd\n",
    "from io import StringIO\n",
    "from sqlalchemy import create_engine\n",
    "import re\n",
    "url = \"https://demo.matomo.cloud/?module=API&method=Live.getLastVisitsDetails&idSite=1&period=day&date=yesterday&format=Tsv&token_auth=anonymous&translateColumnNames=1\"\n",
    "response = requests.get(url)\n",
    "response"
   ]
  },
  {
   "cell_type": "code",
   "execution_count": null,
   "id": "e1fadab4",
   "metadata": {},
   "outputs": [],
   "source": []
  },
  {
   "cell_type": "code",
   "execution_count": null,
   "id": "a48972f0",
   "metadata": {},
   "outputs": [],
   "source": []
  }
 ],
 "metadata": {
  "kernelspec": {
   "display_name": "Python 3 (ipykernel)",
   "language": "python",
   "name": "python3"
  },
  "language_info": {
   "codemirror_mode": {
    "name": "ipython",
    "version": 3
   },
   "file_extension": ".py",
   "mimetype": "text/x-python",
   "name": "python",
   "nbconvert_exporter": "python",
   "pygments_lexer": "ipython3",
   "version": "3.11.5"
  }
 },
 "nbformat": 4,
 "nbformat_minor": 5
}
