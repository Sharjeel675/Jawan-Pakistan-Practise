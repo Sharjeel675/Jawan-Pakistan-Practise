{
 "cells": [
  {
   "cell_type": "code",
   "execution_count": 2,
   "id": "852f7c74",
   "metadata": {},
   "outputs": [
    {
     "name": "stdout",
     "output_type": "stream",
     "text": [
      "Hello Sharjeel,\n",
      "I am writing to extend a heartfelt invitation to you for a dinner I am hosting. Your pioneering work in computer science and your visionary ideas about computing have always inspired me. It would be an honor to discuss your contributions and insights over a meal.\n",
      "\n",
      "Hello Mubashir,\n",
      "I am writing to extend a heartfelt invitation to you for a dinner I am hosting. Your pioneering work in computer science and your visionary ideas about computing have always inspired me. It would be an honor to discuss your contributions and insights over a meal.\n",
      "\n",
      "Hello Raqib,\n",
      "I am writing to extend a heartfelt invitation to you for a dinner I am hosting. Your pioneering work in computer science and your visionary ideas about computing have always inspired me. It would be an honor to discuss your contributions and insights over a meal.\n",
      "\n"
     ]
    }
   ],
   "source": [
    "#Q1:\n",
    "Guest_List = ['Sharjeel','Mubashir','Raqib']\n",
    "\n",
    "Invitation = \"I am writing to extend a heartfelt invitation to you for a dinner I am hosting. Your pioneering work in computer science and your visionary ideas about computing have always inspired me. It would be an honor to discuss your contributions and insights over a meal.\"\n",
    "\n",
    "for guest in Guest_List:\n",
    "    print(f'Hello {guest},\\n{Invitation}\\n')"
   ]
  },
  {
   "cell_type": "code",
   "execution_count": 3,
   "id": "d3ff6bcc",
   "metadata": {},
   "outputs": [
    {
     "name": "stdout",
     "output_type": "stream",
     "text": [
      "\n",
      "Unfortunately, Mubashir can't make it to the dinner.\n",
      "\n",
      "Sending invitation to Sharjeel\n",
      "Sending invitation to Raqib\n",
      "Sending invitation to Lia\n",
      "Sending invitation to Kashif\n"
     ]
    }
   ],
   "source": [
    "#Q2:\n",
    "guest_list = [\"Mubashir\", \"Sharjeel\", \"Raqib\", \"Lia\"]\n",
    "\n",
    "guest_who_cant_make_it = \"Mubashir\"\n",
    "\n",
    "print(f\"\\nUnfortunately, {guest_who_cant_make_it} can't make it to the dinner.\\n\")\n",
    "\n",
    "new_guest = \"Kashif\"\n",
    "\n",
    "def update_guest_list(guest_list, guest_who_cant_make_it, new_guest):\n",
    " \n",
    "    guest_list.remove(guest_who_cant_make_it)\n",
    "   \n",
    "    guest_list.append(new_guest)\n",
    "    return guest_list\n",
    "\n",
    "\n",
    "updated_guest_list = update_guest_list(guest_list, guest_who_cant_make_it, new_guest)\n",
    "\n",
    "def send_invitations(guest_list):\n",
    "    for guest in guest_list:\n",
    "        print(f\"Sending invitation to {guest}\")\n",
    "\n",
    "\n",
    "send_invitations(updated_guest_list)\n"
   ]
  },
  {
   "cell_type": "code",
   "execution_count": 4,
   "id": "3c61e937",
   "metadata": {},
   "outputs": [
    {
     "name": "stdout",
     "output_type": "stream",
     "text": [
      "['Sharjeel', 'Raqib', 'Lia', 'Kashif']\n"
     ]
    }
   ],
   "source": [
    "#Q3:\n",
    "print(guest_list)"
   ]
  },
  {
   "cell_type": "code",
   "execution_count": 5,
   "id": "d9fc35e2",
   "metadata": {},
   "outputs": [
    {
     "name": "stdout",
     "output_type": "stream",
     "text": [
      "['Sharjeel', 'Muneeb', 'Ahmed', 'Raqib', 'Lia', 'Kashif']\n"
     ]
    }
   ],
   "source": [
    "guest_list.insert(1,'Ahmed')\n",
    "guest_list.insert(1,'Muneeb')\n",
    "print(guest_list)"
   ]
  },
  {
   "cell_type": "code",
   "execution_count": 6,
   "id": "da281432",
   "metadata": {},
   "outputs": [
    {
     "name": "stdout",
     "output_type": "stream",
     "text": [
      "['Sharjeel', 'Muneeb', 'Ahmed', 'Raqib', 'Lia', 'Kashif']\n"
     ]
    }
   ],
   "source": [
    "print(guest_list)"
   ]
  },
  {
   "cell_type": "code",
   "execution_count": 7,
   "id": "d9da90ed",
   "metadata": {},
   "outputs": [
    {
     "name": "stdout",
     "output_type": "stream",
     "text": [
      "['Sharjeel', 'Muneeb', 'Ahmed', 'Raqib', 'Lia', 'Kashif', 'Ali']\n"
     ]
    }
   ],
   "source": [
    "guest_list.append('Ali')\n",
    "print(guest_list)"
   ]
  },
  {
   "cell_type": "code",
   "execution_count": 8,
   "id": "bc98933e",
   "metadata": {},
   "outputs": [
    {
     "name": "stdout",
     "output_type": "stream",
     "text": [
      "['Sharjeel', 'Muneeb', 'Ahmed', 'Raqib', 'Lia', 'Kashif', 'Ali']\n"
     ]
    }
   ],
   "source": [
    "print(updated_guest_list)"
   ]
  },
  {
   "cell_type": "code",
   "execution_count": 9,
   "id": "403eb6e0",
   "metadata": {},
   "outputs": [
    {
     "name": "stdout",
     "output_type": "stream",
     "text": [
      "['Sharjeel', 'Muneeb', 'Ahmed', 'Raqib', 'Lia', 'Kashif']\n",
      "Sending invitation to Sharjeel\n",
      "Sending invitation to Muneeb\n",
      "Sending invitation to Ahmed\n",
      "Sending invitation to Raqib\n",
      "Sending invitation to Lia\n",
      "Sending invitation to Kashif\n"
     ]
    }
   ],
   "source": [
    "guest_list = [\"Sharjeel\", \"Raqib\", \"Lia\", \"Kashif\"]\n",
    "\n",
    "guest_list.insert(1, 'Ahmed')\n",
    "\n",
    "\n",
    "guest_list.insert(1, 'Muneeb')\n",
    "\n",
    "\n",
    "print(guest_list)\n",
    "\n",
    "\n",
    "def send_invitations(guest_list):\n",
    "    for guest in guest_list:\n",
    "        print(f\"Sending invitation to {guest}\")\n",
    "\n",
    "\n",
    "send_invitations(guest_list)\n"
   ]
  },
  {
   "cell_type": "code",
   "execution_count": 14,
   "id": "34a8c4a3",
   "metadata": {},
   "outputs": [
    {
     "name": "stdout",
     "output_type": "stream",
     "text": [
      "['Sharjeel', 'Muneeb', 'Ahmed', 'Raqib', 'Lia']\n",
      "\n",
      "Unfortunately, the new dinner table won't arrive in time, so I can invite only two people for dinner.\n",
      "\n",
      "Sorry Lia, I can't invite you to dinner.\n",
      "Sharjeel, you are still invited to dinner.\n",
      "Muneeb, you are still invited to dinner.\n",
      "Ahmed, you are still invited to dinner.\n",
      "Raqib, you are still invited to dinner.\n"
     ]
    }
   ],
   "source": [
    "#Q:4 \n",
    "print(guest_list)\n",
    "print(\"\\nUnfortunately, the new dinner table won't arrive in time, so I can invite only two people for dinner.\\n\")\n",
    "removed_guest = guest_list.pop()\n",
    "print(f\"Sorry {removed_guest}, I can't invite you to dinner.\")\n",
    "\n",
    "for guest in guest_list:\n",
    "    print(f\"{guest}, you are still invited to dinner.\")"
   ]
  },
  {
   "cell_type": "code",
   "execution_count": 15,
   "id": "9f42b792",
   "metadata": {},
   "outputs": [
    {
     "name": "stdout",
     "output_type": "stream",
     "text": [
      "\n",
      "Final guest list: []\n"
     ]
    }
   ],
   "source": [
    "del guest_list[:]\n",
    "print(f\"\\nFinal guest list: {guest_list}\")"
   ]
  },
  {
   "cell_type": "code",
   "execution_count": 16,
   "id": "51113767",
   "metadata": {},
   "outputs": [
    {
     "name": "stdout",
     "output_type": "stream",
     "text": [
      "apple\n"
     ]
    }
   ],
   "source": [
    "#Q5:\n",
    "fruits = ['apple', 'banana', 'cherry', 'date', 'elderberry', 'fig', 'grape', 'honeydew']\n",
    "first_fruit = fruits[0]\n",
    "print(first_fruit)"
   ]
  },
  {
   "cell_type": "code",
   "execution_count": 17,
   "id": "9bab7769",
   "metadata": {},
   "outputs": [
    {
     "name": "stdout",
     "output_type": "stream",
     "text": [
      "honeydew\n"
     ]
    }
   ],
   "source": [
    "last_fruit = fruits[-1]\n",
    "print(last_fruit)"
   ]
  },
  {
   "cell_type": "code",
   "execution_count": 18,
   "id": "7a410887",
   "metadata": {},
   "outputs": [
    {
     "name": "stdout",
     "output_type": "stream",
     "text": [
      "cherry\n"
     ]
    }
   ],
   "source": [
    "third_fruit = fruits[2]\n",
    "print(third_fruit) "
   ]
  },
  {
   "cell_type": "code",
   "execution_count": 19,
   "id": "8bba9328",
   "metadata": {},
   "outputs": [
    {
     "name": "stdout",
     "output_type": "stream",
     "text": [
      "grape\n"
     ]
    }
   ],
   "source": [
    "second_last_fruit = fruits[-2]\n",
    "print(second_last_fruit)"
   ]
  },
  {
   "cell_type": "code",
   "execution_count": 20,
   "id": "31bbcd33",
   "metadata": {},
   "outputs": [
    {
     "name": "stdout",
     "output_type": "stream",
     "text": [
      "['apple', 'banana', 'cherry']\n"
     ]
    }
   ],
   "source": [
    "first_three_fruits = fruits[:3]\n",
    "print(first_three_fruits)"
   ]
  },
  {
   "cell_type": "code",
   "execution_count": 21,
   "id": "78ec0b69",
   "metadata": {},
   "outputs": [
    {
     "name": "stdout",
     "output_type": "stream",
     "text": [
      "['fig', 'grape', 'honeydew']\n"
     ]
    }
   ],
   "source": [
    "last_three_fruits = fruits[-3:]\n",
    "print(last_three_fruits)"
   ]
  },
  {
   "cell_type": "code",
   "execution_count": 22,
   "id": "6ad7fe4f",
   "metadata": {},
   "outputs": [
    {
     "name": "stdout",
     "output_type": "stream",
     "text": [
      "['banana', 'cherry', 'date', 'elderberry']\n"
     ]
    }
   ],
   "source": [
    "middle_fruits = fruits[1:5]\n",
    "print(middle_fruits)"
   ]
  },
  {
   "cell_type": "code",
   "execution_count": 23,
   "id": "f900ab63",
   "metadata": {},
   "outputs": [
    {
     "name": "stdout",
     "output_type": "stream",
     "text": [
      "['apple', 'cherry', 'elderberry', 'grape']\n"
     ]
    }
   ],
   "source": [
    "every_second_fruit = fruits[::2]\n",
    "print(every_second_fruit)"
   ]
  },
  {
   "cell_type": "code",
   "execution_count": 24,
   "id": "390af455",
   "metadata": {},
   "outputs": [
    {
     "name": "stdout",
     "output_type": "stream",
     "text": [
      "['honeydew', 'grape', 'fig', 'elderberry', 'date', 'cherry', 'banana', 'apple']\n"
     ]
    }
   ],
   "source": [
    "reversed_fruits = fruits[::-1]\n",
    "print(reversed_fruits) "
   ]
  },
  {
   "cell_type": "code",
   "execution_count": null,
   "id": "49d19ed8",
   "metadata": {},
   "outputs": [],
   "source": []
  }
 ],
 "metadata": {
  "kernelspec": {
   "display_name": "Python 3 (ipykernel)",
   "language": "python",
   "name": "python3"
  },
  "language_info": {
   "codemirror_mode": {
    "name": "ipython",
    "version": 3
   },
   "file_extension": ".py",
   "mimetype": "text/x-python",
   "name": "python",
   "nbconvert_exporter": "python",
   "pygments_lexer": "ipython3",
   "version": "3.11.5"
  }
 },
 "nbformat": 4,
 "nbformat_minor": 5
}
