{
 "cells": [
  {
   "cell_type": "markdown",
   "id": "1e734e14",
   "metadata": {},
   "source": [
    "1. You need to store and manage employee records where each record includes an\n",
    "employee's ID, name, and department. (Use tuples to represent each employee record)."
   ]
  },
  {
   "cell_type": "code",
   "execution_count": 3,
   "id": "226654d1",
   "metadata": {},
   "outputs": [
    {
     "name": "stdout",
     "output_type": "stream",
     "text": [
      "Employee ID: 101, Name: Sharjeel Ahmed Khan, Department: Data Engineer\n",
      "Employee ID: 102, Name: Kashif, Department: Web Developer\n",
      "Employee ID: 103, Name: Faizan, Department: App Developer\n",
      "Employee ID: 104, Name: Hasnain, Department: Marketing\n"
     ]
    }
   ],
   "source": [
    "\n",
    "employee_records = [\n",
    "    (101, \"Sharjeel Ahmed Khan\", \"Data Engineer\"),\n",
    "    (102, \"Kashif\", \"Web Developer\"),\n",
    "    (103, \"Faizan\", \"App Developer\"),\n",
    "    (104, \"Hasnain\", \"Marketing\")\n",
    "]\n",
    "\n",
    "for record in employee_records:\n",
    "    print(f\"Employee ID: {record[0]}, Name: {record[1]}, Department: {record[2]}\")"
   ]
  },
  {
   "cell_type": "markdown",
   "id": "8db17671",
   "metadata": {},
   "source": [
    "2. You are managing an inventory system where each item has an item ID, description,\n",
    "and quantity available. (Use tuples to represent each inventory item)."
   ]
  },
  {
   "cell_type": "code",
   "execution_count": 10,
   "id": "b226deb9",
   "metadata": {},
   "outputs": [
    {
     "name": "stdout",
     "output_type": "stream",
     "text": [
      "Item_Id: 101, Description: Laptop, Quantity_Available: 25\n",
      "Item_Id: 102, Description: Mouse, Quantity_Available: 34\n",
      "Item_Id: 103, Description: Keyboard, Quantity_Available: 43\n",
      "Item_Id: 104, Description: Wire, Quantity_Available: 55\n"
     ]
    }
   ],
   "source": [
    "Inventory_System = [\n",
    "    (101 , 'Laptop' , 25),\n",
    "    (102 , 'Mouse' , 34),\n",
    "    (103 , 'Keyboard' , 43),\n",
    "    (104 , 'Wire' , 55)\n",
    "]\n",
    "for item in Inventory_System:\n",
    "    print(f'Item_Id: {item[0]}, Description: {item[1]}, Quantity_Available: {item[2]}')"
   ]
  },
  {
   "cell_type": "markdown",
   "id": "9e564a79",
   "metadata": {},
   "source": [
    "3. You need to store the dates and times of scheduled events, like meetings or\n",
    "appointments. (Use tuples to store date and time information)."
   ]
  },
  {
   "cell_type": "code",
   "execution_count": 13,
   "id": "3507c7d4",
   "metadata": {},
   "outputs": [
    {
     "name": "stdout",
     "output_type": "stream",
     "text": [
      "Event scheduled on 2024-08-15 at 8:30\n",
      "Event scheduled on 2024-08-18 at 9:30\n",
      "Event scheduled on 2024-08-20 at 11:00\n"
     ]
    }
   ],
   "source": [
    "event_1 = (\"2024-08-15\", \"8:30\")\n",
    "event_2 = (\"2024-08-18\", \"9:30\")\n",
    "event_3 = (\"2024-08-20\", \"11:00\")\n",
    "\n",
    "\n",
    "events = [event_1, event_2, event_3]\n",
    "\n",
    "for event in events:\n",
    "    date, time = event\n",
    "    print(f\"Event scheduled on {date} at {time}\")\n"
   ]
  },
  {
   "cell_type": "markdown",
   "id": "9b59340a",
   "metadata": {},
   "source": [
    "4. Store a company's employee details, organized by department. (Use dictionary in\n",
    "dictionary)."
   ]
  },
  {
   "cell_type": "code",
   "execution_count": 15,
   "id": "b88d78b8",
   "metadata": {},
   "outputs": [
    {
     "name": "stdout",
     "output_type": "stream",
     "text": [
      "{'BAI-22': {'Name': 'Sharjeel', 'Age': 21, 'Gender': 'Male'}, 'BAI-23': {'Name': 'Ahmed', 'Age': 23, 'Gender': 'Male'}, 'BAI-24': {'Name': 'Umair', 'Age': 32, 'Gender': 'Male'}}\n"
     ]
    }
   ],
   "source": [
    "Employe_Detail = {\n",
    "    'BAI-22' : {'Name' : 'Sharjeel' , 'Age' : 21 , 'Gender' : 'Male'},\n",
    "    'BAI-23' : {'Name' : 'Ahmed' , 'Age' : 23 , 'Gender' : 'Male'},\n",
    "    'BAI-24' : {'Name' : 'Umair' , 'Age' : 32 , 'Gender' : 'Male'}\n",
    "}\n",
    "print(Employe_Detail)"
   ]
  },
  {
   "cell_type": "code",
   "execution_count": null,
   "id": "38d5b513",
   "metadata": {},
   "outputs": [],
   "source": []
  }
 ],
 "metadata": {
  "kernelspec": {
   "display_name": "Python 3 (ipykernel)",
   "language": "python",
   "name": "python3"
  },
  "language_info": {
   "codemirror_mode": {
    "name": "ipython",
    "version": 3
   },
   "file_extension": ".py",
   "mimetype": "text/x-python",
   "name": "python",
   "nbconvert_exporter": "python",
   "pygments_lexer": "ipython3",
   "version": "3.11.5"
  }
 },
 "nbformat": 4,
 "nbformat_minor": 5
}
