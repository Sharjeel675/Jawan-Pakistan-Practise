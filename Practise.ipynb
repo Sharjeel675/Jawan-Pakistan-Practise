{
 "cells": [
  {
   "cell_type": "markdown",
   "id": "b89a8c66",
   "metadata": {},
   "source": [
    "# Type_Casting"
   ]
  },
  {
   "cell_type": "code",
   "execution_count": 1,
   "id": "b9e8470b",
   "metadata": {},
   "outputs": [
    {
     "name": "stdout",
     "output_type": "stream",
     "text": [
      "Hello World\n"
     ]
    }
   ],
   "source": [
    "print('Hello World')"
   ]
  },
  {
   "cell_type": "code",
   "execution_count": 2,
   "id": "fc62d62e",
   "metadata": {},
   "outputs": [
    {
     "name": "stdout",
     "output_type": "stream",
     "text": [
      "Shar\n"
     ]
    }
   ],
   "source": [
    "print(\"Shar\")"
   ]
  },
  {
   "cell_type": "code",
   "execution_count": 3,
   "id": "48e3081f",
   "metadata": {},
   "outputs": [
    {
     "name": "stdout",
     "output_type": "stream",
     "text": [
      "<class 'str'>\n"
     ]
    }
   ],
   "source": [
    "print(type(\"Hello WOrld\"))"
   ]
  },
  {
   "cell_type": "code",
   "execution_count": 4,
   "id": "88d91008",
   "metadata": {},
   "outputs": [
    {
     "name": "stdout",
     "output_type": "stream",
     "text": [
      "5\n"
     ]
    }
   ],
   "source": [
    "a = 5\n",
    "print(a)"
   ]
  },
  {
   "cell_type": "code",
   "execution_count": 5,
   "id": "c0ee0643",
   "metadata": {},
   "outputs": [
    {
     "name": "stdout",
     "output_type": "stream",
     "text": [
      "123\n",
      "<class 'int'>\n"
     ]
    }
   ],
   "source": [
    "a = '123'\n",
    "print(a)\n",
    "type(a)\n",
    "a = int(\"123\")\n",
    "print(type(a))"
   ]
  },
  {
   "cell_type": "code",
   "execution_count": 6,
   "id": "27da2f65",
   "metadata": {},
   "outputs": [
    {
     "name": "stdout",
     "output_type": "stream",
     "text": [
      "123\n"
     ]
    }
   ],
   "source": [
    "var  = a\n",
    "a = '123'\n",
    "print(a)"
   ]
  },
  {
   "cell_type": "code",
   "execution_count": 7,
   "id": "4ece4b6b",
   "metadata": {},
   "outputs": [
    {
     "data": {
      "text/plain": [
       "str"
      ]
     },
     "execution_count": 7,
     "metadata": {},
     "output_type": "execute_result"
    }
   ],
   "source": [
    "type(a)"
   ]
  },
  {
   "cell_type": "code",
   "execution_count": 8,
   "id": "30487ef7",
   "metadata": {},
   "outputs": [
    {
     "name": "stdout",
     "output_type": "stream",
     "text": [
      "123\n"
     ]
    }
   ],
   "source": [
    "a = int(\"123\")\n",
    "print(a)"
   ]
  },
  {
   "cell_type": "code",
   "execution_count": 9,
   "id": "b3d57856",
   "metadata": {},
   "outputs": [
    {
     "data": {
      "text/plain": [
       "int"
      ]
     },
     "execution_count": 9,
     "metadata": {},
     "output_type": "execute_result"
    }
   ],
   "source": [
    "type(a)"
   ]
  },
  {
   "cell_type": "code",
   "execution_count": 10,
   "id": "3a40dce6",
   "metadata": {},
   "outputs": [
    {
     "name": "stdout",
     "output_type": "stream",
     "text": [
      "<class 'str'>\n",
      "123\n"
     ]
    },
    {
     "data": {
      "text/plain": [
       "int"
      ]
     },
     "execution_count": 10,
     "metadata": {},
     "output_type": "execute_result"
    }
   ],
   "source": [
    "a = '123'\n",
    "print(type(a))\n",
    "a = int(a)\n",
    "print(a)\n",
    "type(a)"
   ]
  },
  {
   "cell_type": "code",
   "execution_count": 11,
   "id": "b7d615eb",
   "metadata": {},
   "outputs": [
    {
     "name": "stdout",
     "output_type": "stream",
     "text": [
      "123\n"
     ]
    }
   ],
   "source": [
    "a = '123'\n",
    "print(a)"
   ]
  },
  {
   "cell_type": "code",
   "execution_count": 12,
   "id": "88a68adb",
   "metadata": {},
   "outputs": [
    {
     "name": "stdout",
     "output_type": "stream",
     "text": [
      "<class 'int'>\n"
     ]
    }
   ],
   "source": [
    "a = int(a)\n",
    "print(type(a))"
   ]
  },
  {
   "cell_type": "code",
   "execution_count": 13,
   "id": "5d5b6dbb",
   "metadata": {},
   "outputs": [
    {
     "name": "stdout",
     "output_type": "stream",
     "text": [
      "1234567\n"
     ]
    },
    {
     "data": {
      "text/plain": [
       "str"
      ]
     },
     "execution_count": 13,
     "metadata": {},
     "output_type": "execute_result"
    }
   ],
   "source": [
    "b = '1234567'\n",
    "print(b)\n",
    "type(b)"
   ]
  },
  {
   "cell_type": "code",
   "execution_count": 14,
   "id": "c0820260",
   "metadata": {},
   "outputs": [
    {
     "data": {
      "text/plain": [
       "float"
      ]
     },
     "execution_count": 14,
     "metadata": {},
     "output_type": "execute_result"
    }
   ],
   "source": [
    "b = float('1234567')\n",
    "type(b)"
   ]
  },
  {
   "cell_type": "code",
   "execution_count": 15,
   "id": "5fff7e00",
   "metadata": {},
   "outputs": [
    {
     "name": "stdout",
     "output_type": "stream",
     "text": [
      "1234567.0\n"
     ]
    }
   ],
   "source": [
    "print(b)"
   ]
  },
  {
   "cell_type": "markdown",
   "id": "56d7497c",
   "metadata": {},
   "source": [
    "# List"
   ]
  },
  {
   "cell_type": "code",
   "execution_count": 16,
   "id": "58134a66",
   "metadata": {},
   "outputs": [
    {
     "name": "stdout",
     "output_type": "stream",
     "text": [
      "['Mubashir', 'Raqib', 'Sharjeel', 'Ali', 'Faraz']\n"
     ]
    }
   ],
   "source": [
    "salary = [\"Mubashir\",\"Raqib\",\"Sharjeel\",\"Ali\",\"Faraz\"]\n",
    "print(salary)"
   ]
  },
  {
   "cell_type": "markdown",
   "id": "241c0c63",
   "metadata": {},
   "source": [
    "# Indexing"
   ]
  },
  {
   "cell_type": "code",
   "execution_count": 17,
   "id": "fc9a9b5b",
   "metadata": {},
   "outputs": [
    {
     "name": "stdout",
     "output_type": "stream",
     "text": [
      "Raqib\n"
     ]
    }
   ],
   "source": [
    "print(salary[1])"
   ]
  },
  {
   "cell_type": "code",
   "execution_count": 18,
   "id": "7a61f6d1",
   "metadata": {},
   "outputs": [
    {
     "name": "stdout",
     "output_type": "stream",
     "text": [
      "Ali\n"
     ]
    }
   ],
   "source": [
    "print(salary[3])"
   ]
  },
  {
   "cell_type": "markdown",
   "id": "1307ae9f",
   "metadata": {},
   "source": [
    "# Slicing "
   ]
  },
  {
   "cell_type": "code",
   "execution_count": 19,
   "id": "2bd48b44",
   "metadata": {},
   "outputs": [
    {
     "name": "stdout",
     "output_type": "stream",
     "text": [
      "['Raqib']\n"
     ]
    }
   ],
   "source": [
    "print(salary[1:2])"
   ]
  },
  {
   "cell_type": "code",
   "execution_count": 20,
   "id": "57411eb1",
   "metadata": {},
   "outputs": [
    {
     "name": "stdout",
     "output_type": "stream",
     "text": [
      "['Sharjeel', 'Ali', 'Faraz']\n"
     ]
    }
   ],
   "source": [
    "print(salary[2:5])"
   ]
  },
  {
   "cell_type": "code",
   "execution_count": 21,
   "id": "43e56789",
   "metadata": {},
   "outputs": [
    {
     "data": {
      "text/plain": [
       "['__add__',\n",
       " '__class__',\n",
       " '__class_getitem__',\n",
       " '__contains__',\n",
       " '__delattr__',\n",
       " '__delitem__',\n",
       " '__dir__',\n",
       " '__doc__',\n",
       " '__eq__',\n",
       " '__format__',\n",
       " '__ge__',\n",
       " '__getattribute__',\n",
       " '__getitem__',\n",
       " '__getstate__',\n",
       " '__gt__',\n",
       " '__hash__',\n",
       " '__iadd__',\n",
       " '__imul__',\n",
       " '__init__',\n",
       " '__init_subclass__',\n",
       " '__iter__',\n",
       " '__le__',\n",
       " '__len__',\n",
       " '__lt__',\n",
       " '__mul__',\n",
       " '__ne__',\n",
       " '__new__',\n",
       " '__reduce__',\n",
       " '__reduce_ex__',\n",
       " '__repr__',\n",
       " '__reversed__',\n",
       " '__rmul__',\n",
       " '__setattr__',\n",
       " '__setitem__',\n",
       " '__sizeof__',\n",
       " '__str__',\n",
       " '__subclasshook__',\n",
       " 'append',\n",
       " 'clear',\n",
       " 'copy',\n",
       " 'count',\n",
       " 'extend',\n",
       " 'index',\n",
       " 'insert',\n",
       " 'pop',\n",
       " 'remove',\n",
       " 'reverse',\n",
       " 'sort']"
      ]
     },
     "execution_count": 21,
     "metadata": {},
     "output_type": "execute_result"
    }
   ],
   "source": [
    "dir(list)"
   ]
  },
  {
   "cell_type": "code",
   "execution_count": 22,
   "id": "f00aa6d8",
   "metadata": {},
   "outputs": [
    {
     "name": "stdout",
     "output_type": "stream",
     "text": [
      "Faraz Bhaii\n"
     ]
    }
   ],
   "source": [
    "print(\"Faraz Bhaii\")"
   ]
  },
  {
   "cell_type": "code",
   "execution_count": null,
   "id": "6a69202d",
   "metadata": {},
   "outputs": [],
   "source": [
    "class Name:\n",
    "    def Input_Name(self):\n",
    "        self.id = str(input(\"Please Enter Your Id: \"))\n",
    "        self.name = str(input(\"Please Enter Your Name: \"))\n",
    "        self.salary = float(input(\"Please Enter Your Salary\"))\n",
    "    def display(self):\n",
    "        print('Name.id',self.id)\n",
    "        print('Name.name',self.name)\n",
    "        print('Name.salary',self.salary)\n",
    "    def reverse_Name(self):\n",
    "        reverse_name = f\"{self.id} {self.name} {self.salary}\"\n",
    "        print('reverse_Name',self.reverse_Name)\n",
    "        \n",
    "x = Name()\n",
    "x.Input_Name()\n",
    "x.reverse_Name()\n",
    "x.display()\n"
   ]
  },
  {
   "cell_type": "code",
   "execution_count": null,
   "id": "36149923",
   "metadata": {},
   "outputs": [],
   "source": [
    "print(\"Hello World\")"
   ]
  },
  {
   "cell_type": "code",
   "execution_count": null,
   "id": "5b96f589",
   "metadata": {},
   "outputs": [],
   "source": [
    "Reverse_Method = \"Hello MY Name is Sharjeel Ahmed Khan\"[::-1]\n",
    "print(Reverse_Method)"
   ]
  },
  {
   "cell_type": "code",
   "execution_count": null,
   "id": "06758ab6",
   "metadata": {},
   "outputs": [],
   "source": []
  },
  {
   "cell_type": "code",
   "execution_count": null,
   "id": "355ff1a9",
   "metadata": {
    "scrolled": true
   },
   "outputs": [],
   "source": [
    "var1 = input(\"First_Name: \")\n",
    "var2 = input(\"Second_Name: \")\n",
    "print(var1[::-1] ,var2[::-1])"
   ]
  },
  {
   "cell_type": "code",
   "execution_count": null,
   "id": "bdba4696",
   "metadata": {},
   "outputs": [],
   "source": [
    "user_a = input(\"Enter Number\")\n",
    "user_b = input(\"Enter Number\")\n",
    "sum  = int(user_a) + int(user_b)\n",
    "print(sum)"
   ]
  },
  {
   "cell_type": "code",
   "execution_count": null,
   "id": "3032381b",
   "metadata": {},
   "outputs": [],
   "source": [
    "var1 = input(\"Enter First Number: \")\n",
    "var2 = input(\"Enter Second Number: \")\n",
    "sum  = float(var1) * float(var2)\n",
    "print(sum)"
   ]
  },
  {
   "cell_type": "code",
   "execution_count": null,
   "id": "52bf12d6",
   "metadata": {},
   "outputs": [],
   "source": [
    "var1 = input(\"Enter First Number: \")\n",
    "var2 = input(\"Enter Second Number: \")\n",
    "sum = int(var1) / int(var2)\n",
    "print(sum)"
   ]
  },
  {
   "cell_type": "code",
   "execution_count": null,
   "id": "f72eabf6",
   "metadata": {},
   "outputs": [],
   "source": []
  },
  {
   "cell_type": "code",
   "execution_count": null,
   "id": "f80a1085",
   "metadata": {},
   "outputs": [],
   "source": []
  },
  {
   "cell_type": "code",
   "execution_count": null,
   "id": "2a9b6ca8",
   "metadata": {},
   "outputs": [],
   "source": []
  }
 ],
 "metadata": {
  "kernelspec": {
   "display_name": "Python 3 (ipykernel)",
   "language": "python",
   "name": "python3"
  },
  "language_info": {
   "codemirror_mode": {
    "name": "ipython",
    "version": 3
   },
   "file_extension": ".py",
   "mimetype": "text/x-python",
   "name": "python",
   "nbconvert_exporter": "python",
   "pygments_lexer": "ipython3",
   "version": "3.11.5"
  }
 },
 "nbformat": 4,
 "nbformat_minor": 5
}
