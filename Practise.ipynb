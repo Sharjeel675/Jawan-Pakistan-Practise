{
 "cells": [
  {
   "cell_type": "markdown",
   "id": "b89a8c66",
   "metadata": {},
   "source": [
    "# Type_Casting"
   ]
  },
  {
   "cell_type": "code",
   "execution_count": 1,
   "id": "b9e8470b",
   "metadata": {},
   "outputs": [
    {
     "name": "stdout",
     "output_type": "stream",
     "text": [
      "Hello World\n"
     ]
    }
   ],
   "source": [
    "print('Hello World')"
   ]
  },
  {
   "cell_type": "code",
   "execution_count": 2,
   "id": "fc62d62e",
   "metadata": {},
   "outputs": [
    {
     "name": "stdout",
     "output_type": "stream",
     "text": [
      "Shar\n"
     ]
    }
   ],
   "source": [
    "print(\"Shar\")"
   ]
  },
  {
   "cell_type": "code",
   "execution_count": 3,
   "id": "48e3081f",
   "metadata": {},
   "outputs": [
    {
     "name": "stdout",
     "output_type": "stream",
     "text": [
      "<class 'str'>\n"
     ]
    }
   ],
   "source": [
    "print(type(\"Hello WOrld\"))"
   ]
  },
  {
   "cell_type": "code",
   "execution_count": 4,
   "id": "88d91008",
   "metadata": {},
   "outputs": [
    {
     "name": "stdout",
     "output_type": "stream",
     "text": [
      "5\n"
     ]
    }
   ],
   "source": [
    "a = 5\n",
    "print(a)"
   ]
  },
  {
   "cell_type": "code",
   "execution_count": 5,
   "id": "c0ee0643",
   "metadata": {},
   "outputs": [
    {
     "name": "stdout",
     "output_type": "stream",
     "text": [
      "123\n",
      "<class 'int'>\n"
     ]
    }
   ],
   "source": [
    "a = '123'\n",
    "print(a)\n",
    "type(a)\n",
    "a = int(\"123\")\n",
    "print(type(a))"
   ]
  },
  {
   "cell_type": "code",
   "execution_count": 6,
   "id": "27da2f65",
   "metadata": {},
   "outputs": [
    {
     "name": "stdout",
     "output_type": "stream",
     "text": [
      "123\n"
     ]
    }
   ],
   "source": [
    "var  = a\n",
    "a = '123'\n",
    "print(a)"
   ]
  },
  {
   "cell_type": "code",
   "execution_count": 7,
   "id": "4ece4b6b",
   "metadata": {},
   "outputs": [
    {
     "data": {
      "text/plain": [
       "str"
      ]
     },
     "execution_count": 7,
     "metadata": {},
     "output_type": "execute_result"
    }
   ],
   "source": [
    "type(a)"
   ]
  },
  {
   "cell_type": "code",
   "execution_count": 8,
   "id": "30487ef7",
   "metadata": {},
   "outputs": [
    {
     "name": "stdout",
     "output_type": "stream",
     "text": [
      "123\n"
     ]
    }
   ],
   "source": [
    "a = int(\"123\")\n",
    "print(a)"
   ]
  },
  {
   "cell_type": "code",
   "execution_count": 9,
   "id": "b3d57856",
   "metadata": {},
   "outputs": [
    {
     "data": {
      "text/plain": [
       "int"
      ]
     },
     "execution_count": 9,
     "metadata": {},
     "output_type": "execute_result"
    }
   ],
   "source": [
    "type(a)"
   ]
  },
  {
   "cell_type": "code",
   "execution_count": 10,
   "id": "3a40dce6",
   "metadata": {},
   "outputs": [
    {
     "name": "stdout",
     "output_type": "stream",
     "text": [
      "<class 'str'>\n",
      "123\n"
     ]
    },
    {
     "data": {
      "text/plain": [
       "int"
      ]
     },
     "execution_count": 10,
     "metadata": {},
     "output_type": "execute_result"
    }
   ],
   "source": [
    "a = '123'\n",
    "print(type(a))\n",
    "a = int(a)\n",
    "print(a)\n",
    "type(a)"
   ]
  },
  {
   "cell_type": "code",
   "execution_count": 11,
   "id": "b7d615eb",
   "metadata": {},
   "outputs": [
    {
     "name": "stdout",
     "output_type": "stream",
     "text": [
      "123\n"
     ]
    }
   ],
   "source": [
    "a = '123'\n",
    "print(a)"
   ]
  },
  {
   "cell_type": "code",
   "execution_count": 12,
   "id": "88a68adb",
   "metadata": {},
   "outputs": [
    {
     "name": "stdout",
     "output_type": "stream",
     "text": [
      "<class 'int'>\n"
     ]
    }
   ],
   "source": [
    "a = int(a)\n",
    "print(type(a))"
   ]
  },
  {
   "cell_type": "code",
   "execution_count": 13,
   "id": "5d5b6dbb",
   "metadata": {},
   "outputs": [
    {
     "name": "stdout",
     "output_type": "stream",
     "text": [
      "1234567\n"
     ]
    },
    {
     "data": {
      "text/plain": [
       "str"
      ]
     },
     "execution_count": 13,
     "metadata": {},
     "output_type": "execute_result"
    }
   ],
   "source": [
    "b = '1234567'\n",
    "print(b)\n",
    "type(b)"
   ]
  },
  {
   "cell_type": "code",
   "execution_count": 14,
   "id": "c0820260",
   "metadata": {},
   "outputs": [
    {
     "data": {
      "text/plain": [
       "float"
      ]
     },
     "execution_count": 14,
     "metadata": {},
     "output_type": "execute_result"
    }
   ],
   "source": [
    "b = float('1234567')\n",
    "type(b)"
   ]
  },
  {
   "cell_type": "code",
   "execution_count": 15,
   "id": "5fff7e00",
   "metadata": {},
   "outputs": [
    {
     "name": "stdout",
     "output_type": "stream",
     "text": [
      "1234567.0\n"
     ]
    }
   ],
   "source": [
    "print(b)"
   ]
  },
  {
   "cell_type": "markdown",
   "id": "56d7497c",
   "metadata": {},
   "source": [
    "# List"
   ]
  },
  {
   "cell_type": "code",
   "execution_count": 16,
   "id": "58134a66",
   "metadata": {},
   "outputs": [
    {
     "name": "stdout",
     "output_type": "stream",
     "text": [
      "['Mubashir', 'Raqib', 'Sharjeel', 'Ali', 'Faraz']\n"
     ]
    }
   ],
   "source": [
    "salary = [\"Mubashir\",\"Raqib\",\"Sharjeel\",\"Ali\",\"Faraz\"]\n",
    "print(salary)"
   ]
  },
  {
   "cell_type": "markdown",
   "id": "241c0c63",
   "metadata": {},
   "source": [
    "# Indexing"
   ]
  },
  {
   "cell_type": "code",
   "execution_count": 17,
   "id": "fc9a9b5b",
   "metadata": {},
   "outputs": [
    {
     "name": "stdout",
     "output_type": "stream",
     "text": [
      "Raqib\n"
     ]
    }
   ],
   "source": [
    "print(salary[1])"
   ]
  },
  {
   "cell_type": "code",
   "execution_count": 18,
   "id": "7a61f6d1",
   "metadata": {},
   "outputs": [
    {
     "name": "stdout",
     "output_type": "stream",
     "text": [
      "Ali\n"
     ]
    }
   ],
   "source": [
    "print(salary[3])"
   ]
  },
  {
   "cell_type": "markdown",
   "id": "1307ae9f",
   "metadata": {},
   "source": [
    "# Slicing "
   ]
  },
  {
   "cell_type": "code",
   "execution_count": 19,
   "id": "2bd48b44",
   "metadata": {},
   "outputs": [
    {
     "name": "stdout",
     "output_type": "stream",
     "text": [
      "['Raqib']\n"
     ]
    }
   ],
   "source": [
    "print(salary[1:2])"
   ]
  },
  {
   "cell_type": "code",
   "execution_count": 20,
   "id": "57411eb1",
   "metadata": {},
   "outputs": [
    {
     "name": "stdout",
     "output_type": "stream",
     "text": [
      "['Sharjeel', 'Ali', 'Faraz']\n"
     ]
    }
   ],
   "source": [
    "print(salary[2:5])"
   ]
  },
  {
   "cell_type": "code",
   "execution_count": 21,
   "id": "43e56789",
   "metadata": {},
   "outputs": [
    {
     "data": {
      "text/plain": [
       "['__add__',\n",
       " '__class__',\n",
       " '__class_getitem__',\n",
       " '__contains__',\n",
       " '__delattr__',\n",
       " '__delitem__',\n",
       " '__dir__',\n",
       " '__doc__',\n",
       " '__eq__',\n",
       " '__format__',\n",
       " '__ge__',\n",
       " '__getattribute__',\n",
       " '__getitem__',\n",
       " '__getstate__',\n",
       " '__gt__',\n",
       " '__hash__',\n",
       " '__iadd__',\n",
       " '__imul__',\n",
       " '__init__',\n",
       " '__init_subclass__',\n",
       " '__iter__',\n",
       " '__le__',\n",
       " '__len__',\n",
       " '__lt__',\n",
       " '__mul__',\n",
       " '__ne__',\n",
       " '__new__',\n",
       " '__reduce__',\n",
       " '__reduce_ex__',\n",
       " '__repr__',\n",
       " '__reversed__',\n",
       " '__rmul__',\n",
       " '__setattr__',\n",
       " '__setitem__',\n",
       " '__sizeof__',\n",
       " '__str__',\n",
       " '__subclasshook__',\n",
       " 'append',\n",
       " 'clear',\n",
       " 'copy',\n",
       " 'count',\n",
       " 'extend',\n",
       " 'index',\n",
       " 'insert',\n",
       " 'pop',\n",
       " 'remove',\n",
       " 'reverse',\n",
       " 'sort']"
      ]
     },
     "execution_count": 21,
     "metadata": {},
     "output_type": "execute_result"
    }
   ],
   "source": [
    "dir(list)"
   ]
  },
  {
   "cell_type": "code",
   "execution_count": 22,
   "id": "f00aa6d8",
   "metadata": {},
   "outputs": [
    {
     "name": "stdout",
     "output_type": "stream",
     "text": [
      "Faraz Bhaii\n"
     ]
    }
   ],
   "source": [
    "print(\"Faraz Bhaii\")"
   ]
  },
  {
   "cell_type": "code",
   "execution_count": null,
   "id": "6a69202d",
   "metadata": {},
   "outputs": [],
   "source": [
    "class Name:\n",
    "    def Input_Name(self):\n",
    "        self.id = str(input(\"Please Enter Your Id: \"))\n",
    "        self.name = str(input(\"Please Enter Your Name: \"))\n",
    "        self.salary = float(input(\"Please Enter Your Salary\"))\n",
    "    def display(self):\n",
    "        print('Name.id',self.id)\n",
    "        print('Name.name',self.name)\n",
    "        print('Name.salary',self.salary)\n",
    "    def reverse_Name(self):\n",
    "        reverse_name = f\"{self.id} {self.name} {self.salary}\"\n",
    "        print('reverse_Name',self.reverse_Name)\n",
    "        \n",
    "x = Name()\n",
    "x.Input_Name()\n",
    "x.reverse_Name()\n",
    "x.display()\n"
   ]
  },
  {
   "cell_type": "code",
   "execution_count": null,
   "id": "36149923",
   "metadata": {},
   "outputs": [],
   "source": [
    "print(\"Hello World\")"
   ]
  },
  {
   "cell_type": "code",
   "execution_count": null,
   "id": "cfac9da3",
   "metadata": {},
   "outputs": [],
   "source": [
    "Reverse_Method = \"Hello MY Name is Sharjeel Ahmed Khan\"[::-1]\n",
    "print(Reverse_Method)"
   ]
  },
  {
   "cell_type": "code",
   "execution_count": null,
   "id": "661ef532",
   "metadata": {},
   "outputs": [],
   "source": []
  },
  {
   "cell_type": "code",
   "execution_count": null,
   "id": "54e49ca6",
   "metadata": {
    "scrolled": true
   },
   "outputs": [],
   "source": [
    "var1 = input(\"First_Name: \")\n",
    "var2 = input(\"Second_Name: \")\n",
    "print(var1[::-1] ,var2[::-1])"
   ]
  },
  {
   "cell_type": "code",
   "execution_count": null,
   "id": "07631ef7",
   "metadata": {},
   "outputs": [],
   "source": [
    "user_a = input(\"Enter Number\")\n",
    "user_b = input(\"Enter Number\")\n",
    "sum  = int(user_a) + int(user_b)\n",
    "print(sum)"
   ]
  },
  {
   "cell_type": "code",
   "execution_count": null,
   "id": "de44aaed",
   "metadata": {},
   "outputs": [],
   "source": [
    "var1 = input(\"Enter First Number: \")\n",
    "var2 = input(\"Enter Second Number: \")\n",
    "sum  = float(var1) * float(var2)\n",
    "print(sum)"
   ]
  },
  {
   "cell_type": "code",
   "execution_count": null,
   "id": "f4ba0310",
   "metadata": {},
   "outputs": [],
   "source": [
    "var1 = input(\"Enter First Number: \")\n",
    "var2 = input(\"Enter Second Number: \")\n",
    "sum = int(var1) / int(var2)\n",
    "print(sum)"
   ]
  },
  {
   "cell_type": "code",
   "execution_count": 2,
   "id": "cd453dcd",
   "metadata": {},
   "outputs": [
    {
     "name": "stdout",
     "output_type": "stream",
     "text": [
      "Enter a number: 4\n",
      "4 is even.\n"
     ]
    }
   ],
   "source": [
    "# Q:8\n",
    "number = int(input(\"Enter a number: \"))\n",
    "if number % 2 == 0:\n",
    "    print(f\"{number} is even.\")\n",
    "else:\n",
    "    print(f\"{number} is odd.\")"
   ]
  },
  {
   "cell_type": "code",
   "execution_count": 4,
   "id": "9e4e4037",
   "metadata": {},
   "outputs": [
    {
     "name": "stdout",
     "output_type": "stream",
     "text": [
      "Enter a Number: 4\n",
      "4 is even\n"
     ]
    }
   ],
   "source": [
    "number = int(input(\"Enter a Number: \"))\n",
    "if number % 2 == 0:\n",
    "    print(f\"{number} is even\")\n",
    "else:\n",
    "    print((f\"{number} is odd\"))"
   ]
  },
  {
   "cell_type": "code",
   "execution_count": 6,
   "id": "76bad8a3",
   "metadata": {},
   "outputs": [
    {
     "name": "stdout",
     "output_type": "stream",
     "text": [
      "Enter the Number: 3\n",
      "3 is Odd\n"
     ]
    }
   ],
   "source": [
    "number = int(input(\"Enter the Number: \"))\n",
    "if number % 2 == 0:\n",
    "    print(f\"{number} is Even\")\n",
    "else:\n",
    "    print(f\"{number} is Odd\")"
   ]
  },
  {
   "cell_type": "code",
   "execution_count": 7,
   "id": "125edc7f",
   "metadata": {},
   "outputs": [
    {
     "name": "stdout",
     "output_type": "stream",
     "text": [
      "6\n"
     ]
    }
   ],
   "source": [
    "list1 = [2,5,6,7,8,8]\n",
    "print(len(list1))"
   ]
  },
  {
   "cell_type": "code",
   "execution_count": 8,
   "id": "561b8cd1",
   "metadata": {},
   "outputs": [
    {
     "name": "stdout",
     "output_type": "stream",
     "text": [
      "36\n"
     ]
    }
   ],
   "source": [
    "list1 = [2,5,6,7,8,8]\n",
    "print(sum(list1))"
   ]
  },
  {
   "cell_type": "code",
   "execution_count": 9,
   "id": "5b1b0718",
   "metadata": {},
   "outputs": [
    {
     "name": "stdout",
     "output_type": "stream",
     "text": [
      "8\n"
     ]
    }
   ],
   "source": [
    "list1 = [2,5,6,7,8,8]\n",
    "print(max(list1))"
   ]
  },
  {
   "cell_type": "code",
   "execution_count": 10,
   "id": "5be29fdd",
   "metadata": {},
   "outputs": [
    {
     "name": "stdout",
     "output_type": "stream",
     "text": [
      "2\n"
     ]
    }
   ],
   "source": [
    "list1 = [2,5,6,7,8,8]\n",
    "print(min(list1))"
   ]
  },
  {
   "cell_type": "code",
   "execution_count": 18,
   "id": "8183ca20",
   "metadata": {},
   "outputs": [
    {
     "name": "stdout",
     "output_type": "stream",
     "text": [
      "1\n",
      "1\n",
      "2\n",
      "3\n",
      "5\n"
     ]
    }
   ],
   "source": [
    "a = [1, 1, 2, 3, 5, 8, 13, 21, 34, 55, 89]\n",
    "for number in a:\n",
    "    if number <= 5:\n",
    "        print(number)"
   ]
  },
  {
   "cell_type": "code",
   "execution_count": 20,
   "id": "152fa741",
   "metadata": {},
   "outputs": [
    {
     "name": "stdout",
     "output_type": "stream",
     "text": [
      "python version\n",
      "3.11.5 | packaged by Anaconda, Inc. | (main, Sep 11 2023, 13:26:23) [MSC v.1916 64 bit (AMD64)]\n"
     ]
    }
   ],
   "source": [
    "import sys \n",
    "print('python version')\n",
    "print(sys.version)"
   ]
  },
  {
   "cell_type": "code",
   "execution_count": 21,
   "id": "723e7b1c",
   "metadata": {},
   "outputs": [
    {
     "name": "stdout",
     "output_type": "stream",
     "text": [
      "Print Version\n",
      "3.11.5 | packaged by Anaconda, Inc. | (main, Sep 11 2023, 13:26:23) [MSC v.1916 64 bit (AMD64)]\n"
     ]
    }
   ],
   "source": [
    "import sys \n",
    "print('Print Version')\n",
    "print(sys.version)"
   ]
  },
  {
   "cell_type": "code",
   "execution_count": 22,
   "id": "2b4539f0",
   "metadata": {},
   "outputs": [
    {
     "name": "stdout",
     "output_type": "stream",
     "text": [
      "5\n",
      "25\n"
     ]
    }
   ],
   "source": [
    "x = min(5, 10, 25)\n",
    "y = max(5, 10, 25)\n",
    "\n",
    "print(x)\n",
    "print(y)"
   ]
  },
  {
   "cell_type": "code",
   "execution_count": 4,
   "id": "70009d68",
   "metadata": {},
   "outputs": [
    {
     "name": "stdout",
     "output_type": "stream",
     "text": [
      "Enter Maths Marks: 90\n",
      "Enter English Marks: 90\n",
      "Enter Urdu Marks: 90\n",
      "Enter Chemistry Marks: 90\n",
      "Enter Physics Marks: 90\n",
      "...........//////////////..............\n",
      "Student Mark Sheet\n",
      "Maths: 90 (A)\n",
      "English: 90 (A)\n",
      "Urdu: 90 (A)\n",
      "Chemistry 90 (A)\n",
      "Physics 90 (A)\n",
      "\n",
      "Total_Marks 450\n",
      "Percentage 90.0\n",
      "Overall Grades A\n"
     ]
    }
   ],
   "source": [
    "Subject1 = int(input(\"Enter Maths Marks: \"))\n",
    "Subject2 = int(input(\"Enter English Marks: \"))\n",
    "Subject3 = int(input(\"Enter Urdu Marks: \"))\n",
    "Subject4 = int(input(\"Enter Chemistry Marks: \"))\n",
    "Subject5 = int(input(\"Enter Physics Marks: \"))\n",
    "\n",
    "Total = Subject1 + Subject2 + Subject3 + Subject4 + Subject5\n",
    "percentage = Total / 5\n",
    "\n",
    "\n",
    "def Student_Grade(marks):\n",
    "    if marks >= 80:\n",
    "        return 'A'\n",
    "    elif marks >= 70:\n",
    "        return 'B'\n",
    "    elif marks >= 60:\n",
    "        return 'C'\n",
    "    elif marks >= 50:\n",
    "        return 'D'\n",
    "    else:\n",
    "        return 'F'\n",
    "\n",
    "overall_Grades = Student_Grade(percentage)\n",
    "\n",
    "\n",
    "print('...........//////////////..............')\n",
    "print('Student Mark Sheet')\n",
    "print(f'Maths: {Subject1} ({Student_Grade(Subject1)})')\n",
    "print(f'English: {Subject2} ({Student_Grade(Subject2)})')\n",
    "print(f'Urdu: {Subject3} ({Student_Grade(Subject3)})')\n",
    "print(f'Chemistry {Subject4} ({Student_Grade(Subject4)})')\n",
    "print(f'Physics {Subject5} ({Student_Grade(Subject5)})')\n",
    "print('\\nTotal_Marks',Total)\n",
    "print(f'Percentage',percentage)\n",
    "print(f'Overall Grades',overall_Grades)\n",
    "\n",
    "\n"
   ]
  },
  {
   "cell_type": "code",
   "execution_count": 5,
   "id": "dc326eb6",
   "metadata": {},
   "outputs": [
    {
     "name": "stdout",
     "output_type": "stream",
     "text": [
      "['30k', '34k', '34k', '40k', '43k', '65k']\n"
     ]
    }
   ],
   "source": [
    "# Sorted Function\n",
    "salaries = ['30k','40k','34k','65k','43k','34k']\n",
    "x = sorted(salaries)\n",
    "print(x)"
   ]
  },
  {
   "cell_type": "code",
   "execution_count": 2,
   "id": "676070ed",
   "metadata": {},
   "outputs": [
    {
     "name": "stdout",
     "output_type": "stream",
     "text": [
      "[1, 2, 11]\n"
     ]
    }
   ],
   "source": [
    "# Sorted Function\n",
    "a = (1, 11, 2)\n",
    "x = sorted(a)\n",
    "print(x)"
   ]
  },
  {
   "cell_type": "code",
   "execution_count": 7,
   "id": "053967eb",
   "metadata": {},
   "outputs": [],
   "source": [
    "# Count Function\n",
    "fruits = ['apple', 'banana', 'cherry']\n",
    "\n",
    "x = fruits.count(\"cherry\")"
   ]
  },
  {
   "cell_type": "code",
   "execution_count": 8,
   "id": "0ddae52e",
   "metadata": {},
   "outputs": [
    {
     "name": "stdout",
     "output_type": "stream",
     "text": [
      "['apple', 'banana', 'cherry']\n"
     ]
    }
   ],
   "source": [
    "print(fruits)"
   ]
  },
  {
   "cell_type": "code",
   "execution_count": 1,
   "id": "adb2afce",
   "metadata": {},
   "outputs": [],
   "source": [
    "points = [1, 4, 2, 9, 7, 8, 9, 3, 1]\n",
    "\n",
    "x = points.count(9)"
   ]
  },
  {
   "cell_type": "code",
   "execution_count": 14,
   "id": "adfc5e85",
   "metadata": {},
   "outputs": [
    {
     "name": "stdout",
     "output_type": "stream",
     "text": [
      "2\n"
     ]
    }
   ],
   "source": [
    "# Count Method\n",
    "salaries = ['30k', '40k', '34k', '65k', '43k', '34k']\n",
    "value_to_count = '34k'\n",
    "x = salaries.count(value_to_count)\n",
    "print(x)  # Output: 2\n"
   ]
  },
  {
   "cell_type": "code",
   "execution_count": 2,
   "id": "1098f22e",
   "metadata": {},
   "outputs": [],
   "source": [
    "fruits = ['apple', 'banana', 'cherry', 'orange']\n",
    "\n",
    "x = fruits.copy()"
   ]
  },
  {
   "cell_type": "code",
   "execution_count": 3,
   "id": "3484ffd4",
   "metadata": {},
   "outputs": [
    {
     "name": "stdout",
     "output_type": "stream",
     "text": [
      "['apple', 'banana', 'cherry', 'orange']\n"
     ]
    }
   ],
   "source": [
    "print(fruits)"
   ]
  },
  {
   "cell_type": "code",
   "execution_count": 4,
   "id": "d2dd759a",
   "metadata": {},
   "outputs": [
    {
     "name": "stdout",
     "output_type": "stream",
     "text": [
      "[1, 2, 3, 4]\n"
     ]
    }
   ],
   "source": [
    "# Copy List list ko copy krne k lie use hota h \n",
    "original_list = [1, 2, 3, 4]\n",
    "copied_list = original_list.copy()\n",
    "print(copied_list)  # Output: [1, 2, 3, 4]\n"
   ]
  },
  {
   "cell_type": "code",
   "execution_count": 6,
   "id": "6e407366",
   "metadata": {},
   "outputs": [
    {
     "name": "stdout",
     "output_type": "stream",
     "text": [
      "[3, 4, 6, 7, 9]\n"
     ]
    }
   ],
   "source": [
    "a = [3,4,6,7,9]\n",
    "b = a.copy()\n",
    "print(b)"
   ]
  },
  {
   "cell_type": "code",
   "execution_count": 7,
   "id": "bd53ee40",
   "metadata": {},
   "outputs": [
    {
     "name": "stdout",
     "output_type": "stream",
     "text": [
      "[3, 4, 6, 7, 9]\n"
     ]
    }
   ],
   "source": [
    "print(a)"
   ]
  },
  {
   "cell_type": "code",
   "execution_count": 8,
   "id": "7165acc1",
   "metadata": {},
   "outputs": [
    {
     "name": "stdout",
     "output_type": "stream",
     "text": [
      "[3, 4, 6, 7, 9]\n"
     ]
    }
   ],
   "source": [
    "print(b)"
   ]
  },
  {
   "cell_type": "code",
   "execution_count": 10,
   "id": "9cdc3292",
   "metadata": {},
   "outputs": [
    {
     "name": "stdout",
     "output_type": "stream",
     "text": [
      "['apple', 'banana', 'cherry']\n"
     ]
    }
   ],
   "source": [
    "#Clear Method\n",
    "fruits = [\"apple\", \"banana\", \"cherry\"]\n",
    "\n",
    "print(fruits)"
   ]
  },
  {
   "cell_type": "code",
   "execution_count": 11,
   "id": "367a0f84",
   "metadata": {},
   "outputs": [],
   "source": [
    "fruits = [\"apple\", \"banana\", \"cherry\"]\n",
    "fruits.clear()"
   ]
  },
  {
   "cell_type": "code",
   "execution_count": 12,
   "id": "9d71b229",
   "metadata": {},
   "outputs": [
    {
     "name": "stdout",
     "output_type": "stream",
     "text": [
      "[]\n"
     ]
    }
   ],
   "source": [
    "print(fruits)"
   ]
  },
  {
   "cell_type": "code",
   "execution_count": 4,
   "id": "81d0f249",
   "metadata": {},
   "outputs": [
    {
     "name": "stdout",
     "output_type": "stream",
     "text": [
      "[2, 4, 7, 8, 9, 1, 5]\n"
     ]
    }
   ],
   "source": [
    "# Sort Method\n",
    "salary = [2,4,7,8,9,1,5]\n",
    "print(salary)"
   ]
  },
  {
   "cell_type": "code",
   "execution_count": 5,
   "id": "45bb7be6",
   "metadata": {},
   "outputs": [
    {
     "name": "stdout",
     "output_type": "stream",
     "text": [
      "None\n"
     ]
    }
   ],
   "source": [
    "x = salary.sort()\n",
    "print(x)"
   ]
  },
  {
   "cell_type": "code",
   "execution_count": 6,
   "id": "84358a3c",
   "metadata": {},
   "outputs": [
    {
     "name": "stdout",
     "output_type": "stream",
     "text": [
      "[1, 2, 4, 5, 7, 8, 9]\n"
     ]
    }
   ],
   "source": [
    "print(salary)"
   ]
  },
  {
   "cell_type": "code",
   "execution_count": 7,
   "id": "6525a1f5",
   "metadata": {},
   "outputs": [],
   "source": [
    "# Count Function\n",
    "points = [1, 4, 2, 9, 7, 8, 9, 3, 1]\n",
    "\n",
    "x = points.count(9)"
   ]
  },
  {
   "cell_type": "code",
   "execution_count": 8,
   "id": "4d921897",
   "metadata": {},
   "outputs": [
    {
     "name": "stdout",
     "output_type": "stream",
     "text": [
      "2\n"
     ]
    }
   ],
   "source": [
    "print(x)"
   ]
  },
  {
   "cell_type": "code",
   "execution_count": 10,
   "id": "003535e3",
   "metadata": {},
   "outputs": [
    {
     "name": "stdout",
     "output_type": "stream",
     "text": [
      "2\n"
     ]
    }
   ],
   "source": [
    "name = ['abc','nvc','abc','jhg']\n",
    "y = name.count('abc')\n",
    "print(y)"
   ]
  },
  {
   "cell_type": "code",
   "execution_count": 11,
   "id": "db229f24",
   "metadata": {},
   "outputs": [],
   "source": [
    "# Copy Method\n",
    "fruits = ['apple', 'banana', 'cherry', 'orange']\n",
    "\n",
    "x = fruits.copy()"
   ]
  },
  {
   "cell_type": "code",
   "execution_count": 12,
   "id": "4b0cea6a",
   "metadata": {},
   "outputs": [
    {
     "name": "stdout",
     "output_type": "stream",
     "text": [
      "['apple', 'banana', 'cherry', 'orange']\n"
     ]
    }
   ],
   "source": [
    "print(fruits)"
   ]
  },
  {
   "cell_type": "code",
   "execution_count": 13,
   "id": "783d538c",
   "metadata": {},
   "outputs": [],
   "source": [
    "fruits = ['apple', 'banana', 'cherry', 'orange']\n",
    "\n",
    "fruits.clear()"
   ]
  },
  {
   "cell_type": "code",
   "execution_count": 14,
   "id": "a31c04f0",
   "metadata": {},
   "outputs": [
    {
     "name": "stdout",
     "output_type": "stream",
     "text": [
      "[]\n"
     ]
    }
   ],
   "source": [
    "print(fruits)"
   ]
  },
  {
   "cell_type": "markdown",
   "id": "0d458c2b",
   "metadata": {},
   "source": [
    "# Session 7"
   ]
  },
  {
   "cell_type": "code",
   "execution_count": 1,
   "id": "d0f2d99b",
   "metadata": {},
   "outputs": [
    {
     "data": {
      "text/plain": [
       "['20k', '30k', '56k', '100k', '300k', '89k']"
      ]
     },
     "execution_count": 1,
     "metadata": {},
     "output_type": "execute_result"
    }
   ],
   "source": [
    "salaries = [\"20k\",\"30k\",\"56k\",'100k','300k','89k']\n",
    "salaries"
   ]
  },
  {
   "cell_type": "code",
   "execution_count": 3,
   "id": "cb678ec1",
   "metadata": {},
   "outputs": [
    {
     "data": {
      "text/plain": [
       "['36k', '38k', '78k', '23k']"
      ]
     },
     "execution_count": 3,
     "metadata": {},
     "output_type": "execute_result"
    }
   ],
   "source": [
    "update_salaries = [\"36k\",\"38k\",'78k',\"23k\"]\n",
    "update_salaries"
   ]
  },
  {
   "cell_type": "code",
   "execution_count": 4,
   "id": "3cbc9410",
   "metadata": {},
   "outputs": [
    {
     "data": {
      "text/plain": [
       "['35k',\n",
       " '600k',\n",
       " ['20k', '30k', '56k', '100k', '300k', '89k'],\n",
       " '56k',\n",
       " ['36k', '38k', '78k', '23k']]"
      ]
     },
     "execution_count": 4,
     "metadata": {},
     "output_type": "execute_result"
    }
   ],
   "source": [
    "nested_list = [\"35k\",\"600k\",salaries,\"56k\",update_salaries]\n",
    "nested_list"
   ]
  },
  {
   "cell_type": "code",
   "execution_count": 5,
   "id": "44f8cfc0",
   "metadata": {},
   "outputs": [
    {
     "data": {
      "text/plain": [
       "['20k', '30k', '56k', '100k', '300k', '89k']"
      ]
     },
     "execution_count": 5,
     "metadata": {},
     "output_type": "execute_result"
    }
   ],
   "source": [
    "nested_list[2]"
   ]
  },
  {
   "cell_type": "code",
   "execution_count": 6,
   "id": "bf49a64f",
   "metadata": {},
   "outputs": [
    {
     "data": {
      "text/plain": [
       "'100k'"
      ]
     },
     "execution_count": 6,
     "metadata": {},
     "output_type": "execute_result"
    }
   ],
   "source": [
    "nested_list[2][3]"
   ]
  },
  {
   "cell_type": "code",
   "execution_count": 7,
   "id": "c8cdf683",
   "metadata": {},
   "outputs": [
    {
     "data": {
      "text/plain": [
       "['38k', '78k', '23k']"
      ]
     },
     "execution_count": 7,
     "metadata": {},
     "output_type": "execute_result"
    }
   ],
   "source": [
    "nested_list[-1][1:4]"
   ]
  },
  {
   "cell_type": "code",
   "execution_count": 10,
   "id": "63e8d393",
   "metadata": {},
   "outputs": [
    {
     "data": {
      "text/plain": [
       "['38k', '78k', '23k']"
      ]
     },
     "execution_count": 10,
     "metadata": {},
     "output_type": "execute_result"
    }
   ],
   "source": [
    "nested_list[-1][1:4]"
   ]
  },
  {
   "cell_type": "code",
   "execution_count": 11,
   "id": "4a598aad",
   "metadata": {},
   "outputs": [
    {
     "name": "stdout",
     "output_type": "stream",
     "text": [
      "8\n"
     ]
    }
   ],
   "source": [
    "item = 5\n",
    "item = 5 + 3\n",
    "print(item)"
   ]
  },
  {
   "cell_type": "code",
   "execution_count": 12,
   "id": "039a2d6f",
   "metadata": {},
   "outputs": [
    {
     "name": "stdout",
     "output_type": "stream",
     "text": [
      "13\n"
     ]
    }
   ],
   "source": [
    "item = item + 5\n",
    "print(item)"
   ]
  },
  {
   "cell_type": "code",
   "execution_count": 13,
   "id": "1aad1b72",
   "metadata": {},
   "outputs": [
    {
     "name": "stdout",
     "output_type": "stream",
     "text": [
      "8\n"
     ]
    }
   ],
   "source": [
    "item  -= 5\n",
    "print(item)"
   ]
  },
  {
   "cell_type": "code",
   "execution_count": 14,
   "id": "fbeae5a5",
   "metadata": {},
   "outputs": [
    {
     "name": "stdout",
     "output_type": "stream",
     "text": [
      "24\n"
     ]
    }
   ],
   "source": [
    "item *=3\n",
    "print(item)"
   ]
  },
  {
   "cell_type": "code",
   "execution_count": 15,
   "id": "444ef49a",
   "metadata": {},
   "outputs": [
    {
     "name": "stdout",
     "output_type": "stream",
     "text": [
      "This is a Cat\n",
      "This is dog\n"
     ]
    }
   ],
   "source": [
    "spices = 'cat'\n",
    "if spices != 'dog':\n",
    "    print(\"This is a Cat\")\n",
    "    \n",
    "    print(\"This is dog\")\n"
   ]
  },
  {
   "cell_type": "code",
   "execution_count": 19,
   "id": "4af5c6c8",
   "metadata": {},
   "outputs": [
    {
     "name": "stdout",
     "output_type": "stream",
     "text": [
      "True\n"
     ]
    }
   ],
   "source": [
    "species = 'All Mammals are Species'\n",
    "if species != 'But Dog are not Species':\n",
    "    print('True')\n",
    "    \n",
    "else:\n",
    "    print(\"False\")\n"
   ]
  },
  {
   "cell_type": "code",
   "execution_count": 25,
   "id": "ba86dc86",
   "metadata": {},
   "outputs": [
    {
     "name": "stdout",
     "output_type": "stream",
     "text": [
      "Yes You Are Eligible\n"
     ]
    }
   ],
   "source": [
    "Gender = \"Male\"\n",
    "Age = '20'\n",
    "City = 'Karachi'\n",
    "if Gender == 'Male' or Age == '20' or City == 'Karachi':\n",
    "    print(\"Yes You Are Eligible\")\n",
    "else:\n",
    "    print(\"No You Are Not Eligible\")"
   ]
  },
  {
   "cell_type": "code",
   "execution_count": 48,
   "id": "6b1e13a8",
   "metadata": {},
   "outputs": [
    {
     "name": "stdout",
     "output_type": "stream",
     "text": [
      "Yes You are Eligible \n"
     ]
    }
   ],
   "source": [
    "Gender = \"Male\"\n",
    "Age = 34\n",
    "City = \"Karachi\"\n",
    "if (Gender == 'Male' and (Age < 20 and Age > 30)) or City == 'Karachi':\n",
    "    print(\"Yes You are Eligible \")\n",
    "else:\n",
    "    print(\"You Are not Eligible\")"
   ]
  },
  {
   "cell_type": "code",
   "execution_count": 34,
   "id": "1a1ec80c",
   "metadata": {},
   "outputs": [
    {
     "name": "stdout",
     "output_type": "stream",
     "text": [
      "Yes You are Eligible \n"
     ]
    }
   ],
   "source": [
    "Gender = \"Male\"\n",
    "Age = 40\n",
    "City = \"Karachi\"\n",
    "if Gender == 'Male' or (20>age<30) or City == 'Karachi':\n",
    "    print(\"Yes You are Eligible \")\n",
    "else:\n",
    "    print(\"You Are not Eligible\")"
   ]
  },
  {
   "cell_type": "code",
   "execution_count": 44,
   "id": "38cf04cc",
   "metadata": {},
   "outputs": [
    {
     "name": "stdout",
     "output_type": "stream",
     "text": [
      "Yes You are Eligible\n"
     ]
    }
   ],
   "source": [
    "Gender = \"Male\"\n",
    "Age = 34\n",
    "City = \"Karachi\"\n",
    "if (Gender == 'Male' and (Age > 20 and Age < 30)) or City == 'Karachi':\n",
    "    print(\"Yes You are Eligible\")\n",
    "else:\n",
    "    print(\"You Are not Eligible\")\n",
    "\n",
    "    "
   ]
  },
  {
   "cell_type": "code",
   "execution_count": 45,
   "id": "b6901b27",
   "metadata": {},
   "outputs": [
    {
     "name": "stdout",
     "output_type": "stream",
     "text": [
      "You Are not Eligible\n"
     ]
    }
   ],
   "source": [
    "Gender = \"Male\"\n",
    "Age = 34\n",
    "City = \"Karachi\"\n",
    "if (Gender == 'Male' and (Age <= 20 or Age >= 30)) or City == 'Karachi':\n",
    "    print(\"You Are not Eligible\")\n",
    "else:\n",
    "    print(\"Yes You are Eligible\")\n"
   ]
  },
  {
   "cell_type": "code",
   "execution_count": 1,
   "id": "cfcb756f",
   "metadata": {},
   "outputs": [
    {
     "name": "stdout",
     "output_type": "stream",
     "text": [
      "Hello Sharjeel,\n",
      "I am writing to extend a heartfelt invitation to you for a dinner I am hosting. Your pioneering work in computer science and your visionary ideas about computing have always inspired me. It would be an honor to discuss your contributions and insights over a meal.\n",
      "\n",
      "Hello Mubashir,\n",
      "I am writing to extend a heartfelt invitation to you for a dinner I am hosting. Your pioneering work in computer science and your visionary ideas about computing have always inspired me. It would be an honor to discuss your contributions and insights over a meal.\n",
      "\n",
      "Hello Raqib,\n",
      "I am writing to extend a heartfelt invitation to you for a dinner I am hosting. Your pioneering work in computer science and your visionary ideas about computing have always inspired me. It would be an honor to discuss your contributions and insights over a meal.\n",
      "\n"
     ]
    }
   ],
   "source": [
    "Guest_List = ['Sharjeel','Mubashir','Raqib']\n",
    "\n",
    "Invitation = \"I am writing to extend a heartfelt invitation to you for a dinner I am hosting. Your pioneering work in computer science and your visionary ideas about computing have always inspired me. It would be an honor to discuss your contributions and insights over a meal.\"\n",
    "\n",
    "for guest in Guest_List:\n",
    "    print(f'Hello {guest},\\n{Invitation}\\n')"
   ]
  },
  {
   "cell_type": "code",
   "execution_count": 6,
   "id": "b7a953e4",
   "metadata": {},
   "outputs": [
    {
     "name": "stdout",
     "output_type": "stream",
     "text": [
      "\n",
      "Unfortunately, Mubashir can't make it to the dinner.\n",
      "\n"
     ]
    },
    {
     "ename": "NameError",
     "evalue": "name 'guest_list' is not defined",
     "output_type": "error",
     "traceback": [
      "\u001b[1;31m---------------------------------------------------------------------------\u001b[0m",
      "\u001b[1;31mNameError\u001b[0m                                 Traceback (most recent call last)",
      "Cell \u001b[1;32mIn[6], line 15\u001b[0m\n\u001b[0;32m     12\u001b[0m     \u001b[38;5;28;01mreturn\u001b[39;00m guest_list\n\u001b[0;32m     14\u001b[0m \u001b[38;5;66;03m# Update the guest list\u001b[39;00m\n\u001b[1;32m---> 15\u001b[0m updated_guest_list \u001b[38;5;241m=\u001b[39m update_guest_list(guest_list, guest_who_cant_make_it, new_guest)\n\u001b[0;32m     17\u001b[0m \u001b[38;5;66;03m# Send out new invitations\u001b[39;00m\n\u001b[0;32m     18\u001b[0m send_invitations(updated_guest_list)\n",
      "\u001b[1;31mNameError\u001b[0m: name 'guest_list' is not defined"
     ]
    }
   ],
   "source": [
    "guest_who_cant_make_it = \"Mubashir\"\n",
    "\n",
    "print(f\"\\nUnfortunately, {guest_who_cant_make_it} can't make it to the dinner.\\n\")\n",
    "\n",
    "new_guest = \"Kashif\"\n",
    "\n",
    "def update_guest_list(guest_list, guest_who_cant_make_it, new_guest):\n",
    "    # Remove the guest who can't make it\n",
    "    guest_list.remove(guest_who_cant_make_it)\n",
    "    # Add the new guest\n",
    "    guest_list.append(new_guest)\n",
    "    return guest_list\n",
    "\n",
    "# Update the guest list\n",
    "updated_guest_list = update_guest_list(guest_list, guest_who_cant_make_it, new_guest)\n",
    "\n",
    "# Send out new invitations\n",
    "send_invitations(updated_guest_list)"
   ]
  },
  {
   "cell_type": "code",
   "execution_count": 3,
   "id": "eefd8444",
   "metadata": {},
   "outputs": [
    {
     "name": "stdout",
     "output_type": "stream",
     "text": [
      "\n",
      "Unfortunately, Mubashir can't make it to the dinner.\n",
      "\n",
      "Sending invitation to Sharjeel\n",
      "Sending invitation to Raqib\n",
      "Sending invitation to Lia\n",
      "Sending invitation to Kashif\n"
     ]
    }
   ],
   "source": [
    "guest_list = [\"Mubashir\", \"Sharjeel\", \"Raqib\", \"Lia\"]\n",
    "\n",
    "guest_who_cant_make_it = \"Mubashir\"\n",
    "\n",
    "print(f\"\\nUnfortunately, {guest_who_cant_make_it} can't make it to the dinner.\\n\")\n",
    "\n",
    "new_guest = \"Kashif\"\n",
    "\n",
    "def update_guest_list(guest_list, guest_who_cant_make_it, new_guest):\n",
    "    # Remove the guest who can't make it\n",
    "    guest_list.remove(guest_who_cant_make_it)\n",
    "    # Add the new guest\n",
    "    guest_list.append(new_guest)\n",
    "    return guest_list\n",
    "\n",
    "# Update the guest list\n",
    "updated_guest_list = update_guest_list(guest_list, guest_who_cant_make_it, new_guest)\n",
    "\n",
    "def send_invitations(guest_list):\n",
    "    for guest in guest_list:\n",
    "        print(f\"Sending invitation to {guest}\")\n",
    "\n",
    "# Send out new invitations\n",
    "send_invitations(updated_guest_list)\n",
    "\n"
   ]
  },
  {
   "cell_type": "code",
   "execution_count": null,
   "id": "d925e8d5",
   "metadata": {},
   "outputs": [],
   "source": []
  }
 ],
 "metadata": {
  "kernelspec": {
   "display_name": "Python 3 (ipykernel)",
   "language": "python",
   "name": "python3"
  },
  "language_info": {
   "codemirror_mode": {
    "name": "ipython",
    "version": 3
   },
   "file_extension": ".py",
   "mimetype": "text/x-python",
   "name": "python",
   "nbconvert_exporter": "python",
   "pygments_lexer": "ipython3",
   "version": "3.11.5"
  }
 },
 "nbformat": 4,
 "nbformat_minor": 5
}
