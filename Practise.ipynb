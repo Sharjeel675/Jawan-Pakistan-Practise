{
 "cells": [
  {
   "cell_type": "markdown",
   "id": "b89a8c66",
   "metadata": {},
   "source": [
    "# Type_Casting"
   ]
  },
  {
   "cell_type": "code",
   "execution_count": 1,
   "id": "b9e8470b",
   "metadata": {},
   "outputs": [
    {
     "name": "stdout",
     "output_type": "stream",
     "text": [
      "Hello World\n"
     ]
    }
   ],
   "source": [
    "print('Hello World')"
   ]
  },
  {
   "cell_type": "code",
   "execution_count": 2,
   "id": "fc62d62e",
   "metadata": {},
   "outputs": [
    {
     "name": "stdout",
     "output_type": "stream",
     "text": [
      "Shar\n"
     ]
    }
   ],
   "source": [
    "print(\"Shar\")"
   ]
  },
  {
   "cell_type": "code",
   "execution_count": 3,
   "id": "48e3081f",
   "metadata": {},
   "outputs": [
    {
     "name": "stdout",
     "output_type": "stream",
     "text": [
      "<class 'str'>\n"
     ]
    }
   ],
   "source": [
    "print(type(\"Hello WOrld\"))"
   ]
  },
  {
   "cell_type": "code",
   "execution_count": 4,
   "id": "88d91008",
   "metadata": {},
   "outputs": [
    {
     "name": "stdout",
     "output_type": "stream",
     "text": [
      "5\n"
     ]
    }
   ],
   "source": [
    "a = 5\n",
    "print(a)"
   ]
  },
  {
   "cell_type": "code",
   "execution_count": 5,
   "id": "c0ee0643",
   "metadata": {},
   "outputs": [
    {
     "name": "stdout",
     "output_type": "stream",
     "text": [
      "123\n",
      "<class 'int'>\n"
     ]
    }
   ],
   "source": [
    "a = '123'\n",
    "print(a)\n",
    "type(a)\n",
    "a = int(\"123\")\n",
    "print(type(a))"
   ]
  },
  {
   "cell_type": "code",
   "execution_count": 6,
   "id": "27da2f65",
   "metadata": {},
   "outputs": [
    {
     "name": "stdout",
     "output_type": "stream",
     "text": [
      "123\n"
     ]
    }
   ],
   "source": [
    "var  = a\n",
    "a = '123'\n",
    "print(a)"
   ]
  },
  {
   "cell_type": "code",
   "execution_count": 7,
   "id": "4ece4b6b",
   "metadata": {},
   "outputs": [
    {
     "data": {
      "text/plain": [
       "str"
      ]
     },
     "execution_count": 7,
     "metadata": {},
     "output_type": "execute_result"
    }
   ],
   "source": [
    "type(a)"
   ]
  },
  {
   "cell_type": "code",
   "execution_count": 8,
   "id": "30487ef7",
   "metadata": {},
   "outputs": [
    {
     "name": "stdout",
     "output_type": "stream",
     "text": [
      "123\n"
     ]
    }
   ],
   "source": [
    "a = int(\"123\")\n",
    "print(a)"
   ]
  },
  {
   "cell_type": "code",
   "execution_count": 9,
   "id": "b3d57856",
   "metadata": {},
   "outputs": [
    {
     "data": {
      "text/plain": [
       "int"
      ]
     },
     "execution_count": 9,
     "metadata": {},
     "output_type": "execute_result"
    }
   ],
   "source": [
    "type(a)"
   ]
  },
  {
   "cell_type": "code",
   "execution_count": 10,
   "id": "3a40dce6",
   "metadata": {},
   "outputs": [
    {
     "name": "stdout",
     "output_type": "stream",
     "text": [
      "<class 'str'>\n",
      "123\n"
     ]
    },
    {
     "data": {
      "text/plain": [
       "int"
      ]
     },
     "execution_count": 10,
     "metadata": {},
     "output_type": "execute_result"
    }
   ],
   "source": [
    "a = '123'\n",
    "print(type(a))\n",
    "a = int(a)\n",
    "print(a)\n",
    "type(a)"
   ]
  },
  {
   "cell_type": "code",
   "execution_count": 11,
   "id": "b7d615eb",
   "metadata": {},
   "outputs": [
    {
     "name": "stdout",
     "output_type": "stream",
     "text": [
      "123\n"
     ]
    }
   ],
   "source": [
    "a = '123'\n",
    "print(a)"
   ]
  },
  {
   "cell_type": "code",
   "execution_count": 12,
   "id": "88a68adb",
   "metadata": {},
   "outputs": [
    {
     "name": "stdout",
     "output_type": "stream",
     "text": [
      "<class 'int'>\n"
     ]
    }
   ],
   "source": [
    "a = int(a)\n",
    "print(type(a))"
   ]
  },
  {
   "cell_type": "code",
   "execution_count": 13,
   "id": "5d5b6dbb",
   "metadata": {},
   "outputs": [
    {
     "name": "stdout",
     "output_type": "stream",
     "text": [
      "1234567\n"
     ]
    },
    {
     "data": {
      "text/plain": [
       "str"
      ]
     },
     "execution_count": 13,
     "metadata": {},
     "output_type": "execute_result"
    }
   ],
   "source": [
    "b = '1234567'\n",
    "print(b)\n",
    "type(b)"
   ]
  },
  {
   "cell_type": "code",
   "execution_count": 14,
   "id": "c0820260",
   "metadata": {},
   "outputs": [
    {
     "data": {
      "text/plain": [
       "float"
      ]
     },
     "execution_count": 14,
     "metadata": {},
     "output_type": "execute_result"
    }
   ],
   "source": [
    "b = float('1234567')\n",
    "type(b)"
   ]
  },
  {
   "cell_type": "code",
   "execution_count": 15,
   "id": "5fff7e00",
   "metadata": {},
   "outputs": [
    {
     "name": "stdout",
     "output_type": "stream",
     "text": [
      "1234567.0\n"
     ]
    }
   ],
   "source": [
    "print(b)"
   ]
  },
  {
   "cell_type": "markdown",
   "id": "56d7497c",
   "metadata": {},
   "source": [
    "# List"
   ]
  },
  {
   "cell_type": "code",
   "execution_count": 16,
   "id": "58134a66",
   "metadata": {},
   "outputs": [
    {
     "name": "stdout",
     "output_type": "stream",
     "text": [
      "['Mubashir', 'Raqib', 'Sharjeel', 'Ali', 'Faraz']\n"
     ]
    }
   ],
   "source": [
    "salary = [\"Mubashir\",\"Raqib\",\"Sharjeel\",\"Ali\",\"Faraz\"]\n",
    "print(salary)"
   ]
  },
  {
   "cell_type": "markdown",
   "id": "241c0c63",
   "metadata": {},
   "source": [
    "# Indexing"
   ]
  },
  {
   "cell_type": "code",
   "execution_count": 17,
   "id": "fc9a9b5b",
   "metadata": {},
   "outputs": [
    {
     "name": "stdout",
     "output_type": "stream",
     "text": [
      "Raqib\n"
     ]
    }
   ],
   "source": [
    "print(salary[1])"
   ]
  },
  {
   "cell_type": "code",
   "execution_count": 18,
   "id": "7a61f6d1",
   "metadata": {},
   "outputs": [
    {
     "name": "stdout",
     "output_type": "stream",
     "text": [
      "Ali\n"
     ]
    }
   ],
   "source": [
    "print(salary[3])"
   ]
  },
  {
   "cell_type": "markdown",
   "id": "1307ae9f",
   "metadata": {},
   "source": [
    "# Slicing "
   ]
  },
  {
   "cell_type": "code",
   "execution_count": 19,
   "id": "2bd48b44",
   "metadata": {},
   "outputs": [
    {
     "name": "stdout",
     "output_type": "stream",
     "text": [
      "['Raqib']\n"
     ]
    }
   ],
   "source": [
    "print(salary[1:2])"
   ]
  },
  {
   "cell_type": "code",
   "execution_count": 20,
   "id": "57411eb1",
   "metadata": {},
   "outputs": [
    {
     "name": "stdout",
     "output_type": "stream",
     "text": [
      "['Sharjeel', 'Ali', 'Faraz']\n"
     ]
    }
   ],
   "source": [
    "print(salary[2:5])"
   ]
  },
  {
   "cell_type": "code",
   "execution_count": 21,
   "id": "43e56789",
   "metadata": {},
   "outputs": [
    {
     "data": {
      "text/plain": [
       "['__add__',\n",
       " '__class__',\n",
       " '__class_getitem__',\n",
       " '__contains__',\n",
       " '__delattr__',\n",
       " '__delitem__',\n",
       " '__dir__',\n",
       " '__doc__',\n",
       " '__eq__',\n",
       " '__format__',\n",
       " '__ge__',\n",
       " '__getattribute__',\n",
       " '__getitem__',\n",
       " '__getstate__',\n",
       " '__gt__',\n",
       " '__hash__',\n",
       " '__iadd__',\n",
       " '__imul__',\n",
       " '__init__',\n",
       " '__init_subclass__',\n",
       " '__iter__',\n",
       " '__le__',\n",
       " '__len__',\n",
       " '__lt__',\n",
       " '__mul__',\n",
       " '__ne__',\n",
       " '__new__',\n",
       " '__reduce__',\n",
       " '__reduce_ex__',\n",
       " '__repr__',\n",
       " '__reversed__',\n",
       " '__rmul__',\n",
       " '__setattr__',\n",
       " '__setitem__',\n",
       " '__sizeof__',\n",
       " '__str__',\n",
       " '__subclasshook__',\n",
       " 'append',\n",
       " 'clear',\n",
       " 'copy',\n",
       " 'count',\n",
       " 'extend',\n",
       " 'index',\n",
       " 'insert',\n",
       " 'pop',\n",
       " 'remove',\n",
       " 'reverse',\n",
       " 'sort']"
      ]
     },
     "execution_count": 21,
     "metadata": {},
     "output_type": "execute_result"
    }
   ],
   "source": [
    "dir(list)"
   ]
  },
  {
   "cell_type": "code",
   "execution_count": 22,
   "id": "f00aa6d8",
   "metadata": {},
   "outputs": [
    {
     "name": "stdout",
     "output_type": "stream",
     "text": [
      "Faraz Bhaii\n"
     ]
    }
   ],
   "source": [
    "print(\"Faraz Bhaii\")"
   ]
  },
  {
   "cell_type": "code",
   "execution_count": null,
   "id": "6a69202d",
   "metadata": {},
   "outputs": [],
   "source": [
    "class Name:\n",
    "    def Input_Name(self):\n",
    "        self.id = str(input(\"Please Enter Your Id: \"))\n",
    "        self.name = str(input(\"Please Enter Your Name: \"))\n",
    "        self.salary = float(input(\"Please Enter Your Salary\"))\n",
    "    def display(self):\n",
    "        print('Name.id',self.id)\n",
    "        print('Name.name',self.name)\n",
    "        print('Name.salary',self.salary)\n",
    "    def reverse_Name(self):\n",
    "        reverse_name = f\"{self.id} {self.name} {self.salary}\"\n",
    "        print('reverse_Name',self.reverse_Name)\n",
    "        \n",
    "x = Name()\n",
    "x.Input_Name()\n",
    "x.reverse_Name()\n",
    "x.display()\n"
   ]
  },
  {
   "cell_type": "code",
   "execution_count": null,
   "id": "36149923",
   "metadata": {},
   "outputs": [],
   "source": [
    "print(\"Hello World\")"
   ]
  },
  {
   "cell_type": "code",
   "execution_count": null,
   "id": "cfac9da3",
   "metadata": {},
   "outputs": [],
   "source": [
    "Reverse_Method = \"Hello MY Name is Sharjeel Ahmed Khan\"[::-1]\n",
    "print(Reverse_Method)"
   ]
  },
  {
   "cell_type": "code",
   "execution_count": null,
   "id": "661ef532",
   "metadata": {},
   "outputs": [],
   "source": []
  },
  {
   "cell_type": "code",
   "execution_count": null,
   "id": "54e49ca6",
   "metadata": {
    "scrolled": true
   },
   "outputs": [],
   "source": [
    "var1 = input(\"First_Name: \")\n",
    "var2 = input(\"Second_Name: \")\n",
    "print(var1[::-1] ,var2[::-1])"
   ]
  },
  {
   "cell_type": "code",
   "execution_count": null,
   "id": "07631ef7",
   "metadata": {},
   "outputs": [],
   "source": [
    "user_a = input(\"Enter Number\")\n",
    "user_b = input(\"Enter Number\")\n",
    "sum  = int(user_a) + int(user_b)\n",
    "print(sum)"
   ]
  },
  {
   "cell_type": "code",
   "execution_count": null,
   "id": "de44aaed",
   "metadata": {},
   "outputs": [],
   "source": [
    "var1 = input(\"Enter First Number: \")\n",
    "var2 = input(\"Enter Second Number: \")\n",
    "sum  = float(var1) * float(var2)\n",
    "print(sum)"
   ]
  },
  {
   "cell_type": "code",
   "execution_count": null,
   "id": "f4ba0310",
   "metadata": {},
   "outputs": [],
   "source": [
    "var1 = input(\"Enter First Number: \")\n",
    "var2 = input(\"Enter Second Number: \")\n",
    "sum = int(var1) / int(var2)\n",
    "print(sum)"
   ]
  },
  {
   "cell_type": "code",
   "execution_count": 2,
   "id": "cd453dcd",
   "metadata": {},
   "outputs": [
    {
     "name": "stdout",
     "output_type": "stream",
     "text": [
      "Enter a number: 4\n",
      "4 is even.\n"
     ]
    }
   ],
   "source": [
    "# Q:8\n",
    "number = int(input(\"Enter a number: \"))\n",
    "if number % 2 == 0:\n",
    "    print(f\"{number} is even.\")\n",
    "else:\n",
    "    print(f\"{number} is odd.\")"
   ]
  },
  {
   "cell_type": "code",
   "execution_count": 4,
   "id": "9e4e4037",
   "metadata": {},
   "outputs": [
    {
     "name": "stdout",
     "output_type": "stream",
     "text": [
      "Enter a Number: 4\n",
      "4 is even\n"
     ]
    }
   ],
   "source": [
    "number = int(input(\"Enter a Number: \"))\n",
    "if number % 2 == 0:\n",
    "    print(f\"{number} is even\")\n",
    "else:\n",
    "    print((f\"{number} is odd\"))"
   ]
  },
  {
   "cell_type": "code",
   "execution_count": 6,
   "id": "76bad8a3",
   "metadata": {},
   "outputs": [
    {
     "name": "stdout",
     "output_type": "stream",
     "text": [
      "Enter the Number: 3\n",
      "3 is Odd\n"
     ]
    }
   ],
   "source": [
    "number = int(input(\"Enter the Number: \"))\n",
    "if number % 2 == 0:\n",
    "    print(f\"{number} is Even\")\n",
    "else:\n",
    "    print(f\"{number} is Odd\")"
   ]
  },
  {
   "cell_type": "code",
   "execution_count": 7,
   "id": "125edc7f",
   "metadata": {},
   "outputs": [
    {
     "name": "stdout",
     "output_type": "stream",
     "text": [
      "6\n"
     ]
    }
   ],
   "source": [
    "list1 = [2,5,6,7,8,8]\n",
    "print(len(list1))"
   ]
  },
  {
   "cell_type": "code",
   "execution_count": 8,
   "id": "561b8cd1",
   "metadata": {},
   "outputs": [
    {
     "name": "stdout",
     "output_type": "stream",
     "text": [
      "36\n"
     ]
    }
   ],
   "source": [
    "list1 = [2,5,6,7,8,8]\n",
    "print(sum(list1))"
   ]
  },
  {
   "cell_type": "code",
   "execution_count": 9,
   "id": "5b1b0718",
   "metadata": {},
   "outputs": [
    {
     "name": "stdout",
     "output_type": "stream",
     "text": [
      "8\n"
     ]
    }
   ],
   "source": [
    "list1 = [2,5,6,7,8,8]\n",
    "print(max(list1))"
   ]
  },
  {
   "cell_type": "code",
   "execution_count": 10,
   "id": "5be29fdd",
   "metadata": {},
   "outputs": [
    {
     "name": "stdout",
     "output_type": "stream",
     "text": [
      "2\n"
     ]
    }
   ],
   "source": [
    "list1 = [2,5,6,7,8,8]\n",
    "print(min(list1))"
   ]
  },
  {
   "cell_type": "code",
   "execution_count": 18,
   "id": "8183ca20",
   "metadata": {},
   "outputs": [
    {
     "name": "stdout",
     "output_type": "stream",
     "text": [
      "1\n",
      "1\n",
      "2\n",
      "3\n",
      "5\n"
     ]
    }
   ],
   "source": [
    "a = [1, 1, 2, 3, 5, 8, 13, 21, 34, 55, 89]\n",
    "for number in a:\n",
    "    if number <= 5:\n",
    "        print(number)"
   ]
  },
  {
   "cell_type": "code",
   "execution_count": 20,
   "id": "152fa741",
   "metadata": {},
   "outputs": [
    {
     "name": "stdout",
     "output_type": "stream",
     "text": [
      "python version\n",
      "3.11.5 | packaged by Anaconda, Inc. | (main, Sep 11 2023, 13:26:23) [MSC v.1916 64 bit (AMD64)]\n"
     ]
    }
   ],
   "source": [
    "import sys \n",
    "print('python version')\n",
    "print(sys.version)"
   ]
  },
  {
   "cell_type": "code",
   "execution_count": 21,
   "id": "723e7b1c",
   "metadata": {},
   "outputs": [
    {
     "name": "stdout",
     "output_type": "stream",
     "text": [
      "Print Version\n",
      "3.11.5 | packaged by Anaconda, Inc. | (main, Sep 11 2023, 13:26:23) [MSC v.1916 64 bit (AMD64)]\n"
     ]
    }
   ],
   "source": [
    "import sys \n",
    "print('Print Version')\n",
    "print(sys.version)"
   ]
  },
  {
   "cell_type": "code",
   "execution_count": 22,
   "id": "2b4539f0",
   "metadata": {},
   "outputs": [
    {
     "name": "stdout",
     "output_type": "stream",
     "text": [
      "5\n",
      "25\n"
     ]
    }
   ],
   "source": [
    "x = min(5, 10, 25)\n",
    "y = max(5, 10, 25)\n",
    "\n",
    "print(x)\n",
    "print(y)"
   ]
  },
  {
   "cell_type": "code",
   "execution_count": 4,
   "id": "70009d68",
   "metadata": {},
   "outputs": [
    {
     "name": "stdout",
     "output_type": "stream",
     "text": [
      "Enter Maths Marks: 90\n",
      "Enter English Marks: 90\n",
      "Enter Urdu Marks: 90\n",
      "Enter Chemistry Marks: 90\n",
      "Enter Physics Marks: 90\n",
      "...........//////////////..............\n",
      "Student Mark Sheet\n",
      "Maths: 90 (A)\n",
      "English: 90 (A)\n",
      "Urdu: 90 (A)\n",
      "Chemistry 90 (A)\n",
      "Physics 90 (A)\n",
      "\n",
      "Total_Marks 450\n",
      "Percentage 90.0\n",
      "Overall Grades A\n"
     ]
    }
   ],
   "source": [
    "Subject1 = int(input(\"Enter Maths Marks: \"))\n",
    "Subject2 = int(input(\"Enter English Marks: \"))\n",
    "Subject3 = int(input(\"Enter Urdu Marks: \"))\n",
    "Subject4 = int(input(\"Enter Chemistry Marks: \"))\n",
    "Subject5 = int(input(\"Enter Physics Marks: \"))\n",
    "\n",
    "Total = Subject1 + Subject2 + Subject3 + Subject4 + Subject5\n",
    "percentage = Total / 5\n",
    "\n",
    "\n",
    "def Student_Grade(marks):\n",
    "    if marks >= 80:\n",
    "        return 'A'\n",
    "    elif marks >= 70:\n",
    "        return 'B'\n",
    "    elif marks >= 60:\n",
    "        return 'C'\n",
    "    elif marks >= 50:\n",
    "        return 'D'\n",
    "    else:\n",
    "        return 'F'\n",
    "\n",
    "overall_Grades = Student_Grade(percentage)\n",
    "\n",
    "\n",
    "print('...........//////////////..............')\n",
    "print('Student Mark Sheet')\n",
    "print(f'Maths: {Subject1} ({Student_Grade(Subject1)})')\n",
    "print(f'English: {Subject2} ({Student_Grade(Subject2)})')\n",
    "print(f'Urdu: {Subject3} ({Student_Grade(Subject3)})')\n",
    "print(f'Chemistry {Subject4} ({Student_Grade(Subject4)})')\n",
    "print(f'Physics {Subject5} ({Student_Grade(Subject5)})')\n",
    "print('\\nTotal_Marks',Total)\n",
    "print(f'Percentage',percentage)\n",
    "print(f'Overall Grades',overall_Grades)\n",
    "\n",
    "\n"
   ]
  },
  {
   "cell_type": "code",
   "execution_count": 5,
   "id": "dc326eb6",
   "metadata": {},
   "outputs": [
    {
     "name": "stdout",
     "output_type": "stream",
     "text": [
      "['30k', '34k', '34k', '40k', '43k', '65k']\n"
     ]
    }
   ],
   "source": [
    "# Sorted Function\n",
    "salaries = ['30k','40k','34k','65k','43k','34k']\n",
    "x = sorted(salaries)\n",
    "print(x)"
   ]
  },
  {
   "cell_type": "code",
   "execution_count": 2,
   "id": "676070ed",
   "metadata": {},
   "outputs": [
    {
     "name": "stdout",
     "output_type": "stream",
     "text": [
      "[1, 2, 11]\n"
     ]
    }
   ],
   "source": [
    "# Sorted Function\n",
    "a = (1, 11, 2)\n",
    "x = sorted(a)\n",
    "print(x)"
   ]
  },
  {
   "cell_type": "code",
   "execution_count": 7,
   "id": "053967eb",
   "metadata": {},
   "outputs": [],
   "source": [
    "# Count Function\n",
    "fruits = ['apple', 'banana', 'cherry']\n",
    "\n",
    "x = fruits.count(\"cherry\")"
   ]
  },
  {
   "cell_type": "code",
   "execution_count": 8,
   "id": "0ddae52e",
   "metadata": {},
   "outputs": [
    {
     "name": "stdout",
     "output_type": "stream",
     "text": [
      "['apple', 'banana', 'cherry']\n"
     ]
    }
   ],
   "source": [
    "print(fruits)"
   ]
  },
  {
   "cell_type": "code",
   "execution_count": 1,
   "id": "adb2afce",
   "metadata": {},
   "outputs": [],
   "source": [
    "points = [1, 4, 2, 9, 7, 8, 9, 3, 1]\n",
    "\n",
    "x = points.count(9)"
   ]
  },
  {
   "cell_type": "code",
   "execution_count": 14,
   "id": "adfc5e85",
   "metadata": {},
   "outputs": [
    {
     "name": "stdout",
     "output_type": "stream",
     "text": [
      "2\n"
     ]
    }
   ],
   "source": [
    "# Count Method\n",
    "salaries = ['30k', '40k', '34k', '65k', '43k', '34k']\n",
    "value_to_count = '34k'\n",
    "x = salaries.count(value_to_count)\n",
    "print(x)  # Output: 2\n"
   ]
  },
  {
   "cell_type": "code",
   "execution_count": 2,
   "id": "1098f22e",
   "metadata": {},
   "outputs": [],
   "source": [
    "fruits = ['apple', 'banana', 'cherry', 'orange']\n",
    "\n",
    "x = fruits.copy()"
   ]
  },
  {
   "cell_type": "code",
   "execution_count": 3,
   "id": "3484ffd4",
   "metadata": {},
   "outputs": [
    {
     "name": "stdout",
     "output_type": "stream",
     "text": [
      "['apple', 'banana', 'cherry', 'orange']\n"
     ]
    }
   ],
   "source": [
    "print(fruits)"
   ]
  },
  {
   "cell_type": "code",
   "execution_count": 4,
   "id": "d2dd759a",
   "metadata": {},
   "outputs": [
    {
     "name": "stdout",
     "output_type": "stream",
     "text": [
      "[1, 2, 3, 4]\n"
     ]
    }
   ],
   "source": [
    "# Copy List list ko copy krne k lie use hota h \n",
    "original_list = [1, 2, 3, 4]\n",
    "copied_list = original_list.copy()\n",
    "print(copied_list)  # Output: [1, 2, 3, 4]\n"
   ]
  },
  {
   "cell_type": "code",
   "execution_count": 6,
   "id": "6e407366",
   "metadata": {},
   "outputs": [
    {
     "name": "stdout",
     "output_type": "stream",
     "text": [
      "[3, 4, 6, 7, 9]\n"
     ]
    }
   ],
   "source": [
    "a = [3,4,6,7,9]\n",
    "b = a.copy()\n",
    "print(b)"
   ]
  },
  {
   "cell_type": "code",
   "execution_count": 7,
   "id": "bd53ee40",
   "metadata": {},
   "outputs": [
    {
     "name": "stdout",
     "output_type": "stream",
     "text": [
      "[3, 4, 6, 7, 9]\n"
     ]
    }
   ],
   "source": [
    "print(a)"
   ]
  },
  {
   "cell_type": "code",
   "execution_count": 8,
   "id": "7165acc1",
   "metadata": {},
   "outputs": [
    {
     "name": "stdout",
     "output_type": "stream",
     "text": [
      "[3, 4, 6, 7, 9]\n"
     ]
    }
   ],
   "source": [
    "print(b)"
   ]
  },
  {
   "cell_type": "code",
   "execution_count": 10,
   "id": "9cdc3292",
   "metadata": {},
   "outputs": [
    {
     "name": "stdout",
     "output_type": "stream",
     "text": [
      "['apple', 'banana', 'cherry']\n"
     ]
    }
   ],
   "source": [
    "#Clear Method\n",
    "fruits = [\"apple\", \"banana\", \"cherry\"]\n",
    "\n",
    "print(fruits)"
   ]
  },
  {
   "cell_type": "code",
   "execution_count": 11,
   "id": "367a0f84",
   "metadata": {},
   "outputs": [],
   "source": [
    "fruits = [\"apple\", \"banana\", \"cherry\"]\n",
    "fruits.clear()"
   ]
  },
  {
   "cell_type": "code",
   "execution_count": 12,
   "id": "9d71b229",
   "metadata": {},
   "outputs": [
    {
     "name": "stdout",
     "output_type": "stream",
     "text": [
      "[]\n"
     ]
    }
   ],
   "source": [
    "print(fruits)"
   ]
  },
  {
   "cell_type": "code",
   "execution_count": 4,
   "id": "81d0f249",
   "metadata": {},
   "outputs": [
    {
     "name": "stdout",
     "output_type": "stream",
     "text": [
      "[2, 4, 7, 8, 9, 1, 5]\n"
     ]
    }
   ],
   "source": [
    "# Sort Method\n",
    "salary = [2,4,7,8,9,1,5]\n",
    "print(salary)"
   ]
  },
  {
   "cell_type": "code",
   "execution_count": 5,
   "id": "45bb7be6",
   "metadata": {},
   "outputs": [
    {
     "name": "stdout",
     "output_type": "stream",
     "text": [
      "None\n"
     ]
    }
   ],
   "source": [
    "x = salary.sort()\n",
    "print(x)"
   ]
  },
  {
   "cell_type": "code",
   "execution_count": 6,
   "id": "84358a3c",
   "metadata": {},
   "outputs": [
    {
     "name": "stdout",
     "output_type": "stream",
     "text": [
      "[1, 2, 4, 5, 7, 8, 9]\n"
     ]
    }
   ],
   "source": [
    "print(salary)"
   ]
  },
  {
   "cell_type": "code",
   "execution_count": 7,
   "id": "6525a1f5",
   "metadata": {},
   "outputs": [],
   "source": [
    "# Count Function\n",
    "points = [1, 4, 2, 9, 7, 8, 9, 3, 1]\n",
    "\n",
    "x = points.count(9)"
   ]
  },
  {
   "cell_type": "code",
   "execution_count": 8,
   "id": "4d921897",
   "metadata": {},
   "outputs": [
    {
     "name": "stdout",
     "output_type": "stream",
     "text": [
      "2\n"
     ]
    }
   ],
   "source": [
    "print(x)"
   ]
  },
  {
   "cell_type": "code",
   "execution_count": 10,
   "id": "003535e3",
   "metadata": {},
   "outputs": [
    {
     "name": "stdout",
     "output_type": "stream",
     "text": [
      "2\n"
     ]
    }
   ],
   "source": [
    "name = ['abc','nvc','abc','jhg']\n",
    "y = name.count('abc')\n",
    "print(y)"
   ]
  },
  {
   "cell_type": "code",
   "execution_count": 11,
   "id": "db229f24",
   "metadata": {},
   "outputs": [],
   "source": [
    "# Copy Method\n",
    "fruits = ['apple', 'banana', 'cherry', 'orange']\n",
    "\n",
    "x = fruits.copy()"
   ]
  },
  {
   "cell_type": "code",
   "execution_count": 12,
   "id": "4b0cea6a",
   "metadata": {},
   "outputs": [
    {
     "name": "stdout",
     "output_type": "stream",
     "text": [
      "['apple', 'banana', 'cherry', 'orange']\n"
     ]
    }
   ],
   "source": [
    "print(fruits)"
   ]
  },
  {
   "cell_type": "code",
   "execution_count": 13,
   "id": "783d538c",
   "metadata": {},
   "outputs": [],
   "source": [
    "fruits = ['apple', 'banana', 'cherry', 'orange']\n",
    "\n",
    "fruits.clear()"
   ]
  },
  {
   "cell_type": "code",
   "execution_count": 14,
   "id": "a31c04f0",
   "metadata": {},
   "outputs": [
    {
     "name": "stdout",
     "output_type": "stream",
     "text": [
      "[]\n"
     ]
    }
   ],
   "source": [
    "print(fruits)"
   ]
  },
  {
   "cell_type": "markdown",
   "id": "0d458c2b",
   "metadata": {},
   "source": [
    "# Session 7"
   ]
  },
  {
   "cell_type": "code",
   "execution_count": 1,
   "id": "d0f2d99b",
   "metadata": {},
   "outputs": [
    {
     "data": {
      "text/plain": [
       "['20k', '30k', '56k', '100k', '300k', '89k']"
      ]
     },
     "execution_count": 1,
     "metadata": {},
     "output_type": "execute_result"
    }
   ],
   "source": [
    "salaries = [\"20k\",\"30k\",\"56k\",'100k','300k','89k']\n",
    "salaries"
   ]
  },
  {
   "cell_type": "code",
   "execution_count": 3,
   "id": "cb678ec1",
   "metadata": {},
   "outputs": [
    {
     "data": {
      "text/plain": [
       "['36k', '38k', '78k', '23k']"
      ]
     },
     "execution_count": 3,
     "metadata": {},
     "output_type": "execute_result"
    }
   ],
   "source": [
    "update_salaries = [\"36k\",\"38k\",'78k',\"23k\"]\n",
    "update_salaries"
   ]
  },
  {
   "cell_type": "code",
   "execution_count": 4,
   "id": "3cbc9410",
   "metadata": {},
   "outputs": [
    {
     "data": {
      "text/plain": [
       "['35k',\n",
       " '600k',\n",
       " ['20k', '30k', '56k', '100k', '300k', '89k'],\n",
       " '56k',\n",
       " ['36k', '38k', '78k', '23k']]"
      ]
     },
     "execution_count": 4,
     "metadata": {},
     "output_type": "execute_result"
    }
   ],
   "source": [
    "nested_list = [\"35k\",\"600k\",salaries,\"56k\",update_salaries]\n",
    "nested_list"
   ]
  },
  {
   "cell_type": "code",
   "execution_count": 5,
   "id": "44f8cfc0",
   "metadata": {},
   "outputs": [
    {
     "data": {
      "text/plain": [
       "['20k', '30k', '56k', '100k', '300k', '89k']"
      ]
     },
     "execution_count": 5,
     "metadata": {},
     "output_type": "execute_result"
    }
   ],
   "source": [
    "nested_list[2]"
   ]
  },
  {
   "cell_type": "code",
   "execution_count": 6,
   "id": "bf49a64f",
   "metadata": {},
   "outputs": [
    {
     "data": {
      "text/plain": [
       "'100k'"
      ]
     },
     "execution_count": 6,
     "metadata": {},
     "output_type": "execute_result"
    }
   ],
   "source": [
    "nested_list[2][3]"
   ]
  },
  {
   "cell_type": "code",
   "execution_count": 7,
   "id": "c8cdf683",
   "metadata": {},
   "outputs": [
    {
     "data": {
      "text/plain": [
       "['38k', '78k', '23k']"
      ]
     },
     "execution_count": 7,
     "metadata": {},
     "output_type": "execute_result"
    }
   ],
   "source": [
    "nested_list[-1][1:4]"
   ]
  },
  {
   "cell_type": "code",
   "execution_count": 10,
   "id": "63e8d393",
   "metadata": {},
   "outputs": [
    {
     "data": {
      "text/plain": [
       "['38k', '78k', '23k']"
      ]
     },
     "execution_count": 10,
     "metadata": {},
     "output_type": "execute_result"
    }
   ],
   "source": [
    "nested_list[-1][1:4]"
   ]
  },
  {
   "cell_type": "code",
   "execution_count": 11,
   "id": "4a598aad",
   "metadata": {},
   "outputs": [
    {
     "name": "stdout",
     "output_type": "stream",
     "text": [
      "8\n"
     ]
    }
   ],
   "source": [
    "item = 5\n",
    "item = 5 + 3\n",
    "print(item)"
   ]
  },
  {
   "cell_type": "code",
   "execution_count": 12,
   "id": "039a2d6f",
   "metadata": {},
   "outputs": [
    {
     "name": "stdout",
     "output_type": "stream",
     "text": [
      "13\n"
     ]
    }
   ],
   "source": [
    "item = item + 5\n",
    "print(item)"
   ]
  },
  {
   "cell_type": "code",
   "execution_count": 13,
   "id": "1aad1b72",
   "metadata": {},
   "outputs": [
    {
     "name": "stdout",
     "output_type": "stream",
     "text": [
      "8\n"
     ]
    }
   ],
   "source": [
    "item  -= 5\n",
    "print(item)"
   ]
  },
  {
   "cell_type": "code",
   "execution_count": 14,
   "id": "fbeae5a5",
   "metadata": {},
   "outputs": [
    {
     "name": "stdout",
     "output_type": "stream",
     "text": [
      "24\n"
     ]
    }
   ],
   "source": [
    "item *=3\n",
    "print(item)"
   ]
  },
  {
   "cell_type": "code",
   "execution_count": 15,
   "id": "444ef49a",
   "metadata": {},
   "outputs": [
    {
     "name": "stdout",
     "output_type": "stream",
     "text": [
      "This is a Cat\n",
      "This is dog\n"
     ]
    }
   ],
   "source": [
    "spices = 'cat'\n",
    "if spices != 'dog':\n",
    "    print(\"This is a Cat\")\n",
    "    \n",
    "    print(\"This is dog\")\n"
   ]
  },
  {
   "cell_type": "code",
   "execution_count": 19,
   "id": "4af5c6c8",
   "metadata": {},
   "outputs": [
    {
     "name": "stdout",
     "output_type": "stream",
     "text": [
      "True\n"
     ]
    }
   ],
   "source": [
    "species = 'All Mammals are Species'\n",
    "if species != 'But Dog are not Species':\n",
    "    print('True')\n",
    "    \n",
    "else:\n",
    "    print(\"False\")\n"
   ]
  },
  {
   "cell_type": "code",
   "execution_count": 25,
   "id": "ba86dc86",
   "metadata": {},
   "outputs": [
    {
     "name": "stdout",
     "output_type": "stream",
     "text": [
      "Yes You Are Eligible\n"
     ]
    }
   ],
   "source": [
    "Gender = \"Male\"\n",
    "Age = '20'\n",
    "City = 'Karachi'\n",
    "if Gender == 'Male' or Age == '20' or City == 'Karachi':\n",
    "    print(\"Yes You Are Eligible\")\n",
    "else:\n",
    "    print(\"No You Are Not Eligible\")"
   ]
  },
  {
   "cell_type": "code",
   "execution_count": 48,
   "id": "6b1e13a8",
   "metadata": {},
   "outputs": [
    {
     "name": "stdout",
     "output_type": "stream",
     "text": [
      "Yes You are Eligible \n"
     ]
    }
   ],
   "source": [
    "Gender = \"Male\"\n",
    "Age = 34\n",
    "City = \"Karachi\"\n",
    "if (Gender == 'Male' and (Age < 20 and Age > 30)) or City == 'Karachi':\n",
    "    print(\"Yes You are Eligible \")\n",
    "else:\n",
    "    print(\"You Are not Eligible\")"
   ]
  },
  {
   "cell_type": "code",
   "execution_count": 34,
   "id": "1a1ec80c",
   "metadata": {},
   "outputs": [
    {
     "name": "stdout",
     "output_type": "stream",
     "text": [
      "Yes You are Eligible \n"
     ]
    }
   ],
   "source": [
    "Gender = \"Male\"\n",
    "Age = 40\n",
    "City = \"Karachi\"\n",
    "if Gender == 'Male' or (20>age<30) or City == 'Karachi':\n",
    "    print(\"Yes You are Eligible \")\n",
    "else:\n",
    "    print(\"You Are not Eligible\")"
   ]
  },
  {
   "cell_type": "code",
   "execution_count": 44,
   "id": "38cf04cc",
   "metadata": {},
   "outputs": [
    {
     "name": "stdout",
     "output_type": "stream",
     "text": [
      "Yes You are Eligible\n"
     ]
    }
   ],
   "source": [
    "Gender = \"Male\"\n",
    "Age = 34\n",
    "City = \"Karachi\"\n",
    "if (Gender == 'Male' and (Age > 20 and Age < 30)) or City == 'Karachi':\n",
    "    print(\"Yes You are Eligible\")\n",
    "else:\n",
    "    print(\"You Are not Eligible\")\n",
    "\n",
    "    "
   ]
  },
  {
   "cell_type": "code",
   "execution_count": 45,
   "id": "b6901b27",
   "metadata": {},
   "outputs": [
    {
     "name": "stdout",
     "output_type": "stream",
     "text": [
      "You Are not Eligible\n"
     ]
    }
   ],
   "source": [
    "Gender = \"Male\"\n",
    "Age = 34\n",
    "City = \"Karachi\"\n",
    "if (Gender == 'Male' and (Age <= 20 or Age >= 30)) or City == 'Karachi':\n",
    "    print(\"You Are not Eligible\")\n",
    "else:\n",
    "    print(\"Yes You are Eligible\")\n"
   ]
  },
  {
   "cell_type": "code",
   "execution_count": 1,
   "id": "cfcb756f",
   "metadata": {},
   "outputs": [
    {
     "name": "stdout",
     "output_type": "stream",
     "text": [
      "Hello Sharjeel,\n",
      "I am writing to extend a heartfelt invitation to you for a dinner I am hosting. Your pioneering work in computer science and your visionary ideas about computing have always inspired me. It would be an honor to discuss your contributions and insights over a meal.\n",
      "\n",
      "Hello Mubashir,\n",
      "I am writing to extend a heartfelt invitation to you for a dinner I am hosting. Your pioneering work in computer science and your visionary ideas about computing have always inspired me. It would be an honor to discuss your contributions and insights over a meal.\n",
      "\n",
      "Hello Raqib,\n",
      "I am writing to extend a heartfelt invitation to you for a dinner I am hosting. Your pioneering work in computer science and your visionary ideas about computing have always inspired me. It would be an honor to discuss your contributions and insights over a meal.\n",
      "\n"
     ]
    }
   ],
   "source": [
    "Guest_List = ['Sharjeel','Mubashir','Raqib']\n",
    "\n",
    "Invitation = \"I am writing to extend a heartfelt invitation to you for a dinner I am hosting. Your pioneering work in computer science and your visionary ideas about computing have always inspired me. It would be an honor to discuss your contributions and insights over a meal.\"\n",
    "\n",
    "for guest in Guest_List:\n",
    "    print(f'Hello {guest},\\n{Invitation}\\n')"
   ]
  },
  {
   "cell_type": "code",
   "execution_count": 6,
   "id": "b7a953e4",
   "metadata": {},
   "outputs": [
    {
     "name": "stdout",
     "output_type": "stream",
     "text": [
      "\n",
      "Unfortunately, Mubashir can't make it to the dinner.\n",
      "\n"
     ]
    },
    {
     "ename": "NameError",
     "evalue": "name 'guest_list' is not defined",
     "output_type": "error",
     "traceback": [
      "\u001b[1;31m---------------------------------------------------------------------------\u001b[0m",
      "\u001b[1;31mNameError\u001b[0m                                 Traceback (most recent call last)",
      "Cell \u001b[1;32mIn[6], line 15\u001b[0m\n\u001b[0;32m     12\u001b[0m     \u001b[38;5;28;01mreturn\u001b[39;00m guest_list\n\u001b[0;32m     14\u001b[0m \u001b[38;5;66;03m# Update the guest list\u001b[39;00m\n\u001b[1;32m---> 15\u001b[0m updated_guest_list \u001b[38;5;241m=\u001b[39m update_guest_list(guest_list, guest_who_cant_make_it, new_guest)\n\u001b[0;32m     17\u001b[0m \u001b[38;5;66;03m# Send out new invitations\u001b[39;00m\n\u001b[0;32m     18\u001b[0m send_invitations(updated_guest_list)\n",
      "\u001b[1;31mNameError\u001b[0m: name 'guest_list' is not defined"
     ]
    }
   ],
   "source": [
    "guest_who_cant_make_it = \"Mubashir\"\n",
    "\n",
    "print(f\"\\nUnfortunately, {guest_who_cant_make_it} can't make it to the dinner.\\n\")\n",
    "\n",
    "new_guest = \"Kashif\"\n",
    "\n",
    "def update_guest_list(guest_list, guest_who_cant_make_it, new_guest):\n",
    "    # Remove the guest who can't make it\n",
    "    guest_list.remove(guest_who_cant_make_it)\n",
    "    # Add the new guest\n",
    "    guest_list.append(new_guest)\n",
    "    return guest_list\n",
    "\n",
    "# Update the guest list\n",
    "updated_guest_list = update_guest_list(guest_list, guest_who_cant_make_it, new_guest)\n",
    "\n",
    "# Send out new invitations\n",
    "send_invitations(updated_guest_list)"
   ]
  },
  {
   "cell_type": "code",
   "execution_count": 3,
   "id": "eefd8444",
   "metadata": {},
   "outputs": [
    {
     "name": "stdout",
     "output_type": "stream",
     "text": [
      "\n",
      "Unfortunately, Mubashir can't make it to the dinner.\n",
      "\n",
      "Sending invitation to Sharjeel\n",
      "Sending invitation to Raqib\n",
      "Sending invitation to Lia\n",
      "Sending invitation to Kashif\n"
     ]
    }
   ],
   "source": [
    "guest_list = [\"Mubashir\", \"Sharjeel\", \"Raqib\", \"Lia\"]\n",
    "\n",
    "guest_who_cant_make_it = \"Mubashir\"\n",
    "\n",
    "print(f\"\\nUnfortunately, {guest_who_cant_make_it} can't make it to the dinner.\\n\")\n",
    "\n",
    "new_guest = \"Kashif\"\n",
    "\n",
    "def update_guest_list(guest_list, guest_who_cant_make_it, new_guest):\n",
    "    # Remove the guest who can't make it\n",
    "    guest_list.remove(guest_who_cant_make_it)\n",
    "    # Add the new guest\n",
    "    guest_list.append(new_guest)\n",
    "    return guest_list\n",
    "\n",
    "# Update the guest list\n",
    "updated_guest_list = update_guest_list(guest_list, guest_who_cant_make_it, new_guest)\n",
    "\n",
    "def send_invitations(guest_list):\n",
    "    for guest in guest_list:\n",
    "        print(f\"Sending invitation to {guest}\")\n",
    "\n",
    "# Send out new invitations\n",
    "send_invitations(updated_guest_list)\n",
    "\n"
   ]
  },
  {
   "cell_type": "code",
   "execution_count": 1,
   "id": "d925e8d5",
   "metadata": {},
   "outputs": [
    {
     "name": "stdout",
     "output_type": "stream",
     "text": [
      "Second highest number is :  45\n"
     ]
    }
   ],
   "source": [
    "\n",
    "\n",
    "# Python program to find second largest\n",
    "# number in a list\n",
    " \n",
    "# list of numbers - length of \n",
    "# list should be at least 2\n",
    "list1 = [10, 20, 4, 45, 99]\n",
    " \n",
    "mx = max(list1[0], list1[1]) \n",
    "secondmax = min(list1[0], list1[1]) \n",
    "n = len(list1)\n",
    "for i in range(2,n): \n",
    "    if list1[i] > mx: \n",
    "        secondmax = mx\n",
    "        mx = list1[i] \n",
    "    elif list1[i] > secondmax and \\\n",
    "        mx != list1[i]: \n",
    "        secondmax = list1[i]\n",
    "    elif mx == secondmax and \\\n",
    "        secondmax != list1[i]:\n",
    "          secondmax = list1[i]\n",
    " \n",
    "print(\"Second highest number is : \",\n",
    "      str(secondmax))"
   ]
  },
  {
   "cell_type": "code",
   "execution_count": null,
   "id": "71fed35a",
   "metadata": {},
   "outputs": [],
   "source": [
    "list2 = [23,32,45,65,34]\n",
    "mx = max(list2[0],list1[1])\n",
    "n = len(list2)\n",
    "for i in range(2,n):\n",
    "    if list2[i] > mx:\n",
    "        secondmax = mx\n",
    "        mx = list1[i]\n",
    "        elif list1[i] > secondmax and\n",
    "        mx != list2"
   ]
  },
  {
   "cell_type": "code",
   "execution_count": 5,
   "id": "755ee52a",
   "metadata": {},
   "outputs": [
    {
     "name": "stdout",
     "output_type": "stream",
     "text": [
      "Enter a Number2\n",
      "2\n"
     ]
    }
   ],
   "source": [
    "list1 = []\n",
    "var = int(input(\"Enter a Number\"))\n",
    "print(var)\n"
   ]
  },
  {
   "cell_type": "code",
   "execution_count": 6,
   "id": "970d1d81",
   "metadata": {},
   "outputs": [
    {
     "name": "stdout",
     "output_type": "stream",
     "text": [
      "[]\n"
     ]
    }
   ],
   "source": [
    "print(list1)"
   ]
  },
  {
   "cell_type": "code",
   "execution_count": 7,
   "id": "7459a46a",
   "metadata": {},
   "outputs": [
    {
     "name": "stdout",
     "output_type": "stream",
     "text": [
      "Enter the number of commands: 2\n",
      "2\n",
      "4\n"
     ]
    }
   ],
   "source": [
    "# Initialize the list\n",
    "my_list = []\n",
    "\n",
    "# Read the number of commands\n",
    "n = int(input(\"Enter the number of commands: \"))\n",
    "\n",
    "# Process each command\n",
    "for _ in range(n):\n",
    "    # Read the command\n",
    "    command = input().split()\n",
    "    action = command[0]\n",
    "    \n",
    "    if action == \"insert\":\n",
    "        index = int(command[1])\n",
    "        value = int(command[2])\n",
    "        my_list.insert(index, value)\n",
    "    elif action == \"print\":\n",
    "        print(my_list)\n",
    "    elif action == \"remove\":\n",
    "        value = int(command[1])\n",
    "        my_list.remove(value)\n",
    "    elif action == \"append\":\n",
    "        value = int(command[1])\n",
    "        my_list.append(value)\n",
    "    elif action == \"sort\":\n",
    "        my_list.sort()\n",
    "    elif action == \"pop\":\n",
    "        if my_list:\n",
    "            my_list.pop()\n",
    "    elif action == \"reverse\":\n",
    "        my_list.reverse()\n"
   ]
  },
  {
   "cell_type": "code",
   "execution_count": 13,
   "id": "022def37",
   "metadata": {},
   "outputs": [
    {
     "name": "stdout",
     "output_type": "stream",
     "text": [
      "Enter a Number3\n",
      "4\n",
      "r\n",
      "r\n"
     ]
    }
   ],
   "source": [
    "list1 = []\n",
    "n = int(input(\"Enter a Number\"))                                       \n",
    "for var in range(n):\n",
    "    command = input().split()\n",
    "    action = command[0]\n",
    "    if action == 'insert':\n",
    "        index = int(command[1])\n",
    "        value = int(command[2])\n",
    "        list1.insert(index,value)"
   ]
  },
  {
   "cell_type": "code",
   "execution_count": 14,
   "id": "e4105a7d",
   "metadata": {},
   "outputs": [
    {
     "name": "stdout",
     "output_type": "stream",
     "text": [
      "Please Enter the Number3\n",
      "2\n",
      "\n"
     ]
    },
    {
     "ename": "IndexError",
     "evalue": "list index out of range",
     "output_type": "error",
     "traceback": [
      "\u001b[1;31m---------------------------------------------------------------------------\u001b[0m",
      "\u001b[1;31mIndexError\u001b[0m                                Traceback (most recent call last)",
      "Cell \u001b[1;32mIn[14], line 5\u001b[0m\n\u001b[0;32m      3\u001b[0m \u001b[38;5;28;01mfor\u001b[39;00m n \u001b[38;5;129;01min\u001b[39;00m \u001b[38;5;28mrange\u001b[39m(n):\n\u001b[0;32m      4\u001b[0m     command \u001b[38;5;241m=\u001b[39m \u001b[38;5;28minput\u001b[39m()\u001b[38;5;241m.\u001b[39msplit()\n\u001b[1;32m----> 5\u001b[0m     action \u001b[38;5;241m=\u001b[39m command[\u001b[38;5;241m0\u001b[39m]\n\u001b[0;32m      6\u001b[0m     \u001b[38;5;28;01mif\u001b[39;00m action \u001b[38;5;241m==\u001b[39m \u001b[38;5;124m'\u001b[39m\u001b[38;5;124minsert\u001b[39m\u001b[38;5;124m'\u001b[39m:\n\u001b[0;32m      7\u001b[0m         index \u001b[38;5;241m=\u001b[39m \u001b[38;5;28mint\u001b[39m(command[\u001b[38;5;241m1\u001b[39m])\n",
      "\u001b[1;31mIndexError\u001b[0m: list index out of range"
     ]
    }
   ],
   "source": [
    "list2 = []\n",
    "n = int(input(\"Please Enter the Number\"))\n",
    "for n in range(n):\n",
    "    command = input().split()\n",
    "    action = command[0]\n",
    "    if action == 'insert':\n",
    "        index = int(command[1])\n",
    "        value = int(command[2])\n",
    "        list2.insert(index,command)\n",
    "    elif action == 'print':\n",
    "        print(list2)\n",
    "    elif action == 'remove':\n",
    "        value = int(command[1])\n",
    "        list2.remove(value)"
   ]
  },
  {
   "cell_type": "code",
   "execution_count": 15,
   "id": "4a584619",
   "metadata": {},
   "outputs": [
    {
     "name": "stdout",
     "output_type": "stream",
     "text": [
      "Please Enter the Number of Commands:3\n",
      "2\n",
      "23\n",
      "23\n"
     ]
    }
   ],
   "source": [
    "list2 = []\n",
    "n = int(input(\"Please Enter the Number of Commands:\"))  # Number of commands to read\n",
    "\n",
    "for _ in range(n):  # Loop to execute each command\n",
    "    command = input().split()  # Read and split the command input\n",
    "    action = command[0]  # Get the action from the command\n",
    "    \n",
    "    if action == 'insert':\n",
    "        index = int(command[1])  # Get the index from the command\n",
    "        value = int(command[2])  # Get the value from the command\n",
    "        list2.insert(index, value)  # Insert value at the specified index\n",
    "    elif action == 'print':\n",
    "        print(list2)  # Print the current state of the list\n",
    "    elif action == 'remove':\n",
    "        value = int(command[1])  # Get the value to remove from the command\n",
    "        list2.remove(value)  # Remove the first occurrence of the value from the list\n"
   ]
  },
  {
   "cell_type": "code",
   "execution_count": 19,
   "id": "40a25f3b",
   "metadata": {},
   "outputs": [
    {
     "name": "stdout",
     "output_type": "stream",
     "text": [
      "Hello Kashif,\n",
      " Sir i Invited You Dinner\n",
      "\n",
      "Hello Hasnain,\n",
      " Sir i Invited You Dinner\n",
      "\n",
      "Hello Faizan,\n",
      " Sir i Invited You Dinner\n",
      "\n"
     ]
    }
   ],
   "source": [
    "my_int = ['Kashif','Hasnain','Faizan']\n",
    "invitation = ' Sir i Invited You Dinner'\n",
    "for guest in my_int:\n",
    "    print(f\"Hello {guest},\\n{invitation}\\n\")"
   ]
  },
  {
   "cell_type": "code",
   "execution_count": 22,
   "id": "934ebb28",
   "metadata": {},
   "outputs": [
    {
     "name": "stdout",
     "output_type": "stream",
     "text": [
      " HelloSharjeel,\n",
      "Are You invited In Ceremony\n",
      "\n",
      " HelloMubashir,\n",
      "Are You invited In Ceremony\n",
      "\n",
      " HelloRaqib,\n",
      "Are You invited In Ceremony\n",
      "\n"
     ]
    }
   ],
   "source": [
    "my_list = [\"Sharjeel\",'Mubashir','Raqib']\n",
    "invite = \"Are You invited In Ceremony\"\n",
    "for guest in my_list:\n",
    "    print(f' Hello{guest},\\n{invite}\\n')"
   ]
  },
  {
   "cell_type": "code",
   "execution_count": 23,
   "id": "3a7911b2",
   "metadata": {},
   "outputs": [
    {
     "name": "stdout",
     "output_type": "stream",
     "text": [
      "Second highest number is :  45\n"
     ]
    }
   ],
   "source": [
    "list1 = [10, 20, 4, 45, 99]\n",
    " \n",
    "mx = max(list1[0], list1[1]) \n",
    "secondmax = min(list1[0], list1[1]) \n",
    "n = len(list1)\n",
    "for i in range(2,n): \n",
    "    if list1[i] > mx: \n",
    "        secondmax = mx\n",
    "        mx = list1[i] \n",
    "    elif list1[i] > secondmax and \\\n",
    "        mx != list1[i]: \n",
    "        secondmax = list1[i]\n",
    "    elif mx == secondmax and \\\n",
    "        secondmax != list1[i]:\n",
    "          secondmax = list1[i]\n",
    " \n",
    "print(\"Second highest number is : \",\\\n",
    "      str(secondmax))"
   ]
  },
  {
   "cell_type": "code",
   "execution_count": null,
   "id": "11e6783e",
   "metadata": {},
   "outputs": [],
   "source": [
    "my_list = [4,3,2,5,2]\n",
    "mx = max(my_list[0],my_list[1])\n",
    "secondmax = min(my_list[0],my_list[1])\n",
    "n = len(my_list)\n",
    "for i in range(2,n):\n",
    "    if my_list[i] > mx:\n",
    "        secondmx = mx\n",
    "        mx = "
   ]
  },
  {
   "cell_type": "code",
   "execution_count": 3,
   "id": "a67491de",
   "metadata": {},
   "outputs": [
    {
     "name": "stdout",
     "output_type": "stream",
     "text": [
      "[3, 4]\n"
     ]
    }
   ],
   "source": [
    "var = [3,4,3,2,4]\n",
    "print(var[0:2])\n"
   ]
  },
  {
   "cell_type": "code",
   "execution_count": 1,
   "id": "e400d573",
   "metadata": {},
   "outputs": [
    {
     "data": {
      "text/plain": [
       "'france'"
      ]
     },
     "execution_count": 1,
     "metadata": {},
     "output_type": "execute_result"
    }
   ],
   "source": [
    "world_cup_winners = ('Argentina','france','germany')\n",
    "world_cup_winners[1]"
   ]
  },
  {
   "cell_type": "code",
   "execution_count": 3,
   "id": "cebb2b0d",
   "metadata": {},
   "outputs": [
    {
     "data": {
      "text/plain": [
       "'Khan'"
      ]
     },
     "execution_count": 3,
     "metadata": {},
     "output_type": "execute_result"
    }
   ],
   "source": [
    "world_cup = ('Sharjeel','Ahmed','Khan')\n",
    "world_cup[2]"
   ]
  },
  {
   "cell_type": "code",
   "execution_count": 4,
   "id": "e2f8bd7e",
   "metadata": {},
   "outputs": [
    {
     "data": {
      "text/plain": [
       "{'id': 1122, 'name': 'zubair', 'age': 31, 'gender': 'male'}"
      ]
     },
     "execution_count": 4,
     "metadata": {},
     "output_type": "execute_result"
    }
   ],
   "source": [
    "patient1 = {\n",
    "    'id' : 1122,\n",
    "    'name' : 'zubair',\n",
    "    'age': 31,\n",
    "    'gender' : 'male'\n",
    "}\n",
    "patient1"
   ]
  },
  {
   "cell_type": "code",
   "execution_count": 6,
   "id": "26c64123",
   "metadata": {},
   "outputs": [
    {
     "data": {
      "text/plain": [
       "{'id': '1245', 'name': 'sharjeel', 'age': 42, 'gender': 'male'}"
      ]
     },
     "execution_count": 6,
     "metadata": {},
     "output_type": "execute_result"
    }
   ],
   "source": [
    "num = {\n",
    "    'id' : '1245',\n",
    "    'name' : 'sharjeel',\n",
    "    'age' : 42,\n",
    "    'gender' : 'male'\n",
    "}\n",
    "num"
   ]
  },
  {
   "cell_type": "code",
   "execution_count": 8,
   "id": "fef2cadf",
   "metadata": {},
   "outputs": [
    {
     "data": {
      "text/plain": [
       "'sharjeel'"
      ]
     },
     "execution_count": 8,
     "metadata": {},
     "output_type": "execute_result"
    }
   ],
   "source": [
    "num['name']"
   ]
  },
  {
   "cell_type": "code",
   "execution_count": 1,
   "id": "53ffa778",
   "metadata": {},
   "outputs": [
    {
     "name": "stdout",
     "output_type": "stream",
     "text": [
      "0: I'm Happy\n",
      "1: I'm Happy\n",
      "2: I'm Happy\n",
      "3: I'm Happy\n",
      "4: I'm Happy\n",
      "5: I'm Happy\n",
      "6: I'm Happy\n",
      "7: I'm Happy\n",
      "8: I'm Happy\n",
      "9: I'm Happy\n"
     ]
    }
   ],
   "source": [
    "for i in range(10):\n",
    "    print(str(i) + ''': I'm Happy''')"
   ]
  },
  {
   "cell_type": "code",
   "execution_count": 4,
   "id": "4ea5de3f",
   "metadata": {},
   "outputs": [
    {
     "name": "stdout",
     "output_type": "stream",
     "text": [
      "0:I am good\n",
      "1:I am good\n",
      "2:I am good\n",
      "3:I am good\n",
      "4:I am good\n"
     ]
    }
   ],
   "source": [
    "for i in range(5):\n",
    "    print(str(i) +  \":I am good\")"
   ]
  },
  {
   "cell_type": "code",
   "execution_count": 2,
   "id": "87255dc4",
   "metadata": {},
   "outputs": [
    {
     "name": "stdout",
     "output_type": "stream",
     "text": [
      "karachi\n",
      "hyderabad\n",
      "islamabad\n",
      "quetta\n",
      "lahore\n"
     ]
    }
   ],
   "source": [
    "cities = ['karachi','hyderabad', 'islamabad', 'quetta','lahore']\n",
    "\n",
    "for city in cities:\n",
    "    print(city)"
   ]
  },
  {
   "cell_type": "code",
   "execution_count": 3,
   "id": "eadd2d9f",
   "metadata": {},
   "outputs": [
    {
     "name": "stdout",
     "output_type": "stream",
     "text": [
      "0 : karachi\n",
      "1 : hyderabad\n",
      "2 : islamabad\n",
      "3 : quetta\n",
      "4 : lahore\n"
     ]
    }
   ],
   "source": [
    "for ind, city in enumerate(cities):\n",
    "    print(str(ind) + \" : \" + city)"
   ]
  },
  {
   "cell_type": "code",
   "execution_count": 5,
   "id": "f4f3cf31",
   "metadata": {},
   "outputs": [
    {
     "name": "stdout",
     "output_type": "stream",
     "text": [
      "Pakistan\n",
      "America\n",
      "India\n",
      "Bangladesh\n",
      "Dubai\n",
      "Saudia\n"
     ]
    }
   ],
   "source": [
    "country = ['Pakistan','America','India','Bangladesh','Dubai','Saudia']\n",
    "for cnt in country:\n",
    "    print(cnt)"
   ]
  },
  {
   "cell_type": "code",
   "execution_count": 6,
   "id": "25c30d16",
   "metadata": {},
   "outputs": [
    {
     "name": "stdout",
     "output_type": "stream",
     "text": [
      "0:Pakistan\n",
      "1:America\n",
      "2:India\n",
      "3:Bangladesh\n",
      "4:Dubai\n",
      "5:Saudia\n"
     ]
    }
   ],
   "source": [
    "for ind,cnt in enumerate(country):\n",
    "    print(str(ind) + \":\"+ cnt )"
   ]
  },
  {
   "cell_type": "code",
   "execution_count": 2,
   "id": "f305a60a",
   "metadata": {},
   "outputs": [
    {
     "name": "stdout",
     "output_type": "stream",
     "text": [
      "Hello Sir\n"
     ]
    }
   ],
   "source": [
    "def user_greeting():\n",
    "    print(\"Hello Sir\")\n",
    "user_greeting()\n",
    "    "
   ]
  },
  {
   "cell_type": "code",
   "execution_count": 4,
   "id": "abd2579a",
   "metadata": {},
   "outputs": [
    {
     "data": {
      "text/plain": [
       "'Hey Marry How are you Buddy!'"
      ]
     },
     "execution_count": 4,
     "metadata": {},
     "output_type": "execute_result"
    }
   ],
   "source": [
    "def user_name():\n",
    "    return(\"Hey Marry How are you Buddy!\")\n",
    "user_name()"
   ]
  },
  {
   "cell_type": "code",
   "execution_count": 5,
   "id": "2c274890",
   "metadata": {},
   "outputs": [
    {
     "data": {
      "text/plain": [
       "'My name is Sharjeel and My id is BAI-22S-035'"
      ]
     },
     "execution_count": 5,
     "metadata": {},
     "output_type": "execute_result"
    }
   ],
   "source": [
    "def user_all(name,id):\n",
    "    return(f\"My name is {name} and My id is {id}\")\n",
    "user_all(\"Sharjeel\",\"BAI-22S-035\")"
   ]
  },
  {
   "cell_type": "code",
   "execution_count": 7,
   "id": "65d56136",
   "metadata": {},
   "outputs": [
    {
     "name": "stdout",
     "output_type": "stream",
     "text": [
      "Sharjeel Khan\n"
     ]
    }
   ],
   "source": [
    "def full_name(first_name,last_name):\n",
    "    f_name = first_name+  \" \" +last_name\n",
    "    print(f_name)\n",
    "full_name(\"Sharjeel\",\"Khan\")"
   ]
  },
  {
   "cell_type": "code",
   "execution_count": 8,
   "id": "3af872e4",
   "metadata": {},
   "outputs": [
    {
     "name": "stdout",
     "output_type": "stream",
     "text": [
      "Sharjeel Khan\n"
     ]
    }
   ],
   "source": [
    "def full_name(first_name,last_name):\n",
    "    f_name = first_name+ \" \"+last_name\n",
    "    print(f_name)\n",
    "full_name(\"Sharjeel\",\"Khan\")"
   ]
  },
  {
   "cell_type": "code",
   "execution_count": 10,
   "id": "dbfeed27",
   "metadata": {},
   "outputs": [
    {
     "name": "stdout",
     "output_type": "stream",
     "text": [
      "ABC DEF\n"
     ]
    }
   ],
   "source": [
    "def name(first_name,last_name):\n",
    "    f_name = first_name+ \" \"+last_name\n",
    "    print(f_name)\n",
    "name(\"ABC\",\"DEF\")"
   ]
  },
  {
   "cell_type": "code",
   "execution_count": 11,
   "id": "121a9e74",
   "metadata": {},
   "outputs": [
    {
     "name": "stdout",
     "output_type": "stream",
     "text": [
      "My name is Zubair\n",
      "13\n",
      "Zubair\n",
      "Zubair\n"
     ]
    }
   ],
   "source": [
    "def add(num1,num2):\n",
    "    total = num1 + num2\n",
    "    print(total)\n",
    "def student(name,id):\n",
    "    print(f'''My name is {name}''')\n",
    "    add(11,2)\n",
    "    print(name)\n",
    "    return name\n",
    "name1 = student('Zubair',12004)\n",
    "print(name1)"
   ]
  },
  {
   "cell_type": "code",
   "execution_count": 12,
   "id": "14057892",
   "metadata": {},
   "outputs": [
    {
     "ename": "SyntaxError",
     "evalue": "'return' outside function (3736425106.py, line 1)",
     "output_type": "error",
     "traceback": [
      "\u001b[1;36m  Cell \u001b[1;32mIn[12], line 1\u001b[1;36m\u001b[0m\n\u001b[1;33m    return(\"abc\")\u001b[0m\n\u001b[1;37m    ^\u001b[0m\n\u001b[1;31mSyntaxError\u001b[0m\u001b[1;31m:\u001b[0m 'return' outside function\n"
     ]
    }
   ],
   "source": [
    "return(\"abc\")"
   ]
  },
  {
   "cell_type": "code",
   "execution_count": 13,
   "id": "ef0a9c0b",
   "metadata": {},
   "outputs": [
    {
     "name": "stdout",
     "output_type": "stream",
     "text": [
      "abc\n"
     ]
    }
   ],
   "source": [
    "print('abc')"
   ]
  },
  {
   "cell_type": "code",
   "execution_count": 16,
   "id": "da8940d8",
   "metadata": {},
   "outputs": [
    {
     "name": "stdout",
     "output_type": "stream",
     "text": [
      "My name is zubair\n",
      "13\n"
     ]
    }
   ],
   "source": [
    "def add(num1,num2):\n",
    "    total = num1 + num2\n",
    "    #print(total)\n",
    "    return total\n",
    "def student(name,id):\n",
    "    print(f'''My name is {name}''')\n",
    "    add(11,2)\n",
    "    return name\n",
    "name1 = student('zubair',12400)"
   ]
  },
  {
   "cell_type": "code",
   "execution_count": 18,
   "id": "3390d39f",
   "metadata": {},
   "outputs": [
    {
     "name": "stdout",
     "output_type": "stream",
     "text": [
      "My Name is Sharjeel\n",
      "15\n"
     ]
    }
   ],
   "source": [
    "def add(num1,num2):\n",
    "    total = num1 + num2\n",
    "    print(total)\n",
    "    #return total\n",
    "def student(name,id):\n",
    "    print(f'''My Name is {name}''')\n",
    "    add(12,3)\n",
    "    return name\n",
    "name1 = student('Sharjeel',13000)"
   ]
  },
  {
   "cell_type": "code",
   "execution_count": 2,
   "id": "4e8ef137",
   "metadata": {},
   "outputs": [
    {
     "name": "stdout",
     "output_type": "stream",
     "text": [
      "Maximum value: 67\n"
     ]
    }
   ],
   "source": [
    "def find_max(numbers):\n",
    "    # Assuming the list is not empty, initialize max_value with the first element\n",
    "    max_value = numbers[0]\n",
    "\n",
    "    # Loop through the list to find the maximum value\n",
    "    for num in numbers:\n",
    "        if num > max_value:\n",
    "            max_value = num\n",
    "\n",
    "    return max_value\n",
    "\n",
    "# Example usage\n",
    "numbers = [10, 25, 43, 7, 19,67]\n",
    "max_value = find_max(numbers)\n",
    "print(\"Maximum value:\", max_value)\n"
   ]
  },
  {
   "cell_type": "code",
   "execution_count": 3,
   "id": "b89addf9",
   "metadata": {},
   "outputs": [
    {
     "name": "stdout",
     "output_type": "stream",
     "text": [
      "Maximum Value: 64\n"
     ]
    }
   ],
   "source": [
    "def find_max(numbers):\n",
    "    max_value = numbers[0]\n",
    "    for num in numbers:\n",
    "        if num > max_value:\n",
    "            max_value = num\n",
    "            \n",
    "    return max_value\n",
    "numbers = [10,20,35,23,64,33]\n",
    "max_value = find_max(numbers)\n",
    "print(\"Maximum Value:\",max_value)"
   ]
  },
  {
   "cell_type": "code",
   "execution_count": 4,
   "id": "91370a0c",
   "metadata": {},
   "outputs": [
    {
     "name": "stdout",
     "output_type": "stream",
     "text": [
      "Maximun Number is 64\n"
     ]
    }
   ],
   "source": [
    "def find_max(numbers):\n",
    "    max_value = numbers[0]\n",
    "    for num in numbers:\n",
    "        if num>max_value:\n",
    "            max_value = num\n",
    "    return max_value\n",
    "number = [2,3,6,4]\n",
    "print(\"Maximun Number is\",max_value)"
   ]
  },
  {
   "cell_type": "code",
   "execution_count": 6,
   "id": "7593c19b",
   "metadata": {},
   "outputs": [
    {
     "name": "stdout",
     "output_type": "stream",
     "text": [
      "Second Maximum value: 25\n"
     ]
    }
   ],
   "source": [
    "def find_second_max(numbers):\n",
    "    # Unique elements ko set mein convert karke list banate hain\n",
    "    unique_numbers = list(set(numbers))\n",
    "\n",
    "    # Agar elements 2 ya us se zyada hain tabhi second max find ho sakti hai\n",
    "    if len(unique_numbers) < 2:\n",
    "        return None  # Second maximum value exist nahi karti\n",
    "    else:\n",
    "        # List ko sort karen descending order mein aur second element return karen\n",
    "        unique_numbers.sort(reverse=True)\n",
    "        return unique_numbers[1]\n",
    "\n",
    "# Example usage\n",
    "numbers = [10, 25, 43, 7, 19, 43, 25]\n",
    "second_max = find_second_max(numbers)\n",
    "print(\"Second Maximum value:\", second_max)\n"
   ]
  },
  {
   "cell_type": "code",
   "execution_count": 7,
   "id": "ab034950",
   "metadata": {},
   "outputs": [
    {
     "name": "stdout",
     "output_type": "stream",
     "text": [
      "Enter number of elements:3\n",
      "Enter element:2\n",
      "Enter element:3\n",
      "Enter element:3\n",
      "Second largest element is: 3\n"
     ]
    }
   ],
   "source": [
    "a=[]\n",
    "n=int(input(\"Enter number of elements:\"))\n",
    "for i in range(1,n+1):\n",
    "    b=int(input(\"Enter element:\"))\n",
    "    a.append(b)\n",
    "a.sort()\n",
    "print(\"Second largest element is:\",a[n-2])"
   ]
  },
  {
   "cell_type": "markdown",
   "id": "dec92a51",
   "metadata": {},
   "source": []
  },
  {
   "cell_type": "code",
   "execution_count": 8,
   "id": "12b5c972",
   "metadata": {},
   "outputs": [
    {
     "name": "stdout",
     "output_type": "stream",
     "text": [
      "Second Maximum value: 25\n"
     ]
    }
   ],
   "source": [
    "def find_second_max(numbers):\n",
    "    # Pehle list se maximum value find karen\n",
    "    first_max = max(numbers)\n",
    "    \n",
    "    # List se sabhi occurrences of maximum value remove karen\n",
    "    numbers = [num for num in numbers if num != first_max]\n",
    "    \n",
    "    # Phir se maximum value find karen (yeh second maximum hogi)\n",
    "    second_max = max(numbers)\n",
    "    \n",
    "    return second_max\n",
    "\n",
    "# Example usage\n",
    "numbers = [10, 25, 43, 7, 19, 43, 25]\n",
    "second_max = find_second_max(numbers)\n",
    "print(\"Second Maximum value:\", second_max)\n"
   ]
  },
  {
   "cell_type": "code",
   "execution_count": 9,
   "id": "d75a4138",
   "metadata": {},
   "outputs": [
    {
     "name": "stdout",
     "output_type": "stream",
     "text": [
      "My name is zubair and my father name is Shafiq.\n",
      "    I'm in 2nd semester\n"
     ]
    }
   ],
   "source": [
    "# global scope\n",
    "father = 'Shafiq' # global variable\n",
    "\n",
    "def student(name, id):\n",
    "    # local scope\n",
    "    semester = '2nd'  # local variable\n",
    "    print(f'''My name is {name} and my father name is {father}.\n",
    "    I'm in {semester} semester''')\n",
    "\n",
    "student('zubair', 12004)"
   ]
  },
  {
   "cell_type": "code",
   "execution_count": 11,
   "id": "74443c51",
   "metadata": {},
   "outputs": [
    {
     "name": "stdout",
     "output_type": "stream",
     "text": [
      " My name is abdul and My father name is Amir\n",
      "    I,m in 2nd semester\n"
     ]
    }
   ],
   "source": [
    "father = 'Amir'\n",
    "def student(name,id):\n",
    "    semester = '2nd'\n",
    "    print(f''' My name is {name} and My father name is {father}\n",
    "    I,m in {semester} semester''')\n",
    "student('abdul',1234)"
   ]
  },
  {
   "cell_type": "code",
   "execution_count": 17,
   "id": "305a0773",
   "metadata": {},
   "outputs": [
    {
     "name": "stdout",
     "output_type": "stream",
     "text": [
      " My name is Sharjeel and My father name is Amir\n",
      "    I,m in 2nd semester\n"
     ]
    }
   ],
   "source": [
    "Last_name = \"Khan\"\n",
    "def Student(name,id):\n",
    "    semester = '3rd'\n",
    "    print(f'''My First name is {name} and My last name is {name}\n",
    "    I am student of {semester} semester student ''')\n",
    "student('Sharjeel',543)"
   ]
  },
  {
   "cell_type": "code",
   "execution_count": 1,
   "id": "69dc6bbb",
   "metadata": {},
   "outputs": [
    {
     "name": "stdout",
     "output_type": "stream",
     "text": [
      "Sum: 30, Average: 6.0\n"
     ]
    }
   ],
   "source": [
    "def calculate_sum_and_average(numbers):\n",
    "    # Sum calculate karna\n",
    "    total_sum = 0\n",
    "    for num in numbers:\n",
    "        total_sum += num\n",
    "\n",
    "    # Average calculate karna\n",
    "    if len(numbers) > 0:\n",
    "        average = total_sum / len(numbers)\n",
    "    else:\n",
    "        average = 0\n",
    "\n",
    "    return total_sum, average\n",
    "\n",
    "# Function ko test karne ke liye array provide karo\n",
    "numbers = [2, 4, 6, 8, 10]\n",
    "sum_value, avg_value = calculate_sum_and_average(numbers)\n",
    "\n",
    "print(f\"Sum: {sum_value}, Average: {avg_value}\")\n"
   ]
  },
  {
   "cell_type": "code",
   "execution_count": 1,
   "id": "9406c392",
   "metadata": {},
   "outputs": [
    {
     "ename": "SyntaxError",
     "evalue": "invalid syntax (666912788.py, line 3)",
     "output_type": "error",
     "traceback": [
      "\u001b[1;36m  Cell \u001b[1;32mIn[1], line 3\u001b[1;36m\u001b[0m\n\u001b[1;33m    for num is numbers:\u001b[0m\n\u001b[1;37m            ^\u001b[0m\n\u001b[1;31mSyntaxError\u001b[0m\u001b[1;31m:\u001b[0m invalid syntax\n"
     ]
    }
   ],
   "source": [
    "def calculate_sum_array(numbers):\n",
    "    total_sum = 0\n",
    "    for num is numbers:\n",
    "        total_sum += num\n",
    "        \n",
    "        if len(numbers) > 0:\n",
    "            average = total_sum / len(numbers)\n",
    "        else:\n",
    "            average = 0\n",
    "        return total_sum,average\n",
    "    \n",
    "numbers = [2,4,6,8,10]\n",
    "sum_value,avg_value = calculate_sum_and_average(numbers)\n",
    "\n",
    "print(f\"Sum: {sum_value}, Average:{avg_value}\")"
   ]
  },
  {
   "cell_type": "code",
   "execution_count": 3,
   "id": "8179d239",
   "metadata": {},
   "outputs": [
    {
     "name": "stdout",
     "output_type": "stream",
     "text": [
      "Hello! My Name is Sharjeel\n"
     ]
    }
   ],
   "source": [
    "def  abc():\n",
    "    print(\"Hello! My Name is Sharjeel\")\n",
    "abc()\n",
    "    "
   ]
  },
  {
   "cell_type": "code",
   "execution_count": 4,
   "id": "2cf67f18",
   "metadata": {},
   "outputs": [
    {
     "name": "stdout",
     "output_type": "stream",
     "text": [
      "Greeting\n",
      "Sharjeel\n"
     ]
    }
   ],
   "source": [
    "def greeting(name):\n",
    "    print('Greeting')\n",
    "    print(name)\n",
    "greeting('Sharjeel')"
   ]
  },
  {
   "cell_type": "code",
   "execution_count": 5,
   "id": "e7ae56ee",
   "metadata": {},
   "outputs": [
    {
     "name": "stdout",
     "output_type": "stream",
     "text": [
      "Greeting noman\n",
      "Greeting Shakir\n",
      "Greeting Ali\n",
      "Greeting Hassan\n"
     ]
    }
   ],
   "source": [
    "def user_greeting(user_name):\n",
    "    print(\"Greeting\" + \" \" + user_name)\n",
    "\n",
    "user_greeting('noman')\n",
    "user_greeting('Shakir')\n",
    "user_greeting('Ali')\n",
    "user_greeting('Hassan')"
   ]
  },
  {
   "cell_type": "code",
   "execution_count": 7,
   "id": "57e0f50c",
   "metadata": {},
   "outputs": [
    {
     "name": "stdout",
     "output_type": "stream",
     "text": [
      "Greeting Sharjeel\n",
      "Greeting Mubashir\n",
      "Greeting Raqib\n"
     ]
    }
   ],
   "source": [
    "def user_greeting(user_name):\n",
    "    print(\"Greeting\" + \" \" + user_name)\n",
    "user_greeting('Sharjeel')\n",
    "user_greeting('Mubashir')\n",
    "user_greeting('Raqib')"
   ]
  },
  {
   "cell_type": "code",
   "execution_count": 12,
   "id": "98042e6b",
   "metadata": {},
   "outputs": [
    {
     "name": "stdout",
     "output_type": "stream",
     "text": [
      "Hello Sharjeel, How are you!\n",
      "Hello Mubashir, How are you!\n",
      "Hello Raqib, How are you!\n"
     ]
    }
   ],
   "source": [
    "def user_greeting(user_names):\n",
    "    for name in user_names:\n",
    "        print(f\"Hello {name}, How are you!\")\n",
    "\n",
    "# Example usage:\n",
    "user_names = [\"Sharjeel\", \"Mubashir\", \"Raqib\"]\n",
    "user_greeting(user_names)\n"
   ]
  },
  {
   "cell_type": "code",
   "execution_count": 14,
   "id": "6108cb13",
   "metadata": {},
   "outputs": [
    {
     "name": "stdout",
     "output_type": "stream",
     "text": [
      "Hello Sharjeel\n",
      "Hello Sharjeel\n"
     ]
    }
   ],
   "source": [
    "def greeting(user_name):\n",
    "    print(f\"Hello\" + \" \" + user_name)\n",
    "greeting('Sharjeel')\n",
    "greeting('Sharjeel')"
   ]
  },
  {
   "cell_type": "code",
   "execution_count": 15,
   "id": "f92cc466",
   "metadata": {},
   "outputs": [
    {
     "name": "stdout",
     "output_type": "stream",
     "text": [
      "Nouroz Khan\n"
     ]
    }
   ],
   "source": [
    "def full_name(last_name, first_name):\n",
    "    f_name = first_name + \" \" + last_name\n",
    "    print(f_name)\n",
    "\n",
    "full_name(first_name = \"Nouroz\", last_name = \"Khan\")"
   ]
  },
  {
   "cell_type": "code",
   "execution_count": 18,
   "id": "054152ed",
   "metadata": {},
   "outputs": [
    {
     "name": "stdout",
     "output_type": "stream",
     "text": [
      "Sharjeel Khan\n"
     ]
    }
   ],
   "source": [
    "def full_name(first_name , last_name):\n",
    "    f_name = first_name + \" \" + last_name\n",
    "    print(f_name)\n",
    "full_name(first_name = 'Sharjeel',last_name = 'Khan')"
   ]
  },
  {
   "cell_type": "markdown",
   "id": "c1e810bb",
   "metadata": {},
   "source": [
    "Key_word Argument "
   ]
  },
  {
   "cell_type": "code",
   "execution_count": 20,
   "id": "5fdae89d",
   "metadata": {},
   "outputs": [
    {
     "name": "stdout",
     "output_type": "stream",
     "text": [
      "Sharjeel Ahmed Khan\n"
     ]
    }
   ],
   "source": [
    "def full_name(first_name,last_name):\n",
    "    f_name = first_name + \" \" + last_name\n",
    "    print(f_name)\n",
    "full_name(first_name = 'Sharjeel Ahmed',last_name = 'Khan')"
   ]
  },
  {
   "cell_type": "code",
   "execution_count": 2,
   "id": "2d61ff05",
   "metadata": {},
   "outputs": [
    {
     "name": "stdout",
     "output_type": "stream",
     "text": [
      "\n",
      "--- CRUD Application Menu ---\n",
      "1. Create Entry\n",
      "2. Read Entries\n",
      "3. Update Entry\n",
      "4. Delete Entry\n",
      "5. Exit\n",
      "Enter your choice (1-5): 1\n",
      "Enter the new entry: abc\n",
      "abc added successfully!\n",
      "\n",
      "--- CRUD Application Menu ---\n",
      "1. Create Entry\n",
      "2. Read Entries\n",
      "3. Update Entry\n",
      "4. Delete Entry\n",
      "5. Exit\n"
     ]
    },
    {
     "ename": "KeyboardInterrupt",
     "evalue": "Interrupted by user",
     "output_type": "error",
     "traceback": [
      "\u001b[1;31m---------------------------------------------------------------------------\u001b[0m",
      "\u001b[1;31mKeyboardInterrupt\u001b[0m                         Traceback (most recent call last)",
      "Cell \u001b[1;32mIn[2], line 70\u001b[0m\n\u001b[0;32m     67\u001b[0m             \u001b[38;5;28mprint\u001b[39m(\u001b[38;5;124m\"\u001b[39m\u001b[38;5;124mInvalid choice, please try again.\u001b[39m\u001b[38;5;124m\"\u001b[39m)\n\u001b[0;32m     69\u001b[0m \u001b[38;5;28;01mif\u001b[39;00m \u001b[38;5;18m__name__\u001b[39m \u001b[38;5;241m==\u001b[39m \u001b[38;5;124m\"\u001b[39m\u001b[38;5;124m__main__\u001b[39m\u001b[38;5;124m\"\u001b[39m:\n\u001b[1;32m---> 70\u001b[0m     main()\n",
      "Cell \u001b[1;32mIn[2], line 44\u001b[0m, in \u001b[0;36mmain\u001b[1;34m()\u001b[0m\n\u001b[0;32m     42\u001b[0m \u001b[38;5;28mprint\u001b[39m(\u001b[38;5;124m\"\u001b[39m\u001b[38;5;124m4. Delete Entry\u001b[39m\u001b[38;5;124m\"\u001b[39m)\n\u001b[0;32m     43\u001b[0m \u001b[38;5;28mprint\u001b[39m(\u001b[38;5;124m\"\u001b[39m\u001b[38;5;124m5. Exit\u001b[39m\u001b[38;5;124m\"\u001b[39m)\n\u001b[1;32m---> 44\u001b[0m choice \u001b[38;5;241m=\u001b[39m \u001b[38;5;28minput\u001b[39m(\u001b[38;5;124m\"\u001b[39m\u001b[38;5;124mEnter your choice (1-5): \u001b[39m\u001b[38;5;124m\"\u001b[39m)\n\u001b[0;32m     46\u001b[0m \u001b[38;5;28;01mif\u001b[39;00m choice \u001b[38;5;241m==\u001b[39m \u001b[38;5;124m'\u001b[39m\u001b[38;5;124m1\u001b[39m\u001b[38;5;124m'\u001b[39m:\n\u001b[0;32m     47\u001b[0m     entry \u001b[38;5;241m=\u001b[39m \u001b[38;5;28minput\u001b[39m(\u001b[38;5;124m\"\u001b[39m\u001b[38;5;124mEnter the new entry: \u001b[39m\u001b[38;5;124m\"\u001b[39m)\n",
      "File \u001b[1;32mC:\\ProgramData\\anaconda3\\Lib\\site-packages\\ipykernel\\kernelbase.py:1202\u001b[0m, in \u001b[0;36mKernel.raw_input\u001b[1;34m(self, prompt)\u001b[0m\n\u001b[0;32m   1200\u001b[0m     msg \u001b[38;5;241m=\u001b[39m \u001b[38;5;124m\"\u001b[39m\u001b[38;5;124mraw_input was called, but this frontend does not support input requests.\u001b[39m\u001b[38;5;124m\"\u001b[39m\n\u001b[0;32m   1201\u001b[0m     \u001b[38;5;28;01mraise\u001b[39;00m StdinNotImplementedError(msg)\n\u001b[1;32m-> 1202\u001b[0m \u001b[38;5;28;01mreturn\u001b[39;00m \u001b[38;5;28mself\u001b[39m\u001b[38;5;241m.\u001b[39m_input_request(\n\u001b[0;32m   1203\u001b[0m     \u001b[38;5;28mstr\u001b[39m(prompt),\n\u001b[0;32m   1204\u001b[0m     \u001b[38;5;28mself\u001b[39m\u001b[38;5;241m.\u001b[39m_parent_ident[\u001b[38;5;124m\"\u001b[39m\u001b[38;5;124mshell\u001b[39m\u001b[38;5;124m\"\u001b[39m],\n\u001b[0;32m   1205\u001b[0m     \u001b[38;5;28mself\u001b[39m\u001b[38;5;241m.\u001b[39mget_parent(\u001b[38;5;124m\"\u001b[39m\u001b[38;5;124mshell\u001b[39m\u001b[38;5;124m\"\u001b[39m),\n\u001b[0;32m   1206\u001b[0m     password\u001b[38;5;241m=\u001b[39m\u001b[38;5;28;01mFalse\u001b[39;00m,\n\u001b[0;32m   1207\u001b[0m )\n",
      "File \u001b[1;32mC:\\ProgramData\\anaconda3\\Lib\\site-packages\\ipykernel\\kernelbase.py:1245\u001b[0m, in \u001b[0;36mKernel._input_request\u001b[1;34m(self, prompt, ident, parent, password)\u001b[0m\n\u001b[0;32m   1242\u001b[0m \u001b[38;5;28;01mexcept\u001b[39;00m \u001b[38;5;167;01mKeyboardInterrupt\u001b[39;00m:\n\u001b[0;32m   1243\u001b[0m     \u001b[38;5;66;03m# re-raise KeyboardInterrupt, to truncate traceback\u001b[39;00m\n\u001b[0;32m   1244\u001b[0m     msg \u001b[38;5;241m=\u001b[39m \u001b[38;5;124m\"\u001b[39m\u001b[38;5;124mInterrupted by user\u001b[39m\u001b[38;5;124m\"\u001b[39m\n\u001b[1;32m-> 1245\u001b[0m     \u001b[38;5;28;01mraise\u001b[39;00m \u001b[38;5;167;01mKeyboardInterrupt\u001b[39;00m(msg) \u001b[38;5;28;01mfrom\u001b[39;00m \u001b[38;5;28;01mNone\u001b[39;00m\n\u001b[0;32m   1246\u001b[0m \u001b[38;5;28;01mexcept\u001b[39;00m \u001b[38;5;167;01mException\u001b[39;00m:\n\u001b[0;32m   1247\u001b[0m     \u001b[38;5;28mself\u001b[39m\u001b[38;5;241m.\u001b[39mlog\u001b[38;5;241m.\u001b[39mwarning(\u001b[38;5;124m\"\u001b[39m\u001b[38;5;124mInvalid Message:\u001b[39m\u001b[38;5;124m\"\u001b[39m, exc_info\u001b[38;5;241m=\u001b[39m\u001b[38;5;28;01mTrue\u001b[39;00m)\n",
      "\u001b[1;31mKeyboardInterrupt\u001b[0m: Interrupted by user"
     ]
    }
   ],
   "source": [
    "# Initial list to act as the database\n",
    "data = []\n",
    "\n",
    "# Function to create a new entry\n",
    "def create_entry(entry):\n",
    "    data.append(entry)\n",
    "    print(f\"{entry} added successfully!\")\n",
    "\n",
    "# Function to read all entries\n",
    "def read_entries():\n",
    "    if len(data) == 0:\n",
    "        print(\"No entries found!\")\n",
    "    else:\n",
    "        print(\"Current Entries:\")\n",
    "        for i, entry in enumerate(data):\n",
    "            print(f\"{i+1}. {entry}\")\n",
    "\n",
    "# Function to update an existing entry\n",
    "def update_entry(index, new_entry):\n",
    "    if 0 <= index < len(data):\n",
    "        old_entry = data[index]\n",
    "        data[index] = new_entry\n",
    "        print(f\"Entry '{old_entry}' updated to '{new_entry}'\")\n",
    "    else:\n",
    "        print(\"Invalid index! Please try again.\")\n",
    "\n",
    "# Function to delete an entry\n",
    "def delete_entry(index):\n",
    "    if 0 <= index < len(data):\n",
    "        deleted_entry = data.pop(index)\n",
    "        print(f\"Entry '{deleted_entry}' deleted successfully!\")\n",
    "    else:\n",
    "        print(\"Invalid index! Please try again.\")\n",
    "\n",
    "# Main program\n",
    "def main():\n",
    "    while True:\n",
    "        print(\"\\n--- CRUD Application Menu ---\")\n",
    "        print(\"1. Create Entry\")\n",
    "        print(\"2. Read Entries\")\n",
    "        print(\"3. Update Entry\")\n",
    "        print(\"4. Delete Entry\")\n",
    "        print(\"5. Exit\")\n",
    "        choice = input(\"Enter your choice (1-5): \")\n",
    "        \n",
    "        if choice == '1':\n",
    "            entry = input(\"Enter the new entry: \")\n",
    "            create_entry(entry)\n",
    "        \n",
    "        elif choice == '2':\n",
    "            read_entries()\n",
    "        \n",
    "        elif choice == '3':\n",
    "            index = int(input(\"Enter the entry number to update: \")) - 1\n",
    "            new_entry = input(\"Enter the new value: \")\n",
    "            update_entry(index, new_entry)\n",
    "        \n",
    "        elif choice == '4':\n",
    "            index = int(input(\"Enter the entry number to delete: \")) - 1\n",
    "            delete_entry(index)\n",
    "        \n",
    "        elif choice == '5':\n",
    "            print(\"Exiting the program. Goodbye!\")\n",
    "            break\n",
    "        \n",
    "        else:\n",
    "            print(\"Invalid choice, please try again.\")\n",
    "\n",
    "if __name__ == \"__main__\":\n",
    "    main()\n"
   ]
  },
  {
   "cell_type": "markdown",
   "id": "14a87072",
   "metadata": {},
   "source": [
    "date = []\n",
    "def create_entry(entry):\n",
    "    data.append(entry)\n",
    "    print(f\"{entry} add Succesfully\")\n",
    "\n",
    "def read_entry(entry):\n",
    "    if len(data) == 0:\n",
    "        print('No Entries Found')\n",
    "    else:\n",
    "        print(\"Current Entries:\")\n",
    "        for i, entry in enumerate(data):\n",
    "            print(f\"{i+1}. {entry}\")\n",
    "            \n",
    "def update_entry(index,new_entry):\n",
    "    if 0<= index < len(data):\n",
    "        old_entry = data[index]\n",
    "        data[index] = new_entry\n",
    "        print(f\"Entry '{old_entry}' update to '{new_entry}'\")\n",
    "    else:\n",
    "        print('Invalid index! Please Try again')\n",
    "def delete_entry(index):\n",
    "    if 0<= index < len(data):\n",
    "        deleted_entry = data.pop(index)\n",
    "        print(f\"Entry '{deleted_entry}' deleted Succesfully!\")\n",
    "    else:\n",
    "        print('Invalid Index! Please Try Again')\n",
    "\n",
    "\n",
    "def Menu():\n",
    "    while True:\n",
    "        print(\"\\n -- Crud Application Menu --\")\n",
    "        print(\"1. Create Entry\")\n",
    "        print(\"2. Read Entry\")\n",
    "        print(\"3. Update Entry\")\n",
    "        print(\"4. Delete Entry\")\n",
    "        print(\"5. Exit\")\n",
    "        choice = input(\"Enter Your Choice(1-5): \")\n",
    "        \n",
    "        if choice == '1':\n",
    "            entry = input(\"Enter the new Entry\")\n",
    "            create_entry(entry)\n",
    "            \n",
    "        elif choice == '2':\n",
    "            read_entry(entry)\n",
    "            \n",
    "        elif choice == '3':\n",
    "            index = int(input('Enter the Entry Number to update: ')) -1\n",
    "            new_entry = input(\"Enter New Value: \")\n",
    "            update_entry(index,new_entry)\n",
    "            \n",
    "        elif choice == '4':\n",
    "            index = int(input('Enter the Entry Number to delete'))\n",
    "            delete_entry(index)\n",
    "            \n",
    "        elif choice == '5':\n",
    "            print('Exit the program Good Bye!')\n",
    "            break\n",
    "            \n",
    "        else:\n",
    "            print(\"Invalid Choice , Please Try Again,\")\n",
    "        \n",
    "if __name__ == '__main__':\n",
    "    main()\n",
    "        \n",
    "        "
   ]
  },
  {
   "cell_type": "code",
   "execution_count": null,
   "id": "5117fda4",
   "metadata": {},
   "outputs": [],
   "source": [
    "# Initial list to act as the database\n",
    "data = []\n",
    "\n",
    "# Function to create a new entry\n",
    "def create_entry(entry):\n",
    "    data.append(entry)\n",
    "    print(f\"{entry} added successfully!\")\n",
    "\n",
    "# Function to read all entries\n",
    "def read_entries():\n",
    "    if len(data) == 0:\n",
    "        print(\"No entries found!\")\n",
    "    else:\n",
    "        print(\"Current Entries:\")\n",
    "        for i, entry in enumerate(data):\n",
    "            print(f\"{i+1}. {entry}\")\n",
    "\n",
    "# Function to update an existing entry\n",
    "def update_entry(index, new_entry):\n",
    "    if 0 <= index < len(data):\n",
    "        old_entry = data[index]\n",
    "        data[index] = new_entry\n",
    "        print(f\"Entry '{old_entry}' updated to '{new_entry}'\")\n",
    "    else:\n",
    "        print(\"Invalid index! Please try again.\")\n",
    "\n",
    "# Function to delete an entry\n",
    "def delete_entry(index):\n",
    "    if 0 <= index < len(data):\n",
    "        deleted_entry = data.pop(index)\n",
    "        print(f\"Entry '{deleted_entry}' deleted successfully!\")\n",
    "    else:\n",
    "        print(\"Invalid index! Please try again.\")\n",
    "\n",
    "# Main program\n",
    "def main():\n",
    "    while True:\n",
    "        print(\"\\n--- CRUD Application Menu ---\")\n",
    "        print(\"1. Create Entry\")\n",
    "        print(\"2. Read Entries\")\n",
    "        print(\"3. Update Entry\")\n",
    "        print(\"4. Delete Entry\")\n",
    "        print(\"5. Exit\")\n",
    "        choice = input(\"Enter your choice (1-5): \")\n",
    "        \n",
    "        if choice == '1':\n",
    "            entry = input(\"Enter the new entry: \")\n",
    "            create_entry(entry)\n",
    "        \n",
    "        elif choice == '2':\n",
    "            read_entries()\n",
    "        \n",
    "        elif choice == '3':\n",
    "            index = int(input(\"Enter the entry number to update: \")) - 1\n",
    "            new_entry = input(\"Enter the new value: \")\n",
    "            update_entry(index, new_entry)\n",
    "        \n",
    "        elif choice == '4':\n",
    "            index = int(input(\"Enter the entry number to delete: \")) - 1\n",
    "            delete_entry(index)\n",
    "        \n",
    "        elif choice == '5':\n",
    "            print(\"Exiting the program. Goodbye!\")\n",
    "            break\n",
    "        \n",
    "        else:\n",
    "            print(\"Invalid choice, please try again.\")\n",
    "\n",
    "if __name__ == \"__main__\":\n",
    "main()"
   ]
  },
  {
   "cell_type": "code",
   "execution_count": null,
   "id": "d3a49bf2",
   "metadata": {},
   "outputs": [
    {
     "name": "stdout",
     "output_type": "stream",
     "text": [
      "\n",
      "--- CRUD Application Menu ---\n",
      "1. Create Entry\n",
      "2. Read Entries\n",
      "3. Update Entry\n",
      "4. Delete Entry\n",
      "5. Exit\n",
      "Enter your choice (1-5): 3\n",
      "Enter the entry number to update: 3\n",
      "Enter the new value: 3\n",
      "Invalid index! Please try again.\n",
      "\n",
      "--- CRUD Application Menu ---\n",
      "1. Create Entry\n",
      "2. Read Entries\n",
      "3. Update Entry\n",
      "4. Delete Entry\n",
      "5. Exit\n"
     ]
    }
   ],
   "source": [
    "# Initial list to act as the database\n",
    "data = []\n",
    "\n",
    "# Function to create a new entry\n",
    "def create_entry(entry):\n",
    "    data.append(entry)\n",
    "    print(f\"{entry} added successfully!\")\n",
    "\n",
    "# Function to read all entries\n",
    "def read_entries():\n",
    "    if len(data) == 0:\n",
    "        print(\"No entries found!\")\n",
    "    else:\n",
    "        print(\"Current Entries:\")\n",
    "        for i, entry in enumerate(data):\n",
    "            print(f\"{i+1}. {entry}\")\n",
    "\n",
    "# Function to update an existing entry\n",
    "def update_entry(index, new_entry):\n",
    "    if 0 <= index < len(data):\n",
    "        old_entry = data[index]\n",
    "        data[index] = new_entry\n",
    "        print(f\"Entry '{old_entry}' updated to '{new_entry}'\")\n",
    "    else:\n",
    "        print(\"Invalid index! Please try again.\")\n",
    "\n",
    "# Function to delete an entry\n",
    "def delete_entry(index):\n",
    "    if 0 <= index < len(data):\n",
    "        deleted_entry = data.pop(index)\n",
    "        print(f\"Entry '{deleted_entry}' deleted successfully!\")\n",
    "    else:\n",
    "        print(\"Invalid index! Please try again.\")\n",
    "\n",
    "# Main program\n",
    "def main():\n",
    "    while True:\n",
    "        print(\"\\n--- CRUD Application Menu ---\")\n",
    "        print(\"1. Create Entry\")\n",
    "        print(\"2. Read Entries\")\n",
    "        print(\"3. Update Entry\")\n",
    "        print(\"4. Delete Entry\")\n",
    "        print(\"5. Exit\")\n",
    "        choice = input(\"Enter your choice (1-5): \")\n",
    "        \n",
    "        if choice == '1':\n",
    "            entry = input(\"Enter the new entry: \")\n",
    "            create_entry(entry)\n",
    "        \n",
    "        elif choice == '2':\n",
    "            read_entries()\n",
    "        \n",
    "        elif choice == '3':\n",
    "            index = int(input(\"Enter the entry number to update: \")) - 1\n",
    "            new_entry = input(\"Enter the new value: \")\n",
    "            update_entry(index, new_entry)\n",
    "        \n",
    "        elif choice == '4':\n",
    "            index = int(input(\"Enter the entry number to delete: \")) - 1\n",
    "            delete_entry(index)\n",
    "        \n",
    "        elif choice == '5':\n",
    "            print(\"Exiting the program. Goodbye!\")\n",
    "            break\n",
    "        \n",
    "        else:\n",
    "            print(\"Invalid choice, please try again.\")\n",
    "\n",
    "if __name__ == \"__main__\":\n",
    "    main()\n"
   ]
  },
  {
   "cell_type": "code",
   "execution_count": null,
   "id": "bf509e99",
   "metadata": {},
   "outputs": [
    {
     "name": "stdout",
     "output_type": "stream",
     "text": [
      "\n",
      "--- Simple CRUD Menu ---\n",
      "1. Create Entry\n",
      "2. Read Entry\n",
      "3. Update Entry\n",
      "4. Delete Entry\n",
      "5. Exit\n",
      "Choose an option (1-5): 3\n",
      "Enter key to update: 3\n",
      "Enter new value: 4\n",
      "No entry found for key '3'.\n",
      "\n",
      "--- Simple CRUD Menu ---\n",
      "1. Create Entry\n",
      "2. Read Entry\n",
      "3. Update Entry\n",
      "4. Delete Entry\n",
      "5. Exit\n",
      "Choose an option (1-5): 1\n",
      "Enter key: 2\n",
      "Enter value: 3\n",
      "'2' entry added successfully!\n",
      "\n",
      "--- Simple CRUD Menu ---\n",
      "1. Create Entry\n",
      "2. Read Entry\n",
      "3. Update Entry\n",
      "4. Delete Entry\n",
      "5. Exit\n"
     ]
    }
   ],
   "source": [
    "\n",
    "data = {}\n",
    "\n",
    "def create_entry(key, value):\n",
    "    data[key] = value\n",
    "    print(f\"'{key}' entry added successfully!\")\n",
    "\n",
    "# Function to read/view entry\n",
    "def read_entry(key):\n",
    "    if key in data:\n",
    "        print(f\"{key}: {data[key]}\")\n",
    "    else:\n",
    "        print(f\"No entry found for key '{key}'.\")\n",
    "\n",
    "\n",
    "def update_entry(key, new_value):\n",
    "    if key in data:\n",
    "        data[key] = new_value\n",
    "        print(f\"Entry '{key}' updated successfully!\")\n",
    "    else:\n",
    "        print(f\"No entry found for key '{key}'.\")\n",
    "\n",
    "\n",
    "def delete_entry(key):\n",
    "    if key in data:\n",
    "        del data[key]\n",
    "        print(f\"Entry '{key}' deleted successfully!\")\n",
    "    else:\n",
    "        print(f\"No entry found for key '{key}'.\")\n",
    "\n",
    "# Main program\n",
    "def main():\n",
    "    while True:\n",
    "        print(\"\\n--- Simple CRUD Menu ---\")\n",
    "        print(\"1. Create Entry\")\n",
    "        print(\"2. Read Entry\")\n",
    "        print(\"3. Update Entry\")\n",
    "        print(\"4. Delete Entry\")\n",
    "        print(\"5. Exit\")\n",
    "        \n",
    "        choice = input(\"Choose an option (1-5): \")\n",
    "        \n",
    "        if choice == '1':\n",
    "            key = input(\"Enter key: \")\n",
    "            value = input(\"Enter value: \")\n",
    "            create_entry(key, value)\n",
    "        \n",
    "        elif choice == '2':\n",
    "            key = input(\"Enter key to read: \")\n",
    "            read_entry(key)\n",
    "        \n",
    "        elif choice == '3':\n",
    "            key = input(\"Enter key to update: \")\n",
    "            new_value = input(\"Enter new value: \")\n",
    "            update_entry(key, new_value)\n",
    "        \n",
    "        elif choice == '4':\n",
    "            key = input(\"Enter key to delete: \")\n",
    "            delete_entry(key)\n",
    "        \n",
    "        elif choice == '5':\n",
    "            print(\"Goodbye!\")\n",
    "            break\n",
    "        \n",
    "        else:\n",
    "            print(\"Invalid choice! Please choose again.\")\n",
    "\n",
    "if __name__ == \"__main__\":\n",
    "    main()\n"
   ]
  },
  {
   "cell_type": "code",
   "execution_count": null,
   "id": "ad92767d",
   "metadata": {},
   "outputs": [],
   "source": [
    "data = []\n",
    "\n",
    "def create_entry(entry):\n",
    "    data.append(entry)\n",
    "    print(f\"{entry} Added Succesfuly\")\n",
    "    \n",
    "def read_entry():\n",
    "    if len(entry) == 0:\n",
    "        print(\"NO Entry Found\")\n",
    "    else:\n",
    "        print(\"Current Entity\")\n",
    "        for i,in enumerate(data):\n",
    "            print(f\"{i+1}.{entry}\")\n",
    "            \n",
    "def update_entry(index,new_entry):\n",
    "    if 0<=index < len(data)\n",
    "    old_entry = data[index]\n",
    "    data[index] = new_entry\n",
    "    print(f\"Entry {old_entry}update to {new_entry}\")\n",
    "    else:\n",
    "        print('Invalid index ! Please try again')\n",
    "            "
   ]
  },
  {
   "cell_type": "code",
   "execution_count": null,
   "id": "efca1b54",
   "metadata": {},
   "outputs": [],
   "source": []
  }
 ],
 "metadata": {
  "kernelspec": {
   "display_name": "Python 3 (ipykernel)",
   "language": "python",
   "name": "python3"
  },
  "language_info": {
   "codemirror_mode": {
    "name": "ipython",
    "version": 3
   },
   "file_extension": ".py",
   "mimetype": "text/x-python",
   "name": "python",
   "nbconvert_exporter": "python",
   "pygments_lexer": "ipython3",
   "version": "3.11.5"
  }
 },
 "nbformat": 4,
 "nbformat_minor": 5
}
