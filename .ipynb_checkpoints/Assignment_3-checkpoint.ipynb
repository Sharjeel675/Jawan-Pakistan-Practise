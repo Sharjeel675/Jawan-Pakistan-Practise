{
 "cells": [
  {
   "cell_type": "markdown",
   "id": "1e734e14",
   "metadata": {},
   "source": [
    "1. You need to store and manage employee records where each record includes an\n",
    "employee's ID, name, and department. (Use tuples to represent each employee record)."
   ]
  },
  {
   "cell_type": "code",
   "execution_count": 1,
   "id": "226654d1",
   "metadata": {},
   "outputs": [
    {
     "name": "stdout",
     "output_type": "stream",
     "text": [
      "Employee ID: 101, Name: Sharjeel Ahmed Khan, Department: Data Engineer\n",
      "Employee ID: 102, Name: Kashif, Department: Web Developer\n",
      "Employee ID: 103, Name: Faizan, Department: App Developer\n",
      "Employee ID: 104, Name: Hasnain, Department: Marketing\n"
     ]
    }
   ],
   "source": [
    "\n",
    "employee_records = [\n",
    "    (101, \"Sharjeel Ahmed Khan\", \"Data Engineer\"),\n",
    "    (102, \"Kashif\", \"Web Developer\"),\n",
    "    (103, \"Faizan\", \"App Developer\"),\n",
    "    (104, \"Hasnain\", \"Marketing\")\n",
    "]\n",
    "\n",
    "for record in employee_records:\n",
    "    print(f\"Employee ID: {record[0]}, Name: {record[1]}, Department: {record[2]}\")"
   ]
  },
  {
   "cell_type": "markdown",
   "id": "8db17671",
   "metadata": {},
   "source": [
    "2. You are managing an inventory system where each item has an item ID, description,\n",
    "and quantity available. (Use tuples to represent each inventory item)."
   ]
  },
  {
   "cell_type": "code",
   "execution_count": 2,
   "id": "b226deb9",
   "metadata": {},
   "outputs": [
    {
     "name": "stdout",
     "output_type": "stream",
     "text": [
      "Item_Id: 101, Description: Laptop, Quantity_Available: 25\n",
      "Item_Id: 102, Description: Mouse, Quantity_Available: 34\n",
      "Item_Id: 103, Description: Keyboard, Quantity_Available: 43\n",
      "Item_Id: 104, Description: Wire, Quantity_Available: 55\n"
     ]
    }
   ],
   "source": [
    "Inventory_System = [\n",
    "    (101 , 'Laptop' , 25),\n",
    "    (102 , 'Mouse' , 34),\n",
    "    (103 , 'Keyboard' , 43),\n",
    "    (104 , 'Wire' , 55)\n",
    "]\n",
    "for item in Inventory_System:\n",
    "    print(f'Item_Id: {item[0]}, Description: {item[1]}, Quantity_Available: {item[2]}')"
   ]
  },
  {
   "cell_type": "markdown",
   "id": "9e564a79",
   "metadata": {},
   "source": [
    "3. You need to store the dates and times of scheduled events, like meetings or\n",
    "appointments. (Use tuples to store date and time information)."
   ]
  },
  {
   "cell_type": "code",
   "execution_count": 3,
   "id": "3507c7d4",
   "metadata": {},
   "outputs": [
    {
     "name": "stdout",
     "output_type": "stream",
     "text": [
      "Event scheduled on 2024-08-15 at 8:30\n",
      "Event scheduled on 2024-08-18 at 9:30\n",
      "Event scheduled on 2024-08-20 at 11:00\n"
     ]
    }
   ],
   "source": [
    "event_1 = (\"2024-08-15\", \"8:30\")\n",
    "event_2 = (\"2024-08-18\", \"9:30\")\n",
    "event_3 = (\"2024-08-20\", \"11:00\")\n",
    "\n",
    "\n",
    "events = [event_1, event_2, event_3]\n",
    "\n",
    "for event in events:\n",
    "    date, time = event\n",
    "    print(f\"Event scheduled on {date} at {time}\")\n"
   ]
  },
  {
   "cell_type": "markdown",
   "id": "9b59340a",
   "metadata": {},
   "source": [
    "4. Store a company's employee details, organized by department. (Use dictionary in\n",
    "dictionary)."
   ]
  },
  {
   "cell_type": "code",
   "execution_count": 4,
   "id": "b88d78b8",
   "metadata": {},
   "outputs": [
    {
     "name": "stdout",
     "output_type": "stream",
     "text": [
      "{'Name': 'Sharjeel', 'Age': 21, 'Gender': 'Male'}\n"
     ]
    }
   ],
   "source": [
    "Employe_Detail = {\n",
    "    'BAI-22' : {'Name' : 'Sharjeel' , 'Age' : 21 , 'Gender' : 'Male'},\n",
    "    'BAI-23' : {'Name' : 'Ahmed' , 'Age' : 23 , 'Gender' : 'Male'},\n",
    "    'BAI-24' : {'Name' : 'Umair' , 'Age' : 32 , 'Gender' : 'Male'}\n",
    "}\n",
    "print(Employe_Detail['BAI-22'])"
   ]
  },
  {
   "cell_type": "markdown",
   "id": "dbcee7ff",
   "metadata": {},
   "source": [
    "5. Keep track of student scores in various subjects and retrieve a student's scores. (Use\n",
    "dictionary in List)."
   ]
  },
  {
   "cell_type": "code",
   "execution_count": 5,
   "id": "879761fc",
   "metadata": {},
   "outputs": [
    {
     "name": "stdout",
     "output_type": "stream",
     "text": [
      "Here are Sharjeel's scores: {'Maths': 86, 'Physics': 76, 'Chemisrty': 98, 'Urdu': 90}\n"
     ]
    }
   ],
   "source": [
    " student_name= {\n",
    "    'Sharjeel' : {'Maths':86,'Physics':76,'Chemisrty':98,'Urdu':90},\n",
    "    'Ahmed' : {'Maths':34,'Physics':34,'Chemisrty':78,'Urdu':39}\n",
    "}\n",
    "selected_student = 'Sharjeel'\n",
    "\n",
    "print(f\"Here are {selected_student}'s scores: {student_name[selected_student]}\")\n"
   ]
  },
  {
   "cell_type": "markdown",
   "id": "c988428d",
   "metadata": {},
   "source": [
    "6. Track various projects and their associated tasks, and retrieve tasks for a specific\n",
    "project. (Use List in Dictionary)."
   ]
  },
  {
   "cell_type": "code",
   "execution_count": 6,
   "id": "9142a866",
   "metadata": {},
   "outputs": [
    {
     "name": "stdout",
     "output_type": "stream",
     "text": [
      "Tasks for the project '['Design database schema', 'Implement data ingestion', 'Set up monitoring and alerts']\n"
     ]
    }
   ],
   "source": [
    "projects = {\n",
    "    'AI Club': ['Organize kickoff meeting', 'Plan guest speaker session', 'Create promotional materials'],\n",
    "    'Walmart Data Pipeline': ['Design database schema', 'Implement data ingestion', 'Set up monitoring and alerts'],\n",
    "    'Portfolio Website': ['Draft layout', 'Develop frontend', 'Deploy website']\n",
    "}\n",
    "print(f\"Tasks for the project '{projects['Walmart Data Pipeline']}\")\n"
   ]
  },
  {
   "cell_type": "markdown",
   "id": "fee09b8f",
   "metadata": {},
   "source": [
    "7. Manage courses and their contents in a training program and retrieve details of a\n",
    "specific module. (dictionary in dictionary)"
   ]
  },
  {
   "cell_type": "code",
   "execution_count": 7,
   "id": "13ecc21e",
   "metadata": {},
   "outputs": [
    {
     "name": "stdout",
     "output_type": "stream",
     "text": [
      "Details of the course \"Data Science\": {'Introduction': 'Overview of Data Science, basic concepts, and tools.', 'Python for Data Science': 'Introduction to Python, data manipulation with Pandas, and data visualization with Matplotlib.', 'Machine Learning': 'Supervised and unsupervised learning, model evaluation, and feature engineering.'}\n"
     ]
    }
   ],
   "source": [
    "training_program = {\n",
    "    'Data Science': {\n",
    "        'Introduction': 'Overview of Data Science, basic concepts, and tools.',\n",
    "        'Python for Data Science': 'Introduction to Python, data manipulation with Pandas, and data visualization with Matplotlib.',\n",
    "        'Machine Learning': 'Supervised and unsupervised learning, model evaluation, and feature engineering.'\n",
    "    },\n",
    "    'Web Development': {\n",
    "        'HTML & CSS': 'Introduction to HTML5, CSS3, responsive design, and web layouts.',\n",
    "        'JavaScript Basics': 'Core JavaScript concepts, DOM manipulation, and event handling.',\n",
    "        'Backend Development': 'Server-side programming with Node.js, Express.js, and database integration with MongoDB.'\n",
    "    },\n",
    "    'Cloud Computing': {\n",
    "        'Cloud Fundamentals': 'Introduction to cloud computing, service models, and deployment models.',\n",
    "        'AWS Basics': 'Core AWS services, including EC2, S3, and IAM.',\n",
    "        'DevOps': 'CI/CD pipelines, containerization with Docker, and orchestration with Kubernetes.'\n",
    "    }\n",
    "}\n",
    "training_program = {\n",
    "    'Data Science': {\n",
    "        'Introduction': 'Overview of Data Science, basic concepts, and tools.',\n",
    "        'Python for Data Science': 'Introduction to Python, data manipulation with Pandas, and data visualization with Matplotlib.',\n",
    "        'Machine Learning': 'Supervised and unsupervised learning, model evaluation, and feature engineering.'\n",
    "    },\n",
    "    'Web Development': {\n",
    "        'HTML & CSS': 'Introduction to HTML5, CSS3, responsive design, and web layouts.',\n",
    "        'JavaScript Basics': 'Core JavaScript concepts, DOM manipulation, and event handling.',\n",
    "        'Backend Development': 'Server-side programming with Node.js, Express.js, and database integration with MongoDB.'\n",
    "    },\n",
    "    'Cloud Computing': {\n",
    "        'Cloud Fundamentals': 'Introduction to cloud computing, service models, and deployment models.',\n",
    "        'AWS Basics': 'Core AWS services, including EC2, S3, and IAM.',\n",
    "        'DevOps': 'CI/CD pipelines, containerization with Docker, and orchestration with Kubernetes.'\n",
    "    }\n",
    "}\n",
    "course_name = 'Data Science'\n",
    "print(f'Details of the course \"{course_name}\": {training_program[course_name]}')\n"
   ]
  },
  {
   "cell_type": "markdown",
   "id": "db458fc3",
   "metadata": {},
   "source": [
    "8.You have a list where each element is a tuple containing a product's name and its\n",
    "price. You need to find products that are below a certain price threshold. (Use unpacking\n",
    "lists of tuples)"
   ]
  },
  {
   "cell_type": "code",
   "execution_count": 18,
   "id": "1e907db2",
   "metadata": {},
   "outputs": [
    {
     "name": "stdout",
     "output_type": "stream",
     "text": [
      "('Tablet', 300)\n"
     ]
    }
   ],
   "source": [
    "products = [\n",
    "    (\"Laptop\",1000),\n",
    "    (\"Smartphone\", 700),\n",
    "    (\"Tablet\", 300)\n",
    "    \n",
    "]\n",
    "(c1,c2,c3) = products\n",
    "sale = list(products)\n",
    "print(c3)\n"
   ]
  },
  {
   "cell_type": "code",
   "execution_count": null,
   "id": "8e1a795a",
   "metadata": {},
   "outputs": [],
   "source": [
    "\n"
   ]
  },
  {
   "cell_type": "code",
   "execution_count": null,
   "id": "3c29b7ef",
   "metadata": {},
   "outputs": [],
   "source": []
  }
 ],
 "metadata": {
  "kernelspec": {
   "display_name": "Python 3 (ipykernel)",
   "language": "python",
   "name": "python3"
  },
  "language_info": {
   "codemirror_mode": {
    "name": "ipython",
    "version": 3
   },
   "file_extension": ".py",
   "mimetype": "text/x-python",
   "name": "python",
   "nbconvert_exporter": "python",
   "pygments_lexer": "ipython3",
   "version": "3.11.5"
  }
 },
 "nbformat": 4,
 "nbformat_minor": 5
}
