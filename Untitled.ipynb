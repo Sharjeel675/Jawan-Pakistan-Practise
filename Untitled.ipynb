{
 "cells": [
  {
   "cell_type": "code",
   "execution_count": 6,
   "id": "99ca657a",
   "metadata": {},
   "outputs": [
    {
     "name": "stdout",
     "output_type": "stream",
     "text": [
      "Hello\n"
     ]
    }
   ],
   "source": [
    "var = 'Hello'\n",
    "print(var)"
   ]
  },
  {
   "cell_type": "code",
   "execution_count": 2,
   "id": "7e903532",
   "metadata": {},
   "outputs": [
    {
     "name": "stdout",
     "output_type": "stream",
     "text": [
      "<class 'str'>\n"
     ]
    }
   ],
   "source": [
    "print(type(var))"
   ]
  },
  {
   "cell_type": "code",
   "execution_count": 12,
   "id": "fdd22737",
   "metadata": {},
   "outputs": [
    {
     "name": "stdout",
     "output_type": "stream",
     "text": [
      "<class 'str'>\n",
      "<class 'int'>\n"
     ]
    }
   ],
   "source": [
    "a = '123'\n",
    "print(type(a))\n",
    "a = int('123')\n",
    "print(type(a))"
   ]
  },
  {
   "cell_type": "code",
   "execution_count": 14,
   "id": "0832ddab",
   "metadata": {},
   "outputs": [
    {
     "name": "stdout",
     "output_type": "stream",
     "text": [
      "<class 'int'>\n"
     ]
    }
   ],
   "source": [
    "print(type(a))"
   ]
  },
  {
   "cell_type": "code",
   "execution_count": 16,
   "id": "4394c86c",
   "metadata": {},
   "outputs": [
    {
     "name": "stdout",
     "output_type": "stream",
     "text": [
      "['__abs__', '__add__', '__bool__', '__ceil__', '__class__', '__delattr__', '__dir__', '__divmod__', '__doc__', '__eq__', '__float__', '__floor__', '__floordiv__', '__format__', '__ge__', '__getattribute__', '__getformat__', '__getnewargs__', '__getstate__', '__gt__', '__hash__', '__init__', '__init_subclass__', '__int__', '__le__', '__lt__', '__mod__', '__mul__', '__ne__', '__neg__', '__new__', '__pos__', '__pow__', '__radd__', '__rdivmod__', '__reduce__', '__reduce_ex__', '__repr__', '__rfloordiv__', '__rmod__', '__rmul__', '__round__', '__rpow__', '__rsub__', '__rtruediv__', '__setattr__', '__sizeof__', '__str__', '__sub__', '__subclasshook__', '__truediv__', '__trunc__', 'as_integer_ratio', 'conjugate', 'fromhex', 'hex', 'imag', 'is_integer', 'real']\n"
     ]
    }
   ],
   "source": [
    "a = float('123')\n",
    "print(dir(a))"
   ]
  },
  {
   "cell_type": "code",
   "execution_count": 21,
   "id": "2ca397b4",
   "metadata": {},
   "outputs": [
    {
     "name": "stdout",
     "output_type": "stream",
     "text": [
      "['Sharjeel', 'Kashif', 'Faizan']\n"
     ]
    }
   ],
   "source": [
    "guest = ['Sharjeel','Kashif','Faizan']\n",
    "print(guest[0:3])"
   ]
  },
  {
   "cell_type": "code",
   "execution_count": 24,
   "id": "d63ff8fc",
   "metadata": {},
   "outputs": [
    {
     "name": "stdout",
     "output_type": "stream",
     "text": [
      "None\n"
     ]
    }
   ],
   "source": [
    "print(guest.insert(1,\"Mubashir\"))"
   ]
  },
  {
   "cell_type": "code",
   "execution_count": 25,
   "id": "d83582ea",
   "metadata": {},
   "outputs": [
    {
     "name": "stdout",
     "output_type": "stream",
     "text": [
      "['Sharjeel', 'Mubashir', 'Kashif', 'Faizan']\n"
     ]
    }
   ],
   "source": [
    "print(guest)"
   ]
  },
  {
   "cell_type": "code",
   "execution_count": 26,
   "id": "a3c7ab83",
   "metadata": {},
   "outputs": [],
   "source": [
    "guest.insert(2,\"Hasnain\")"
   ]
  },
  {
   "cell_type": "code",
   "execution_count": 27,
   "id": "364829e6",
   "metadata": {},
   "outputs": [
    {
     "name": "stdout",
     "output_type": "stream",
     "text": [
      "['Sharjeel', 'Mubashir', 'Hasnain', 'Kashif', 'Faizan']\n"
     ]
    }
   ],
   "source": [
    "print(guest)"
   ]
  },
  {
   "cell_type": "code",
   "execution_count": 28,
   "id": "5c606aef",
   "metadata": {},
   "outputs": [],
   "source": [
    "guest.append(\"Raqib\")"
   ]
  },
  {
   "cell_type": "code",
   "execution_count": 29,
   "id": "33d8c14d",
   "metadata": {},
   "outputs": [
    {
     "name": "stdout",
     "output_type": "stream",
     "text": [
      "['Sharjeel', 'Mubashir', 'Hasnain', 'Kashif', 'Faizan', 'Raqib']\n"
     ]
    }
   ],
   "source": [
    "print(guest)"
   ]
  },
  {
   "cell_type": "code",
   "execution_count": 30,
   "id": "e8b80b0a",
   "metadata": {},
   "outputs": [],
   "source": [
    "guest.reverse()"
   ]
  },
  {
   "cell_type": "code",
   "execution_count": 31,
   "id": "5e973efe",
   "metadata": {},
   "outputs": [
    {
     "name": "stdout",
     "output_type": "stream",
     "text": [
      "['Raqib', 'Faizan', 'Kashif', 'Hasnain', 'Mubashir', 'Sharjeel']\n"
     ]
    }
   ],
   "source": [
    "print(guest)"
   ]
  },
  {
   "cell_type": "code",
   "execution_count": 32,
   "id": "59e05976",
   "metadata": {},
   "outputs": [
    {
     "data": {
      "text/plain": [
       "'Sharjeel'"
      ]
     },
     "execution_count": 32,
     "metadata": {},
     "output_type": "execute_result"
    }
   ],
   "source": [
    "guest.pop(5)"
   ]
  },
  {
   "cell_type": "code",
   "execution_count": 33,
   "id": "6e6b641d",
   "metadata": {},
   "outputs": [
    {
     "name": "stdout",
     "output_type": "stream",
     "text": [
      "['Raqib', 'Faizan', 'Kashif', 'Hasnain', 'Mubashir']\n"
     ]
    }
   ],
   "source": [
    "print(guest)"
   ]
  },
  {
   "cell_type": "code",
   "execution_count": 34,
   "id": "d9f3cdb5",
   "metadata": {},
   "outputs": [
    {
     "data": {
      "text/plain": [
       "['20k', '30k', '56k', '100k', '300k', '89k']"
      ]
     },
     "execution_count": 34,
     "metadata": {},
     "output_type": "execute_result"
    }
   ],
   "source": [
    "salaries = [\"20k\",\"30k\",\"56k\",'100k','300k','89k']\n",
    "salaries"
   ]
  },
  {
   "cell_type": "code",
   "execution_count": 35,
   "id": "115107f2",
   "metadata": {},
   "outputs": [
    {
     "data": {
      "text/plain": [
       "['36k', '38k', '78k', '23k']"
      ]
     },
     "execution_count": 35,
     "metadata": {},
     "output_type": "execute_result"
    }
   ],
   "source": [
    "update_salaries = [\"36k\",\"38k\",'78k',\"23k\"]\n",
    "update_salaries"
   ]
  },
  {
   "cell_type": "code",
   "execution_count": 36,
   "id": "29ec4653",
   "metadata": {},
   "outputs": [
    {
     "data": {
      "text/plain": [
       "['35k',\n",
       " '600k',\n",
       " ['20k', '30k', '56k', '100k', '300k', '89k'],\n",
       " '56k',\n",
       " ['36k', '38k', '78k', '23k']]"
      ]
     },
     "execution_count": 36,
     "metadata": {},
     "output_type": "execute_result"
    }
   ],
   "source": [
    "nested_list = [\"35k\",\"600k\",salaries,\"56k\",update_salaries]\n",
    "nested_list"
   ]
  },
  {
   "cell_type": "code",
   "execution_count": 40,
   "id": "d3de122a",
   "metadata": {},
   "outputs": [
    {
     "name": "stdout",
     "output_type": "stream",
     "text": [
      "['20k', '30k', '56k', '100k', '300k', '89k']\n"
     ]
    }
   ],
   "source": [
    "print(nested_list[2])"
   ]
  },
  {
   "cell_type": "code",
   "execution_count": 41,
   "id": "83eb578f",
   "metadata": {},
   "outputs": [
    {
     "name": "stdout",
     "output_type": "stream",
     "text": [
      "Fail\n"
     ]
    }
   ],
   "source": [
    "marks = 550\n",
    "if marks >= 1000 and marks <= 1100:\n",
    "    print(\"A+\")\n",
    "elif 800 <= marks <= 899:\n",
    "    print(\"B\")\n",
    "elif 600 <= marks <= 799:\n",
    "    print(\"C\")\n",
    "else:\n",
    "    print(\"Fail\")"
   ]
  },
  {
   "cell_type": "code",
   "execution_count": null,
   "id": "4b77df62",
   "metadata": {},
   "outputs": [],
   "source": [
    "list = []\n",
    "n = input(int('Enter a Number'))\n",
    "print(list)\n"
   ]
  },
  {
   "cell_type": "code",
   "execution_count": null,
   "id": "4003612f",
   "metadata": {},
   "outputs": [],
   "source": []
  }
 ],
 "metadata": {
  "kernelspec": {
   "display_name": "Python 3 (ipykernel)",
   "language": "python",
   "name": "python3"
  },
  "language_info": {
   "codemirror_mode": {
    "name": "ipython",
    "version": 3
   },
   "file_extension": ".py",
   "mimetype": "text/x-python",
   "name": "python",
   "nbconvert_exporter": "python",
   "pygments_lexer": "ipython3",
   "version": "3.11.5"
  }
 },
 "nbformat": 4,
 "nbformat_minor": 5
}
