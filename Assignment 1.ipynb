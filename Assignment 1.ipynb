{
 "cells": [
  {
   "cell_type": "markdown",
   "id": "135c02ad",
   "metadata": {},
   "source": [
    "# Assignment 1\n",
    "#Sharjeel Ahmed Khan\n",
    "#Session = 4 to 6"
   ]
  },
  {
   "cell_type": "code",
   "execution_count": 20,
   "id": "ba3fa5cf",
   "metadata": {},
   "outputs": [
    {
     "name": "stdout",
     "output_type": "stream",
     "text": [
      "Twinkle, twinkle, little star,\n",
      "    How I wonder what you are!\n",
      "        Up above the world so high,\n",
      "        Like a diamond in the sky.\n",
      "Twinkle, twinkle, little star,\n",
      "    How I wonder what you are\n"
     ]
    }
   ],
   "source": [
    "# Q:1\n",
    "poem = \"\"\"Twinkle, twinkle, little star,\n",
    "    How I wonder what you are!\n",
    "        Up above the world so high,\n",
    "        Like a diamond in the sky.\n",
    "Twinkle, twinkle, little star,\n",
    "    How I wonder what you are\"\"\"\n",
    "\n",
    "print(poem)\n"
   ]
  },
  {
   "cell_type": "code",
   "execution_count": 33,
   "id": "095b313f",
   "metadata": {},
   "outputs": [
    {
     "name": "stdout",
     "output_type": "stream",
     "text": [
      "Python version\n",
      "3.11.5 | packaged by Anaconda, Inc. | (main, Sep 11 2023, 13:26:23) [MSC v.1916 64 bit (AMD64)]\n"
     ]
    }
   ],
   "source": [
    "#Q:2\n",
    "import sys\n",
    "\n",
    "def print_python_version():\n",
    "    print(\"Python version\")\n",
    "    print(sys.version)\n",
    "  \n",
    "\n",
    "print_python_version()\n"
   ]
  },
  {
   "cell_type": "code",
   "execution_count": 34,
   "id": "9b0c5b8e",
   "metadata": {},
   "outputs": [
    {
     "name": "stdout",
     "output_type": "stream",
     "text": [
      "Current date and time : \n",
      "2024-08-01 21:43:41\n"
     ]
    }
   ],
   "source": [
    "#Q:3\n",
    "import datetime\n",
    "\n",
    "now = datetime.datetime.now()\n",
    "\n",
    "print(\"Current date and time : \")\n",
    "\n",
    "print(now.strftime(\"%Y-%m-%d %H:%M:%S\"))\n"
   ]
  },
  {
   "cell_type": "code",
   "execution_count": 36,
   "id": "c8390488",
   "metadata": {},
   "outputs": [
    {
     "name": "stdout",
     "output_type": "stream",
     "text": [
      "Enter the radius of the circle: 45\n",
      "The area of the circle with radius 45.0 is: 6361.73\n"
     ]
    }
   ],
   "source": [
    "#Q:4\n",
    "import math\n",
    "\n",
    "radius = float(input(\"Enter the radius of the circle: \"))\n",
    "\n",
    "area = math.pi * (radius ** 2)\n",
    "\n",
    "print(f\"The area of the circle with radius {radius} is: {area:.2f}\")\n"
   ]
  },
  {
   "cell_type": "markdown",
   "id": "82af0881",
   "metadata": {},
   "source": [
    "# Reverse Name\n"
   ]
  },
  {
   "cell_type": "code",
   "execution_count": null,
   "id": "f10ff8a7",
   "metadata": {},
   "outputs": [],
   "source": [
    "var = Reverse_name\n",
    "Reverse_name = \"Hello My Name is Sharjeel Ahmed Khan\"[::-1]\n",
    "print(var)"
   ]
  },
  {
   "cell_type": "markdown",
   "id": "977332ad",
   "metadata": {},
   "source": [
    "# Using input Reverse Name"
   ]
  },
  {
   "cell_type": "code",
   "execution_count": 21,
   "id": "197fffe7",
   "metadata": {},
   "outputs": [
    {
     "name": "stdout",
     "output_type": "stream",
     "text": [
      "Please Enter Your First Name: Sharjeel\n",
      "Please Enter Your Last Name: Ahmed Khan\n",
      "('leejrahS', 'nahK demhA')\n"
     ]
    }
   ],
   "source": [
    "#Q:5\n",
    "First_Name = input(\"Please Enter Your First Name: \")\n",
    "Last_Name = input(\"Please Enter Your Last Name: \")\n",
    "print((First_Name[::-1] , Last_Name [::-1]))"
   ]
  },
  {
   "cell_type": "code",
   "execution_count": 23,
   "id": "51bffe5e",
   "metadata": {},
   "outputs": [
    {
     "name": "stdout",
     "output_type": "stream",
     "text": [
      "Enter Number: 3\n",
      "Enter Number: 3\n",
      "6\n"
     ]
    }
   ],
   "source": [
    "# Q:6\n",
    "Num1 = input(\"Enter Number: \")\n",
    "Num2 = input(\"Enter Number: \")\n",
    "Sum = int(Num1) + int(Num2)\n",
    "print(Sum)\n"
   ]
  },
  {
   "cell_type": "code",
   "execution_count": 32,
   "id": "d9a7f41f",
   "metadata": {},
   "outputs": [
    {
     "name": "stdout",
     "output_type": "stream",
     "text": [
      "Enter marks for Maths: 67\n",
      "Enter marks for English: 67\n",
      "Enter marks for Urdu: 67\n",
      "Enter marks for Chemistry: 67\n",
      "Enter marks for Physics: 67\n",
      "Maths: 67 (C)\n",
      "English: 67 (C)\n",
      "Urdu: 67 (C)\n",
      "Chemistry: 67 (C)\n",
      "Physics: 67 (C)\n",
      "\n",
      "Total Marks: 335\n",
      "Percentage: 67.0\n",
      "Overall Grade: C\n"
     ]
    }
   ],
   "source": [
    "#Q:7\n",
    "Subject1 = int(input(\"Enter marks for Maths: \"))\n",
    "Subject2 = int(input(\"Enter marks for English: \"))\n",
    "Subject3 = int(input(\"Enter marks for Urdu: \"))\n",
    "Subject4 = int(input(\"Enter marks for Chemistry: \"))\n",
    "Subject5 = int(input(\"Enter marks for Physics: \"))\n",
    "\n",
    "Total = Subject1 + Subject2 + Subject3 + Subject4 + Subject5\n",
    "Percentage = Total / 5\n",
    "\n",
    "def Student_Grade(marks):\n",
    "    if marks >= 80:\n",
    "        return 'A'\n",
    "    elif marks >= 70:\n",
    "        return 'B'\n",
    "    elif marks >= 60:\n",
    "        return 'C'\n",
    "    elif marks > 50:\n",
    "        return 'D'\n",
    "    else:\n",
    "        return 'Fail'\n",
    "\n",
    "\n",
    "overall_grade = Student_Grade(Percentage)\n",
    "\n",
    "print(f'Maths: {Subject1} ({Student_Grade(Subject1)})')\n",
    "print(f'English: {Subject2} ({Student_Grade(Subject2)})')\n",
    "print(f'Urdu: {Subject3} ({Student_Grade(Subject3)})')\n",
    "print(f'Chemistry: {Subject4} ({Student_Grade(Subject4)})')\n",
    "print(f'Physics: {Subject5} ({Student_Grade(Subject5)})')\n",
    "print(\"\\nTotal Marks:\", Total)\n",
    "print(\"Percentage:\", Percentage)\n",
    "print(\"Overall Grade:\", overall_grade)\n",
    "\n",
    "\n",
    "    \n",
    "    "
   ]
  },
  {
   "cell_type": "code",
   "execution_count": null,
   "id": "be556a11",
   "metadata": {},
   "outputs": [],
   "source": [
    "# Q:8\n",
    "number = int(input(\"Enter a number: \"))\n",
    "if number % 2 == 0:\n",
    "    print(f\"{number} is even.\")\n",
    "else:\n",
    "    print(f\"{number} is odd.\")\n"
   ]
  },
  {
   "cell_type": "code",
   "execution_count": 6,
   "id": "bd0c8805",
   "metadata": {},
   "outputs": [
    {
     "name": "stdout",
     "output_type": "stream",
     "text": [
      "6\n"
     ]
    }
   ],
   "source": [
    "# Q:9\n",
    "list1 = [3,6,8,9,0,3]\n",
    "print(len(list1))"
   ]
  },
  {
   "cell_type": "code",
   "execution_count": 9,
   "id": "74de9b5b",
   "metadata": {},
   "outputs": [
    {
     "name": "stdout",
     "output_type": "stream",
     "text": [
      "29\n"
     ]
    }
   ],
   "source": [
    "# Q:10\n",
    "list1 = [3,6,8,9,0,3]\n",
    "print(sum(list1))"
   ]
  },
  {
   "cell_type": "code",
   "execution_count": 10,
   "id": "a5041fcc",
   "metadata": {},
   "outputs": [
    {
     "name": "stdout",
     "output_type": "stream",
     "text": [
      "9\n"
     ]
    }
   ],
   "source": [
    "# Q:11\n",
    "list1 = [3,6,8,9,0,3]\n",
    "print(max(list1))"
   ]
  },
  {
   "cell_type": "code",
   "execution_count": 18,
   "id": "a25d3abd",
   "metadata": {},
   "outputs": [
    {
     "name": "stdout",
     "output_type": "stream",
     "text": [
      "1\n",
      "1\n",
      "2\n",
      "3\n"
     ]
    }
   ],
   "source": [
    "# Q:12\n",
    "a = [1, 1, 2, 3, 5, 8, 13, 21, 34, 55, 89]\n",
    "for number in a:\n",
    "    if number < 5:\n",
    "        print(number)"
   ]
  },
  {
   "cell_type": "code",
   "execution_count": null,
   "id": "2ea628eb",
   "metadata": {},
   "outputs": [],
   "source": []
  },
  {
   "cell_type": "code",
   "execution_count": null,
   "id": "352ef688",
   "metadata": {},
   "outputs": [],
   "source": [
    "\n"
   ]
  },
  {
   "cell_type": "code",
   "execution_count": null,
   "id": "39cc91b6",
   "metadata": {},
   "outputs": [],
   "source": [
    "\n"
   ]
  }
 ],
 "metadata": {
  "kernelspec": {
   "display_name": "Python 3 (ipykernel)",
   "language": "python",
   "name": "python3"
  },
  "language_info": {
   "codemirror_mode": {
    "name": "ipython",
    "version": 3
   },
   "file_extension": ".py",
   "mimetype": "text/x-python",
   "name": "python",
   "nbconvert_exporter": "python",
   "pygments_lexer": "ipython3",
   "version": "3.11.5"
  }
 },
 "nbformat": 4,
 "nbformat_minor": 5
}
