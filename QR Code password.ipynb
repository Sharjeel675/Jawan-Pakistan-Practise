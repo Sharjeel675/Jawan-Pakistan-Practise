{
 "cells": [
  {
   "cell_type": "code",
   "execution_count": 1,
   "id": "1fdf219b",
   "metadata": {},
   "outputs": [
    {
     "name": "stdout",
     "output_type": "stream",
     "text": [
      "Defaulting to user installation because normal site-packages is not writeable\n",
      "Collecting wifi-qrcode-generator\n",
      "  Downloading wifi_qrcode_generator-1.0.1-py3-none-any.whl.metadata (2.0 kB)\n",
      "Collecting qrcode[pil] (from wifi-qrcode-generator)\n",
      "  Downloading qrcode-8.0-py3-none-any.whl.metadata (17 kB)\n",
      "Requirement already satisfied: colorama in c:\\programdata\\anaconda3\\lib\\site-packages (from qrcode[pil]->wifi-qrcode-generator) (0.4.6)\n",
      "Requirement already satisfied: pillow>=9.1.0 in c:\\programdata\\anaconda3\\lib\\site-packages (from qrcode[pil]->wifi-qrcode-generator) (9.4.0)\n",
      "Downloading wifi_qrcode_generator-1.0.1-py3-none-any.whl (7.5 kB)\n",
      "Downloading qrcode-8.0-py3-none-any.whl (45 kB)\n",
      "Installing collected packages: qrcode, wifi-qrcode-generator\n",
      "Successfully installed qrcode-8.0 wifi-qrcode-generator-1.0.1\n",
      "Note: you may need to restart the kernel to use updated packages.\n"
     ]
    },
    {
     "name": "stderr",
     "output_type": "stream",
     "text": [
      "  WARNING: The script qr.exe is installed in 'C:\\Users\\hp\\AppData\\Roaming\\Python\\Python311\\Scripts' which is not on PATH.\n",
      "  Consider adding this directory to PATH or, if you prefer to suppress this warning, use --no-warn-script-location.\n",
      "  WARNING: The script wifi-qrcode-generator.exe is installed in 'C:\\Users\\hp\\AppData\\Roaming\\Python\\Python311\\Scripts' which is not on PATH.\n",
      "  Consider adding this directory to PATH or, if you prefer to suppress this warning, use --no-warn-script-location.\n"
     ]
    }
   ],
   "source": [
    "pip install wifi-qrcode-generator"
   ]
  },
  {
   "cell_type": "code",
   "execution_count": 3,
   "id": "e38a9a24",
   "metadata": {},
   "outputs": [],
   "source": [
    "from wifi_qrcode_generator import wifi_qrcode\n",
    "\n",
    "qr_code = wifi_qrcode('clcoding',hidden=False,authentication_type='WPA',password='Cl@2024')\n",
    "\n",
    "qr_code_img = qr_code.make_image()\n",
    "\n",
    "qr_code_img.save('wifi_qr_code.png')\n",
    "\n",
    "qr_code_img\n",
    "\n"
   ]
  },
  {
   "cell_type": "code",
   "execution_count": null,
   "id": "9e781c7e",
   "metadata": {},
   "outputs": [],
   "source": []
  }
 ],
 "metadata": {
  "kernelspec": {
   "display_name": "Python 3 (ipykernel)",
   "language": "python",
   "name": "python3"
  },
  "language_info": {
   "codemirror_mode": {
    "name": "ipython",
    "version": 3
   },
   "file_extension": ".py",
   "mimetype": "text/x-python",
   "name": "python",
   "nbconvert_exporter": "python",
   "pygments_lexer": "ipython3",
   "version": "3.11.5"
  }
 },
 "nbformat": 4,
 "nbformat_minor": 5
}
