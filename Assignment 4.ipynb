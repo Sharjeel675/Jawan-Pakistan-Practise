{
 "cells": [
  {
   "cell_type": "markdown",
   "id": "f961d065",
   "metadata": {},
   "source": [
    "1. Write a Python program to construct the following pattern, using a nested for loop.\n",
    "\n",
    "*\n",
    "* *\n",
    "* * *\n",
    "* * * *\n",
    "* * * * *\n",
    "* * * *\n",
    "* * *\n",
    "* *\n",
    "*"
   ]
  },
  {
   "cell_type": "code",
   "execution_count": 7,
   "id": "b270d8f9",
   "metadata": {},
   "outputs": [],
   "source": []
  },
  {
   "cell_type": "markdown",
   "id": "a17807d7",
   "metadata": {},
   "source": [
    "2. Write a Python program to check whether an alphabet which is given by user\n",
    "in input prompt is a vowel or consonant."
   ]
  },
  {
   "cell_type": "code",
   "execution_count": null,
   "id": "2279eea6",
   "metadata": {},
   "outputs": [],
   "source": [
    "vowel = ['a', 'e', 'i', 'o', 'u', 's']\n",
    "user_input = input(\"Enter a character: \")\n",
    "\n",
    "if user_input in vowel:\n",
    "    print(f'This character {user_input} is a vowel or \"s\"')\n",
    "else:\n",
    "    print(f'This character {user_input} is not a vowel')\n"
   ]
  },
  {
   "cell_type": "markdown",
   "id": "8f58ef30",
   "metadata": {},
   "source": [
    "3. Write a Python program to create the multiplication table (from 1 to 10)\n",
    "of a number and the number will be given by user in input prompt.\n",
    "Expected Output:\n"
   ]
  },
  {
   "cell_type": "code",
   "execution_count": 2,
   "id": "d97de88b",
   "metadata": {},
   "outputs": [
    {
     "name": "stdout",
     "output_type": "stream",
     "text": [
      "Enter a number6\n",
      "6 x 1 = 6\n",
      "6 x 2 = 12\n",
      "6 x 3 = 18\n",
      "6 x 4 = 24\n",
      "6 x 5 = 30\n",
      "6 x 6 = 36\n",
      "6 x 7 = 42\n",
      "6 x 8 = 48\n",
      "6 x 9 = 54\n",
      "6 x 10 = 60\n"
     ]
    }
   ],
   "source": [
    "n = int(input(\"Enter a number\"))\n",
    "for i in range(1,11):\n",
    "    print(n, 'x', i, '=', n * i)"
   ]
  },
  {
   "cell_type": "markdown",
   "id": "5fbd9709",
   "metadata": {},
   "source": [
    ". Write a Python program to guess a number between 1 and 9.\n",
    "Note : User is prompted to enter a guess. If the user guesses wrong then\n",
    "the prompt appears again until the guess is correct, on successful guess,\n",
    "user will get a \"Well guessed!\" message, and the program will exit"
   ]
  },
  {
   "cell_type": "code",
   "execution_count": 2,
   "id": "d856adfc",
   "metadata": {},
   "outputs": [
    {
     "name": "stdout",
     "output_type": "stream",
     "text": [
      "Guess a number: 3\n",
      "Incorrect!\n",
      "\n",
      "Guess a number: 2\n",
      "Incorrect!\n",
      "\n",
      "Guess a number: 2\n",
      "Incorrect!\n",
      "\n",
      "Guess a number: 2\n",
      "Incorrect!\n",
      "\n",
      "Guess a number: 3\n",
      "Incorrect!\n",
      "\n",
      "Guess a number: 3\n",
      "Incorrect!\n",
      "\n",
      "Guess a number: 32\n",
      "Incorrect!\n",
      "\n",
      "Guess a number: 3\n",
      "Incorrect!\n",
      "\n",
      "Guess a number: \n"
     ]
    },
    {
     "ename": "ValueError",
     "evalue": "invalid literal for int() with base 10: ''",
     "output_type": "error",
     "traceback": [
      "\u001b[1;31m---------------------------------------------------------------------------\u001b[0m",
      "\u001b[1;31mValueError\u001b[0m                                Traceback (most recent call last)",
      "Cell \u001b[1;32mIn[2], line 5\u001b[0m\n\u001b[0;32m      2\u001b[0m g \u001b[38;5;241m=\u001b[39m rt(\u001b[38;5;241m1\u001b[39m,\u001b[38;5;241m9\u001b[39m)\n\u001b[0;32m      4\u001b[0m \u001b[38;5;28;01mwhile\u001b[39;00m \u001b[38;5;28;01mTrue\u001b[39;00m:\n\u001b[1;32m----> 5\u001b[0m     ug \u001b[38;5;241m=\u001b[39m \u001b[38;5;28mint\u001b[39m(\u001b[38;5;28minput\u001b[39m(\u001b[38;5;124m\"\u001b[39m\u001b[38;5;124mGuess a number: \u001b[39m\u001b[38;5;124m\"\u001b[39m))\n\u001b[0;32m      6\u001b[0m     \u001b[38;5;28;01mif\u001b[39;00m g\u001b[38;5;241m==\u001b[39mug:\n\u001b[0;32m      7\u001b[0m         \u001b[38;5;28mprint\u001b[39m(\u001b[38;5;124m\"\u001b[39m\u001b[38;5;124mWell guessed!\u001b[39m\u001b[38;5;124m\"\u001b[39m)\n",
      "\u001b[1;31mValueError\u001b[0m: invalid literal for int() with base 10: ''"
     ]
    }
   ],
   "source": [
    "from random import randint as rt\n",
    "g = rt(1,9)\n",
    "\n",
    "while True:\n",
    "    ug = int(input(\"Guess a number: \"))\n",
    "    if g==ug:\n",
    "        print(\"Well guessed!\")\n",
    "        break\n",
    "    else:\n",
    "        print(\"Incorrect!\\n\")"
   ]
  },
  {
   "cell_type": "code",
   "execution_count": null,
   "id": "3351e065",
   "metadata": {
    "scrolled": true
   },
   "outputs": [],
   "source": [
    "import random\n",
    "\n",
    "target_number = random.randint(1, 9)\n",
    "while True:\n",
    "    user_guess = int(input(\"Guess a number between 1 and 9: \")) \n",
    "    if user_guess == target_number:\n",
    "        print(\"Well guessed!\")\n",
    "        break  \n",
    "    else:\n",
    "        print(\"Incorrect! Try again.\\n\")\n"
   ]
  },
  {
   "cell_type": "markdown",
   "id": "68057a86",
   "metadata": {},
   "source": [
    "5. Write a  Python program to filter the height and width of students, which are stored in a dictionary.\n",
    "Original Dictionary:\n",
    "{'Cierra Vega': (6.2, 70), 'Alden Cantrell': (5.9, 65), 'Kierra Gentry': (6.0, 68), 'Pierre Cox': (5.8, 66)}\n",
    "Height > 6ft and Weight> 70kg:\n",
    "{'Cierra Vega': (6.2, 70)}"
   ]
  },
  {
   "cell_type": "code",
   "execution_count": 2,
   "id": "f44cca59",
   "metadata": {},
   "outputs": [
    {
     "name": "stdout",
     "output_type": "stream",
     "text": [
      "Height > 6ft and Weight > 70kg: {}\n"
     ]
    }
   ],
   "source": [
    "\n",
    "students = {\n",
    "    'Cierra Vega': (6.2, 70),\n",
    "    'Alden Cantrell': (5.9, 65),\n",
    "    'Kierra Gentry': (6.0, 68),\n",
    "    'Pierre Cox': (5.8, 66)\n",
    "}\n",
    "\n",
    "filtered_students = {name: (height, weight) for name, (height, weight) in students.items() if height > 6.0 and weight > 70}\n",
    "\n",
    "print(\"Height > 6ft and Weight > 70kg:\", filtered_students)\n"
   ]
  },
  {
   "cell_type": "markdown",
   "id": "c1bf2b74",
   "metadata": {},
   "source": [
    "6. A  Python dictionary contains List as a value. Write a Python program to clear the list values in the said dictionary.\n",
    "Original Dictionary:\n",
    "{'C1': [10, 20, 30], 'C2': [20, 30, 40], 'C3': [12, 34]}\n",
    "Clear the list values in the said dictionary:\n",
    "{'C1': [], 'C2': [], 'C3': []}"
   ]
  },
  {
   "cell_type": "code",
   "execution_count": null,
   "id": "9fa0199f",
   "metadata": {},
   "outputs": [],
   "source": [
    "dict_with_lists = {\n",
    "    'C1': [10, 20, 30],\n",
    "    'C2': [20, 30, 40],\n",
    "    'C3': [12, 34]\n",
    "}\n",
    "\n",
    "for key in dict_with_lists:\n",
    "    dict_with_lists[key] = []\n",
    "\n",
    "print(\"Clear the list values in the said dictionary:\")\n",
    "print(dict_with_lists)\n"
   ]
  },
  {
   "cell_type": "markdown",
   "id": "74f1d93d",
   "metadata": {},
   "source": [
    "7.  Rivers: Make a dictionary containing three major rivers and the country\n",
    "each river runs through. One key-value pair might be 'nile': 'egypt'.\n",
    "• Use a loop to print a sentence about each river, such as The Nile runs\n",
    "through Egypt.\n",
    "• Use a loop to print the name of each river included in the dictionary.\n",
    "• Use a loop to print the name of each country included in the dictionary."
   ]
  },
  {
   "cell_type": "code",
   "execution_count": 3,
   "id": "ae9f4192",
   "metadata": {},
   "outputs": [
    {
     "name": "stdout",
     "output_type": "stream",
     "text": [
      "The Nile runs through Egypt.\n",
      "The Amazon runs through Brazil.\n",
      "The Yangtze runs through China.\n",
      "\n",
      "Rivers:\n",
      "Nile\n",
      "Amazon\n",
      "Yangtze\n",
      "\n",
      "Countries:\n",
      "Egypt\n",
      "Brazil\n",
      "China\n"
     ]
    }
   ],
   "source": [
    "rivers = {\n",
    "    'nile': 'egypt',\n",
    "    'amazon': 'brazil',\n",
    "    'yangtze': 'china'\n",
    "}\n",
    "\n",
    "for river, country in rivers.items():\n",
    "    print(f\"The {river.title()} runs through {country.title()}.\")\n",
    "print(\"\\nRivers:\")\n",
    "for river in rivers.keys():\n",
    "    print(river.title())\n",
    "print(\"\\nCountries:\")\n",
    "for country in rivers.values():\n",
    "    print(country.title())\n"
   ]
  },
  {
   "cell_type": "markdown",
   "id": "94aae80a",
   "metadata": {},
   "source": [
    "8. Movie Tickets: A movie theater charges different ticket prices depending on\n",
    "a person’s age. If a person is under the age of 3, the ticket is free; if they are\n",
    "between 3 and 12, the ticket is $10; and if they are over age 12, the ticket is\n",
    "$15. Write a loop in which you ask users their age, and then tell them the cost\n",
    "of their movie ticket."
   ]
  },
  {
   "cell_type": "code",
   "execution_count": 4,
   "id": "352a0a37",
   "metadata": {},
   "outputs": [
    {
     "name": "stdout",
     "output_type": "stream",
     "text": [
      "Please enter your age (or type 'quit' to exit): 23\n",
      "The cost of your movie ticket is $15.\n",
      "Please enter your age (or type 'quit' to exit): quit\n"
     ]
    }
   ],
   "source": [
    "while True:\n",
    "    \n",
    "    age = input(\"Please enter your age (or type 'quit' to exit): \")\n",
    "    \n",
    "    if age.lower() == 'quit':  \n",
    "        break  \n",
    "    age = int(age)\n",
    "        if age < 3:\n",
    "        ticket_price = \"free\"\n",
    "    elif 3 <= age <= 12:\n",
    "        ticket_price = \"$10\"\n",
    "    else:\n",
    "        ticket_price = \"$15\"\n",
    "    \n",
    "    print(f\"The cost of your movie ticket is {ticket_price}.\")\n"
   ]
  },
  {
   "cell_type": "code",
   "execution_count": null,
   "id": "daf10153",
   "metadata": {},
   "outputs": [],
   "source": []
  }
 ],
 "metadata": {
  "kernelspec": {
   "display_name": "Python 3 (ipykernel)",
   "language": "python",
   "name": "python3"
  },
  "language_info": {
   "codemirror_mode": {
    "name": "ipython",
    "version": 3
   },
   "file_extension": ".py",
   "mimetype": "text/x-python",
   "name": "python",
   "nbconvert_exporter": "python",
   "pygments_lexer": "ipython3",
   "version": "3.11.5"
  }
 },
 "nbformat": 4,
 "nbformat_minor": 5
}
